{
  "cells": [
    {
      "cell_type": "code",
      "execution_count": 1,
      "id": "5429a667",
      "metadata": {
        "id": "5429a667",
        "colab": {
          "base_uri": "https://localhost:8080/"
        },
        "outputId": "79df5208-b424-48f6-ffdd-3ae2f2b76021"
      },
      "outputs": [
        {
          "output_type": "stream",
          "name": "stderr",
          "text": [
            "[nltk_data] Downloading package punkt to /root/nltk_data...\n",
            "[nltk_data]   Unzipping tokenizers/punkt.zip.\n"
          ]
        }
      ],
      "source": [
        "import pickle\n",
        "import pandas as pd\n",
        "import seaborn as sns\n",
        "import matplotlib.pyplot as plt\n",
        "from collections import Counter\n",
        "\n",
        "import nltk\n",
        "from nltk.corpus import stopwords\n",
        "from nltk.stem import PorterStemmer, LancasterStemmer\n",
        "from nltk.tokenize import sent_tokenize, word_tokenize, RegexpTokenizer\n",
        "\n",
        "from sklearn.metrics import accuracy_score\n",
        "from sklearn.linear_model import LogisticRegression\n",
        "from sklearn.model_selection import train_test_split\n",
        "from sklearn.feature_extraction.text import CountVectorizer, TfidfVectorizer\n",
        "\n",
        "import nltk\n",
        "nltk.download('punkt')\n",
        "\n",
        "%matplotlib inline"
      ]
    },
    {
      "cell_type": "markdown",
      "id": "43ad37d3",
      "metadata": {
        "id": "43ad37d3"
      },
      "source": [
        "# Data Exploration"
      ]
    },
    {
      "cell_type": "code",
      "source": [
        "from google.colab import drive\n",
        "drive.mount('/content/drive')\n",
        "\n",
        "# df = pd.read_excel('/content/drive/My Drive/Colab Notebooks/GitHub/(Project Pro)NLP/Canva_reviews.xlsx')\n",
        "data = pd.read_excel('/content/drive/My Drive/Canva_reviews.xlsx')\n",
        "# #When done,"
      ],
      "metadata": {
        "colab": {
          "base_uri": "https://localhost:8080/"
        },
        "id": "hCfmSHSA-dSJ",
        "outputId": "671901f1-5867-476d-eabc-0b221ff4529a"
      },
      "id": "hCfmSHSA-dSJ",
      "execution_count": 2,
      "outputs": [
        {
          "output_type": "stream",
          "name": "stdout",
          "text": [
            "Mounted at /content/drive\n"
          ]
        }
      ]
    },
    {
      "cell_type": "code",
      "execution_count": 3,
      "id": "153e1475",
      "metadata": {
        "colab": {
          "base_uri": "https://localhost:8080/"
        },
        "id": "153e1475",
        "outputId": "bd12d440-d178-40f0-a4e8-15b0fef91402"
      },
      "outputs": [
        {
          "output_type": "execute_result",
          "data": {
            "text/plain": [
              "(1500, 13)"
            ]
          },
          "metadata": {},
          "execution_count": 3
        }
      ],
      "source": [
        "data.shape"
      ]
    },
    {
      "cell_type": "code",
      "execution_count": 4,
      "id": "18927958",
      "metadata": {
        "id": "18927958",
        "outputId": "415eab95-a194-4e7f-e80c-0770426b765a",
        "colab": {
          "base_uri": "https://localhost:8080/",
          "height": 476
        }
      },
      "outputs": [
        {
          "output_type": "execute_result",
          "data": {
            "text/plain": [
              "                                            reviewId            userName  \\\n",
              "0  gp:AOqpTOFxf3fttcT5DSvFIn9KPp5FErgH9yC533Fmoxv...      Donna Caritero   \n",
              "1  gp:AOqpTOEq6rNIWLnPV4KFTctWvm0mpGEQljtD6mvy1H-...  Soumi Mukhopadhyay   \n",
              "2  gp:AOqpTOE86hSyPRHZgYt28Uk5zGe4FZGb1hkmtFDiYJ2...   Theknown _unknown   \n",
              "\n",
              "                                           userImage  \\\n",
              "0  https://play-lh.googleusercontent.com/a-/AOh14...   \n",
              "1  https://play-lh.googleusercontent.com/a-/AOh14...   \n",
              "2  https://play-lh.googleusercontent.com/a-/AOh14...   \n",
              "\n",
              "                                              review  score  thumbsUpCount  \\\n",
              "0  Overall it's really an amazing app. I've been ...      4            528   \n",
              "1  Hey! Yes I gave a 5 star rating... coz I belie...      5            351   \n",
              "2  Canva used to be a good app! But recently I've...      1            160   \n",
              "\n",
              "  reviewCreatedVersion                  at  \\\n",
              "0              2.116.0 2021-06-17 07:18:54   \n",
              "1              2.116.0 2021-06-17 19:18:28   \n",
              "2              2.116.0 2021-06-23 19:13:28   \n",
              "\n",
              "                                        replyContent           repliedAt  \\\n",
              "0  Hi Donna. We are sorry that your text or desig... 2021-06-19 21:24:32   \n",
              "1                                                NaN                 NaT   \n",
              "2  Hi there. We're sorry to hear that you are hav... 2021-06-26 20:20:56   \n",
              "\n",
              "  Sentiment              Sub Category    Sub Category_test  \n",
              "0  Negative                       NaN  bug_picture_quality  \n",
              "1  Positive           extremely_happy                  NaN  \n",
              "2  Negative  saving_downloading_issue     bug_saving_files  "
            ],
            "text/html": [
              "\n",
              "  <div id=\"df-70e13a0c-f421-4506-8b8b-af6eed125599\" class=\"colab-df-container\">\n",
              "    <div>\n",
              "<style scoped>\n",
              "    .dataframe tbody tr th:only-of-type {\n",
              "        vertical-align: middle;\n",
              "    }\n",
              "\n",
              "    .dataframe tbody tr th {\n",
              "        vertical-align: top;\n",
              "    }\n",
              "\n",
              "    .dataframe thead th {\n",
              "        text-align: right;\n",
              "    }\n",
              "</style>\n",
              "<table border=\"1\" class=\"dataframe\">\n",
              "  <thead>\n",
              "    <tr style=\"text-align: right;\">\n",
              "      <th></th>\n",
              "      <th>reviewId</th>\n",
              "      <th>userName</th>\n",
              "      <th>userImage</th>\n",
              "      <th>review</th>\n",
              "      <th>score</th>\n",
              "      <th>thumbsUpCount</th>\n",
              "      <th>reviewCreatedVersion</th>\n",
              "      <th>at</th>\n",
              "      <th>replyContent</th>\n",
              "      <th>repliedAt</th>\n",
              "      <th>Sentiment</th>\n",
              "      <th>Sub Category</th>\n",
              "      <th>Sub Category_test</th>\n",
              "    </tr>\n",
              "  </thead>\n",
              "  <tbody>\n",
              "    <tr>\n",
              "      <th>0</th>\n",
              "      <td>gp:AOqpTOFxf3fttcT5DSvFIn9KPp5FErgH9yC533Fmoxv...</td>\n",
              "      <td>Donna Caritero</td>\n",
              "      <td>https://play-lh.googleusercontent.com/a-/AOh14...</td>\n",
              "      <td>Overall it's really an amazing app. I've been ...</td>\n",
              "      <td>4</td>\n",
              "      <td>528</td>\n",
              "      <td>2.116.0</td>\n",
              "      <td>2021-06-17 07:18:54</td>\n",
              "      <td>Hi Donna. We are sorry that your text or desig...</td>\n",
              "      <td>2021-06-19 21:24:32</td>\n",
              "      <td>Negative</td>\n",
              "      <td>NaN</td>\n",
              "      <td>bug_picture_quality</td>\n",
              "    </tr>\n",
              "    <tr>\n",
              "      <th>1</th>\n",
              "      <td>gp:AOqpTOEq6rNIWLnPV4KFTctWvm0mpGEQljtD6mvy1H-...</td>\n",
              "      <td>Soumi Mukhopadhyay</td>\n",
              "      <td>https://play-lh.googleusercontent.com/a-/AOh14...</td>\n",
              "      <td>Hey! Yes I gave a 5 star rating... coz I belie...</td>\n",
              "      <td>5</td>\n",
              "      <td>351</td>\n",
              "      <td>2.116.0</td>\n",
              "      <td>2021-06-17 19:18:28</td>\n",
              "      <td>NaN</td>\n",
              "      <td>NaT</td>\n",
              "      <td>Positive</td>\n",
              "      <td>extremely_happy</td>\n",
              "      <td>NaN</td>\n",
              "    </tr>\n",
              "    <tr>\n",
              "      <th>2</th>\n",
              "      <td>gp:AOqpTOE86hSyPRHZgYt28Uk5zGe4FZGb1hkmtFDiYJ2...</td>\n",
              "      <td>Theknown _unknown</td>\n",
              "      <td>https://play-lh.googleusercontent.com/a-/AOh14...</td>\n",
              "      <td>Canva used to be a good app! But recently I've...</td>\n",
              "      <td>1</td>\n",
              "      <td>160</td>\n",
              "      <td>2.116.0</td>\n",
              "      <td>2021-06-23 19:13:28</td>\n",
              "      <td>Hi there. We're sorry to hear that you are hav...</td>\n",
              "      <td>2021-06-26 20:20:56</td>\n",
              "      <td>Negative</td>\n",
              "      <td>saving_downloading_issue</td>\n",
              "      <td>bug_saving_files</td>\n",
              "    </tr>\n",
              "  </tbody>\n",
              "</table>\n",
              "</div>\n",
              "    <div class=\"colab-df-buttons\">\n",
              "\n",
              "  <div class=\"colab-df-container\">\n",
              "    <button class=\"colab-df-convert\" onclick=\"convertToInteractive('df-70e13a0c-f421-4506-8b8b-af6eed125599')\"\n",
              "            title=\"Convert this dataframe to an interactive table.\"\n",
              "            style=\"display:none;\">\n",
              "\n",
              "  <svg xmlns=\"http://www.w3.org/2000/svg\" height=\"24px\" viewBox=\"0 -960 960 960\">\n",
              "    <path d=\"M120-120v-720h720v720H120Zm60-500h600v-160H180v160Zm220 220h160v-160H400v160Zm0 220h160v-160H400v160ZM180-400h160v-160H180v160Zm440 0h160v-160H620v160ZM180-180h160v-160H180v160Zm440 0h160v-160H620v160Z\"/>\n",
              "  </svg>\n",
              "    </button>\n",
              "\n",
              "  <style>\n",
              "    .colab-df-container {\n",
              "      display:flex;\n",
              "      gap: 12px;\n",
              "    }\n",
              "\n",
              "    .colab-df-convert {\n",
              "      background-color: #E8F0FE;\n",
              "      border: none;\n",
              "      border-radius: 50%;\n",
              "      cursor: pointer;\n",
              "      display: none;\n",
              "      fill: #1967D2;\n",
              "      height: 32px;\n",
              "      padding: 0 0 0 0;\n",
              "      width: 32px;\n",
              "    }\n",
              "\n",
              "    .colab-df-convert:hover {\n",
              "      background-color: #E2EBFA;\n",
              "      box-shadow: 0px 1px 2px rgba(60, 64, 67, 0.3), 0px 1px 3px 1px rgba(60, 64, 67, 0.15);\n",
              "      fill: #174EA6;\n",
              "    }\n",
              "\n",
              "    .colab-df-buttons div {\n",
              "      margin-bottom: 4px;\n",
              "    }\n",
              "\n",
              "    [theme=dark] .colab-df-convert {\n",
              "      background-color: #3B4455;\n",
              "      fill: #D2E3FC;\n",
              "    }\n",
              "\n",
              "    [theme=dark] .colab-df-convert:hover {\n",
              "      background-color: #434B5C;\n",
              "      box-shadow: 0px 1px 3px 1px rgba(0, 0, 0, 0.15);\n",
              "      filter: drop-shadow(0px 1px 2px rgba(0, 0, 0, 0.3));\n",
              "      fill: #FFFFFF;\n",
              "    }\n",
              "  </style>\n",
              "\n",
              "    <script>\n",
              "      const buttonEl =\n",
              "        document.querySelector('#df-70e13a0c-f421-4506-8b8b-af6eed125599 button.colab-df-convert');\n",
              "      buttonEl.style.display =\n",
              "        google.colab.kernel.accessAllowed ? 'block' : 'none';\n",
              "\n",
              "      async function convertToInteractive(key) {\n",
              "        const element = document.querySelector('#df-70e13a0c-f421-4506-8b8b-af6eed125599');\n",
              "        const dataTable =\n",
              "          await google.colab.kernel.invokeFunction('convertToInteractive',\n",
              "                                                    [key], {});\n",
              "        if (!dataTable) return;\n",
              "\n",
              "        const docLinkHtml = 'Like what you see? Visit the ' +\n",
              "          '<a target=\"_blank\" href=https://colab.research.google.com/notebooks/data_table.ipynb>data table notebook</a>'\n",
              "          + ' to learn more about interactive tables.';\n",
              "        element.innerHTML = '';\n",
              "        dataTable['output_type'] = 'display_data';\n",
              "        await google.colab.output.renderOutput(dataTable, element);\n",
              "        const docLink = document.createElement('div');\n",
              "        docLink.innerHTML = docLinkHtml;\n",
              "        element.appendChild(docLink);\n",
              "      }\n",
              "    </script>\n",
              "  </div>\n",
              "\n",
              "\n",
              "<div id=\"df-77989db1-8320-4f26-8654-6a02649f8728\">\n",
              "  <button class=\"colab-df-quickchart\" onclick=\"quickchart('df-77989db1-8320-4f26-8654-6a02649f8728')\"\n",
              "            title=\"Suggest charts\"\n",
              "            style=\"display:none;\">\n",
              "\n",
              "<svg xmlns=\"http://www.w3.org/2000/svg\" height=\"24px\"viewBox=\"0 0 24 24\"\n",
              "     width=\"24px\">\n",
              "    <g>\n",
              "        <path d=\"M19 3H5c-1.1 0-2 .9-2 2v14c0 1.1.9 2 2 2h14c1.1 0 2-.9 2-2V5c0-1.1-.9-2-2-2zM9 17H7v-7h2v7zm4 0h-2V7h2v10zm4 0h-2v-4h2v4z\"/>\n",
              "    </g>\n",
              "</svg>\n",
              "  </button>\n",
              "\n",
              "<style>\n",
              "  .colab-df-quickchart {\n",
              "      --bg-color: #E8F0FE;\n",
              "      --fill-color: #1967D2;\n",
              "      --hover-bg-color: #E2EBFA;\n",
              "      --hover-fill-color: #174EA6;\n",
              "      --disabled-fill-color: #AAA;\n",
              "      --disabled-bg-color: #DDD;\n",
              "  }\n",
              "\n",
              "  [theme=dark] .colab-df-quickchart {\n",
              "      --bg-color: #3B4455;\n",
              "      --fill-color: #D2E3FC;\n",
              "      --hover-bg-color: #434B5C;\n",
              "      --hover-fill-color: #FFFFFF;\n",
              "      --disabled-bg-color: #3B4455;\n",
              "      --disabled-fill-color: #666;\n",
              "  }\n",
              "\n",
              "  .colab-df-quickchart {\n",
              "    background-color: var(--bg-color);\n",
              "    border: none;\n",
              "    border-radius: 50%;\n",
              "    cursor: pointer;\n",
              "    display: none;\n",
              "    fill: var(--fill-color);\n",
              "    height: 32px;\n",
              "    padding: 0;\n",
              "    width: 32px;\n",
              "  }\n",
              "\n",
              "  .colab-df-quickchart:hover {\n",
              "    background-color: var(--hover-bg-color);\n",
              "    box-shadow: 0 1px 2px rgba(60, 64, 67, 0.3), 0 1px 3px 1px rgba(60, 64, 67, 0.15);\n",
              "    fill: var(--button-hover-fill-color);\n",
              "  }\n",
              "\n",
              "  .colab-df-quickchart-complete:disabled,\n",
              "  .colab-df-quickchart-complete:disabled:hover {\n",
              "    background-color: var(--disabled-bg-color);\n",
              "    fill: var(--disabled-fill-color);\n",
              "    box-shadow: none;\n",
              "  }\n",
              "\n",
              "  .colab-df-spinner {\n",
              "    border: 2px solid var(--fill-color);\n",
              "    border-color: transparent;\n",
              "    border-bottom-color: var(--fill-color);\n",
              "    animation:\n",
              "      spin 1s steps(1) infinite;\n",
              "  }\n",
              "\n",
              "  @keyframes spin {\n",
              "    0% {\n",
              "      border-color: transparent;\n",
              "      border-bottom-color: var(--fill-color);\n",
              "      border-left-color: var(--fill-color);\n",
              "    }\n",
              "    20% {\n",
              "      border-color: transparent;\n",
              "      border-left-color: var(--fill-color);\n",
              "      border-top-color: var(--fill-color);\n",
              "    }\n",
              "    30% {\n",
              "      border-color: transparent;\n",
              "      border-left-color: var(--fill-color);\n",
              "      border-top-color: var(--fill-color);\n",
              "      border-right-color: var(--fill-color);\n",
              "    }\n",
              "    40% {\n",
              "      border-color: transparent;\n",
              "      border-right-color: var(--fill-color);\n",
              "      border-top-color: var(--fill-color);\n",
              "    }\n",
              "    60% {\n",
              "      border-color: transparent;\n",
              "      border-right-color: var(--fill-color);\n",
              "    }\n",
              "    80% {\n",
              "      border-color: transparent;\n",
              "      border-right-color: var(--fill-color);\n",
              "      border-bottom-color: var(--fill-color);\n",
              "    }\n",
              "    90% {\n",
              "      border-color: transparent;\n",
              "      border-bottom-color: var(--fill-color);\n",
              "    }\n",
              "  }\n",
              "</style>\n",
              "\n",
              "  <script>\n",
              "    async function quickchart(key) {\n",
              "      const quickchartButtonEl =\n",
              "        document.querySelector('#' + key + ' button');\n",
              "      quickchartButtonEl.disabled = true;  // To prevent multiple clicks.\n",
              "      quickchartButtonEl.classList.add('colab-df-spinner');\n",
              "      try {\n",
              "        const charts = await google.colab.kernel.invokeFunction(\n",
              "            'suggestCharts', [key], {});\n",
              "      } catch (error) {\n",
              "        console.error('Error during call to suggestCharts:', error);\n",
              "      }\n",
              "      quickchartButtonEl.classList.remove('colab-df-spinner');\n",
              "      quickchartButtonEl.classList.add('colab-df-quickchart-complete');\n",
              "    }\n",
              "    (() => {\n",
              "      let quickchartButtonEl =\n",
              "        document.querySelector('#df-77989db1-8320-4f26-8654-6a02649f8728 button');\n",
              "      quickchartButtonEl.style.display =\n",
              "        google.colab.kernel.accessAllowed ? 'block' : 'none';\n",
              "    })();\n",
              "  </script>\n",
              "</div>\n",
              "    </div>\n",
              "  </div>\n"
            ],
            "application/vnd.google.colaboratory.intrinsic+json": {
              "type": "dataframe",
              "variable_name": "data",
              "summary": "{\n  \"name\": \"data\",\n  \"rows\": 1500,\n  \"fields\": [\n    {\n      \"column\": \"reviewId\",\n      \"properties\": {\n        \"dtype\": \"string\",\n        \"num_unique_values\": 1500,\n        \"samples\": [\n          \"gp:AOqpTOGCvl7EpTNT8Bpww2dwKH2FR7yQMBtUcMmCx3kRZzW7iGTvgAw9eqO-4d6OziisoJanCTqW_UAYTqWC4IU\",\n          \"gp:AOqpTOHHFDIwV9q33wBfRpebxVaY71-cNV2r2Lf941ZI4HGSZZ-eyCBvgn1z5bVTcDtwJyTZW1-LMCACM2jOUNE\",\n          \"gp:AOqpTOEcB2XOMGMSKEUAIZzKDYIg7WTVWAa-o2xQJKY_wlQvdNS0dgTa3mDE1llZhlo-mhuuCC2YFgmH-RfhPKY\"\n        ],\n        \"semantic_type\": \"\",\n        \"description\": \"\"\n      }\n    },\n    {\n      \"column\": \"userName\",\n      \"properties\": {\n        \"dtype\": \"string\",\n        \"num_unique_values\": 1500,\n        \"samples\": [\n          \"Smita Rai\",\n          \"Tammy Roy\",\n          \"Wentworth Derrick\"\n        ],\n        \"semantic_type\": \"\",\n        \"description\": \"\"\n      }\n    },\n    {\n      \"column\": \"userImage\",\n      \"properties\": {\n        \"dtype\": \"string\",\n        \"num_unique_values\": 1500,\n        \"samples\": [\n          \"https://play-lh.googleusercontent.com/a-/AOh14Gg-qrRJBHc-lE0sQFYut-dwN87LEWAUIKbv29hDhA\",\n          \"https://play-lh.googleusercontent.com/a-/AOh14GgwkSH0nuf5w3KBgb-cLyYorS65uAWesjOmxzOS\",\n          \"https://play-lh.googleusercontent.com/a-/AOh14Gj5cCVlkrpoKDw1Vv8wwQ-Ed_XazYoEioKGENQHRQ\"\n        ],\n        \"semantic_type\": \"\",\n        \"description\": \"\"\n      }\n    },\n    {\n      \"column\": \"review\",\n      \"properties\": {\n        \"dtype\": \"string\",\n        \"num_unique_values\": 1500,\n        \"samples\": [\n          \"Superb app lost of features just one problems is there that it is a bit expensive for students like us.\",\n          \"Loving how easy it is to get great ideas and turn them into something amazing! Thank you to the developers of this app!\",\n          \"Just what I've been looking for, very convenient for me.\"\n        ],\n        \"semantic_type\": \"\",\n        \"description\": \"\"\n      }\n    },\n    {\n      \"column\": \"score\",\n      \"properties\": {\n        \"dtype\": \"number\",\n        \"std\": 1,\n        \"min\": 1,\n        \"max\": 5,\n        \"num_unique_values\": 5,\n        \"samples\": [\n          5,\n          3,\n          1\n        ],\n        \"semantic_type\": \"\",\n        \"description\": \"\"\n      }\n    },\n    {\n      \"column\": \"thumbsUpCount\",\n      \"properties\": {\n        \"dtype\": \"number\",\n        \"std\": 18,\n        \"min\": 0,\n        \"max\": 528,\n        \"num_unique_values\": 26,\n        \"samples\": [\n          102,\n          10,\n          528\n        ],\n        \"semantic_type\": \"\",\n        \"description\": \"\"\n      }\n    },\n    {\n      \"column\": \"reviewCreatedVersion\",\n      \"properties\": {\n        \"dtype\": \"category\",\n        \"num_unique_values\": 23,\n        \"samples\": [\n          \"2.126.1\",\n          \"2.117.1\",\n          \"2.116.0\"\n        ],\n        \"semantic_type\": \"\",\n        \"description\": \"\"\n      }\n    },\n    {\n      \"column\": \"at\",\n      \"properties\": {\n        \"dtype\": \"date\",\n        \"min\": \"2021-06-16 15:54:36\",\n        \"max\": \"2021-09-13 21:43:15\",\n        \"num_unique_values\": 1500,\n        \"samples\": [\n          \"2021-07-21 10:37:38\",\n          \"2021-08-18 03:43:12\",\n          \"2021-07-05 14:44:08\"\n        ],\n        \"semantic_type\": \"\",\n        \"description\": \"\"\n      }\n    },\n    {\n      \"column\": \"replyContent\",\n      \"properties\": {\n        \"dtype\": \"category\",\n        \"num_unique_values\": 457,\n        \"samples\": [\n          \"Hi Gerald, we're sorry if your unable to download or share your designs. We want to make sure that you are properly assisted if you encountered any issues. Please provide us more details through here: canva.me/android. Don't forget to check for updates to get all the functionality of the app. - Lou\",\n          \"Hello Philemon, thank you for trying out Canva. We believe designing should be easy and fun. You can always visit support.canva.com and https://bit.ly/3ijoPpY for some quick guides through the app. Please make sure to update the app to get its full features. For concerns, reach us at canva.me/android. - Mary\\n\",\n          \"Hello Sujata, thank you for reaching out. We\\u2019re sorry to hear that you\\u2019re having trouble opening the application. Try to restart the device, clear the cache, and make sure you are connected to a good WiFi. We also suggest that you keep the app updated. If the problem persists, please contact us via canva.me/android. - Cynch\"\n        ],\n        \"semantic_type\": \"\",\n        \"description\": \"\"\n      }\n    },\n    {\n      \"column\": \"repliedAt\",\n      \"properties\": {\n        \"dtype\": \"date\",\n        \"min\": \"2018-12-16 22:19:40\",\n        \"max\": \"2021-09-16 09:28:04\",\n        \"num_unique_values\": 523,\n        \"samples\": [\n          \"2021-08-22 00:07:12\",\n          \"2021-08-04 00:18:43\",\n          \"2021-06-19 22:40:17\"\n        ],\n        \"semantic_type\": \"\",\n        \"description\": \"\"\n      }\n    },\n    {\n      \"column\": \"Sentiment\",\n      \"properties\": {\n        \"dtype\": \"category\",\n        \"num_unique_values\": 2,\n        \"samples\": [\n          \"Positive\",\n          \"Negative\"\n        ],\n        \"semantic_type\": \"\",\n        \"description\": \"\"\n      }\n    },\n    {\n      \"column\": \"Sub Category\",\n      \"properties\": {\n        \"dtype\": \"category\",\n        \"num_unique_values\": 5,\n        \"samples\": [\n          \"saving_downloading_issue\",\n          \"satisfied\"\n        ],\n        \"semantic_type\": \"\",\n        \"description\": \"\"\n      }\n    },\n    {\n      \"column\": \"Sub Category_test\",\n      \"properties\": {\n        \"dtype\": \"category\",\n        \"num_unique_values\": 4,\n        \"samples\": [\n          \"bug_saving_files\",\n          \"bug_other\"\n        ],\n        \"semantic_type\": \"\",\n        \"description\": \"\"\n      }\n    }\n  ]\n}"
            }
          },
          "metadata": {},
          "execution_count": 4
        }
      ],
      "source": [
        "data.head(3)"
      ]
    },
    {
      "cell_type": "code",
      "execution_count": 5,
      "id": "4118117c",
      "metadata": {
        "id": "4118117c",
        "outputId": "9a951a55-38e0-4237-be30-fa381ec0cd30",
        "colab": {
          "base_uri": "https://localhost:8080/",
          "height": 35
        }
      },
      "outputs": [
        {
          "output_type": "execute_result",
          "data": {
            "text/plain": [
              "'Unable to save my work. Nothing works :('"
            ],
            "application/vnd.google.colaboratory.intrinsic+json": {
              "type": "string"
            }
          },
          "metadata": {},
          "execution_count": 5
        }
      ],
      "source": [
        "data.loc[13, \"review\"]"
      ]
    },
    {
      "cell_type": "code",
      "execution_count": 6,
      "id": "a6441791",
      "metadata": {
        "id": "a6441791",
        "outputId": "13e0fdbf-d695-46a7-9ae1-22fd2d03688d",
        "colab": {
          "base_uri": "https://localhost:8080/",
          "height": 35
        }
      },
      "outputs": [
        {
          "output_type": "execute_result",
          "data": {
            "text/plain": [
              "'Negative'"
            ],
            "application/vnd.google.colaboratory.intrinsic+json": {
              "type": "string"
            }
          },
          "metadata": {},
          "execution_count": 6
        }
      ],
      "source": [
        "data.loc[13, \"Sentiment\"]"
      ]
    },
    {
      "cell_type": "code",
      "execution_count": 7,
      "id": "f7f74c71",
      "metadata": {
        "id": "f7f74c71",
        "outputId": "efbf5e2d-a266-4802-9b9f-c84c53c66bfd",
        "colab": {
          "base_uri": "https://localhost:8080/",
          "height": 35
        }
      },
      "outputs": [
        {
          "output_type": "execute_result",
          "data": {
            "text/plain": [
              "'Absolutely amazing and a lifesaver for teachers.'"
            ],
            "application/vnd.google.colaboratory.intrinsic+json": {
              "type": "string"
            }
          },
          "metadata": {},
          "execution_count": 7
        }
      ],
      "source": [
        "data.loc[1495, \"review\"]"
      ]
    },
    {
      "cell_type": "code",
      "execution_count": 8,
      "id": "aa0ad067",
      "metadata": {
        "id": "aa0ad067",
        "outputId": "30e36861-9155-464e-f5b4-a11e937be638",
        "colab": {
          "base_uri": "https://localhost:8080/",
          "height": 35
        }
      },
      "outputs": [
        {
          "output_type": "execute_result",
          "data": {
            "text/plain": [
              "'Positive'"
            ],
            "application/vnd.google.colaboratory.intrinsic+json": {
              "type": "string"
            }
          },
          "metadata": {},
          "execution_count": 8
        }
      ],
      "source": [
        "data.loc[1495, \"Sentiment\"]"
      ]
    },
    {
      "cell_type": "markdown",
      "id": "137fce58",
      "metadata": {
        "id": "137fce58"
      },
      "source": [
        "### Bar plot of 'Sentiment'"
      ]
    },
    {
      "cell_type": "code",
      "execution_count": 9,
      "id": "769c9054",
      "metadata": {
        "id": "769c9054",
        "outputId": "ae676692-e202-44ea-ccd4-912eaa949ccb",
        "colab": {
          "base_uri": "https://localhost:8080/",
          "height": 449
        }
      },
      "outputs": [
        {
          "output_type": "display_data",
          "data": {
            "text/plain": [
              "<Figure size 640x480 with 1 Axes>"
            ],
            "image/png": "[encoded data removed]"
          },
          "metadata": {}
        }
      ],
      "source": [
        "sns.countplot(x=\"Sentiment\", data=data)\n",
        "plt.show()"
      ]
    },
    {
      "cell_type": "code",
      "execution_count": 10,
      "id": "c4b8daf7",
      "metadata": {
        "id": "c4b8daf7",
        "outputId": "49e439ea-3f5c-4903-9535-130d1c0dd6d0",
        "colab": {
          "base_uri": "https://localhost:8080/"
        }
      },
      "outputs": [
        {
          "output_type": "execute_result",
          "data": {
            "text/plain": [
              "Positive    1032\n",
              "Negative     468\n",
              "Name: Sentiment, dtype: int64"
            ]
          },
          "metadata": {},
          "execution_count": 10
        }
      ],
      "source": [
        "data[\"Sentiment\"].value_counts()"
      ]
    },
    {
      "cell_type": "code",
      "execution_count": 11,
      "id": "83751fa9",
      "metadata": {
        "id": "83751fa9",
        "outputId": "4adc533d-1cde-4054-9e61-ad23102e1473",
        "colab": {
          "base_uri": "https://localhost:8080/"
        }
      },
      "outputs": [
        {
          "output_type": "execute_result",
          "data": {
            "text/plain": [
              "0.312"
            ]
          },
          "metadata": {},
          "execution_count": 11
        }
      ],
      "source": [
        "468/(1032+468)"
      ]
    },
    {
      "cell_type": "markdown",
      "id": "557fac2e",
      "metadata": {
        "id": "557fac2e"
      },
      "source": [
        "### Bar plot of 'score'"
      ]
    },
    {
      "cell_type": "code",
      "execution_count": 12,
      "id": "db0b4296",
      "metadata": {
        "id": "db0b4296",
        "outputId": "93c4eb3d-e67e-4bf8-c5a9-b320dbef5df2",
        "colab": {
          "base_uri": "https://localhost:8080/",
          "height": 449
        }
      },
      "outputs": [
        {
          "output_type": "display_data",
          "data": {
            "text/plain": [
              "<Figure size 640x480 with 1 Axes>"
            ],
            "image/png": "[encoded data removed]"
          },
          "metadata": {}
        }
      ],
      "source": [
        "sns.countplot(x=\"score\", data=data)\n",
        "plt.show()"
      ]
    },
    {
      "cell_type": "markdown",
      "id": "5ebb4a21",
      "metadata": {
        "id": "5ebb4a21"
      },
      "source": [
        "### Check relationship between 'score' and 'Sentiment'"
      ]
    },
    {
      "cell_type": "code",
      "execution_count": 13,
      "id": "3f261add",
      "metadata": {
        "id": "3f261add",
        "outputId": "bf524ef6-1349-4c44-e1d7-5ee4aa059308",
        "colab": {
          "base_uri": "https://localhost:8080/",
          "height": 449
        }
      },
      "outputs": [
        {
          "output_type": "display_data",
          "data": {
            "text/plain": [
              "<Figure size 640x480 with 1 Axes>"
            ],
            "image/png": "[encoded data removed]"
          },
          "metadata": {}
        }
      ],
      "source": [
        "sns.countplot(x=\"score\", data=data, hue=\"Sentiment\")\n",
        "plt.show()"
      ]
    },
    {
      "cell_type": "markdown",
      "id": "fd824dff",
      "metadata": {
        "id": "fd824dff"
      },
      "source": [
        "### Find the length of each 'review'"
      ]
    },
    {
      "cell_type": "code",
      "execution_count": 14,
      "id": "e26ea0c5",
      "metadata": {
        "id": "e26ea0c5"
      },
      "outputs": [],
      "source": [
        "data[\"len\"] = data[\"review\"].apply(len)"
      ]
    },
    {
      "cell_type": "code",
      "execution_count": 15,
      "id": "aacea977",
      "metadata": {
        "id": "aacea977",
        "outputId": "3671297e-1f97-4680-f1c7-073fc5464e66",
        "colab": {
          "base_uri": "https://localhost:8080/"
        }
      },
      "outputs": [
        {
          "output_type": "execute_result",
          "data": {
            "text/plain": [
              "count    1500.000000\n",
              "mean       86.468667\n",
              "std        55.681355\n",
              "min        20.000000\n",
              "25%        54.000000\n",
              "50%        75.000000\n",
              "75%       102.000000\n",
              "max       498.000000\n",
              "Name: len, dtype: float64"
            ]
          },
          "metadata": {},
          "execution_count": 15
        }
      ],
      "source": [
        "data[\"len\"].describe()"
      ]
    },
    {
      "cell_type": "markdown",
      "id": "1eea40cd",
      "metadata": {
        "id": "1eea40cd"
      },
      "source": [
        "### Plot the histogram of 'len'"
      ]
    },
    {
      "cell_type": "code",
      "execution_count": 16,
      "id": "fdc54f54",
      "metadata": {
        "id": "fdc54f54",
        "outputId": "c6a7c55e-005e-49ae-f432-ef225d1c9c03",
        "colab": {
          "base_uri": "https://localhost:8080/",
          "height": 506
        }
      },
      "outputs": [
        {
          "output_type": "display_data",
          "data": {
            "text/plain": [
              "<Figure size 500x500 with 1 Axes>"
            ],
            "image/png": "[encoded data removed]"
          },
          "metadata": {}
        }
      ],
      "source": [
        "sns.displot(data[\"len\"])\n",
        "plt.show()"
      ]
    },
    {
      "cell_type": "markdown",
      "id": "6f035532",
      "metadata": {
        "id": "6f035532"
      },
      "source": [
        "### Plot the distribution of 'len' for different 'Sentiment' types"
      ]
    },
    {
      "cell_type": "code",
      "execution_count": 17,
      "id": "5d6534e9",
      "metadata": {
        "id": "5d6534e9",
        "outputId": "38dd5248-85ed-4231-e31e-529f9cc51380",
        "colab": {
          "base_uri": "https://localhost:8080/",
          "height": 506
        }
      },
      "outputs": [
        {
          "output_type": "display_data",
          "data": {
            "text/plain": [
              "<Figure size 612.5x500 with 1 Axes>"
            ],
            "image/png": "[encoded data removed]"
          },
          "metadata": {}
        }
      ],
      "source": [
        "sns.displot(data=data, x=\"len\", hue=\"Sentiment\", kind=\"kde\", fill=True)\n",
        "plt.show()"
      ]
    },
    {
      "cell_type": "markdown",
      "id": "a93fea6c",
      "metadata": {
        "id": "a93fea6c"
      },
      "source": [
        "# Tokenization"
      ]
    },
    {
      "cell_type": "code",
      "execution_count": 18,
      "id": "76df278e",
      "metadata": {
        "id": "76df278e"
      },
      "outputs": [],
      "source": [
        "data = data[[\"review\", \"Sentiment\"]]"
      ]
    },
    {
      "cell_type": "code",
      "execution_count": 19,
      "id": "66800c47",
      "metadata": {
        "id": "66800c47",
        "outputId": "c27ddb1a-b4c9-428c-9d03-facadd29de12",
        "colab": {
          "base_uri": "https://localhost:8080/",
          "height": 35
        }
      },
      "outputs": [
        {
          "output_type": "execute_result",
          "data": {
            "text/plain": [
              "'Unable to save my work. Nothing works :('"
            ],
            "application/vnd.google.colaboratory.intrinsic+json": {
              "type": "string"
            }
          },
          "metadata": {},
          "execution_count": 19
        }
      ],
      "source": [
        "data.loc[13, \"review\"]"
      ]
    },
    {
      "cell_type": "code",
      "execution_count": 20,
      "id": "1dd5b42c",
      "metadata": {
        "id": "1dd5b42c",
        "outputId": "71908f13-dea0-466f-88bd-220d6f753e9f",
        "colab": {
          "base_uri": "https://localhost:8080/"
        }
      },
      "outputs": [
        {
          "output_type": "execute_result",
          "data": {
            "text/plain": [
              "['Unable to save my work.', 'Nothing works :(']"
            ]
          },
          "metadata": {},
          "execution_count": 20
        }
      ],
      "source": [
        "sent_tokenize(data.loc[13,\"review\"])"
      ]
    },
    {
      "cell_type": "code",
      "execution_count": 21,
      "id": "38b9730d",
      "metadata": {
        "id": "38b9730d",
        "outputId": "47446fac-9178-43a9-b1cc-5009c49cf327",
        "colab": {
          "base_uri": "https://localhost:8080/",
          "height": 35
        }
      },
      "outputs": [
        {
          "output_type": "execute_result",
          "data": {
            "text/plain": [
              "'Absolutely amazing and a lifesaver for teachers.'"
            ],
            "application/vnd.google.colaboratory.intrinsic+json": {
              "type": "string"
            }
          },
          "metadata": {},
          "execution_count": 21
        }
      ],
      "source": [
        "data.loc[1495, \"review\"]"
      ]
    },
    {
      "cell_type": "code",
      "execution_count": 22,
      "id": "efcc8bcd",
      "metadata": {
        "id": "efcc8bcd",
        "outputId": "0af435e6-cf2c-4afe-e6ca-3ccf04e2e008",
        "colab": {
          "base_uri": "https://localhost:8080/"
        }
      },
      "outputs": [
        {
          "output_type": "execute_result",
          "data": {
            "text/plain": [
              "['Absolutely amazing and a lifesaver for teachers.']"
            ]
          },
          "metadata": {},
          "execution_count": 22
        }
      ],
      "source": [
        "sent_tokenize(data.loc[1495, \"review\"])"
      ]
    },
    {
      "cell_type": "code",
      "execution_count": 23,
      "id": "b04e56de",
      "metadata": {
        "id": "b04e56de",
        "outputId": "2d2830ac-8ab7-45e1-b807-a3ce47ad600e",
        "colab": {
          "base_uri": "https://localhost:8080/"
        }
      },
      "outputs": [
        {
          "output_type": "execute_result",
          "data": {
            "text/plain": [
              "['Unable', 'to', 'save', 'my', 'work', '.', 'Nothing', 'works', ':', '(']"
            ]
          },
          "metadata": {},
          "execution_count": 23
        }
      ],
      "source": [
        "word_tokenize(data.loc[13, \"review\"])"
      ]
    },
    {
      "cell_type": "code",
      "execution_count": 24,
      "id": "4e206c64",
      "metadata": {
        "id": "4e206c64",
        "outputId": "941ea43a-508e-4d09-ce2f-f1f077425821",
        "colab": {
          "base_uri": "https://localhost:8080/"
        }
      },
      "outputs": [
        {
          "output_type": "execute_result",
          "data": {
            "text/plain": [
              "['Absolutely', 'amazing', 'and', 'a', 'lifesaver', 'for', 'teachers', '.']"
            ]
          },
          "metadata": {},
          "execution_count": 24
        }
      ],
      "source": [
        "word_tokenize(data.loc[1495, \"review\"])"
      ]
    },
    {
      "cell_type": "markdown",
      "id": "fa40a238",
      "metadata": {
        "id": "fa40a238"
      },
      "source": [
        "### Convert text to lower case"
      ]
    },
    {
      "cell_type": "code",
      "execution_count": 25,
      "id": "42856681",
      "metadata": {
        "id": "42856681"
      },
      "outputs": [],
      "source": [
        "reviews = list(data[\"review\"])"
      ]
    },
    {
      "cell_type": "code",
      "execution_count": 26,
      "id": "7976bf10",
      "metadata": {
        "id": "7976bf10",
        "outputId": "077bcd48-8978-431e-8bae-65a8e7df2d6d",
        "colab": {
          "base_uri": "https://localhost:8080/"
        }
      },
      "outputs": [
        {
          "output_type": "execute_result",
          "data": {
            "text/plain": [
              "1500"
            ]
          },
          "metadata": {},
          "execution_count": 26
        }
      ],
      "source": [
        "len(reviews)"
      ]
    },
    {
      "cell_type": "code",
      "execution_count": 27,
      "id": "f6d9f036",
      "metadata": {
        "id": "f6d9f036",
        "outputId": "fed7526b-c013-40de-857e-8a90b88912c0",
        "colab": {
          "base_uri": "https://localhost:8080/",
          "height": 35
        }
      },
      "outputs": [
        {
          "output_type": "execute_result",
          "data": {
            "text/plain": [
              "'Unable to save my work. Nothing works :('"
            ],
            "application/vnd.google.colaboratory.intrinsic+json": {
              "type": "string"
            }
          },
          "metadata": {},
          "execution_count": 27
        }
      ],
      "source": [
        "reviews[13]"
      ]
    },
    {
      "cell_type": "code",
      "execution_count": 28,
      "id": "e4d6f736",
      "metadata": {
        "id": "e4d6f736",
        "outputId": "883fcf47-5951-4a91-9295-9c524d9820f4",
        "colab": {
          "base_uri": "https://localhost:8080/",
          "height": 35
        }
      },
      "outputs": [
        {
          "output_type": "execute_result",
          "data": {
            "text/plain": [
              "'Absolutely amazing and a lifesaver for teachers.'"
            ],
            "application/vnd.google.colaboratory.intrinsic+json": {
              "type": "string"
            }
          },
          "metadata": {},
          "execution_count": 28
        }
      ],
      "source": [
        "reviews[1495]"
      ]
    },
    {
      "cell_type": "code",
      "execution_count": 29,
      "id": "48114468",
      "metadata": {
        "id": "48114468",
        "outputId": "418c7f3d-f118-4845-9784-18d542d52bfd",
        "colab": {
          "base_uri": "https://localhost:8080/",
          "height": 35
        }
      },
      "outputs": [
        {
          "output_type": "execute_result",
          "data": {
            "text/plain": [
              "'absolutely amazing and a lifesaver for teachers.'"
            ],
            "application/vnd.google.colaboratory.intrinsic+json": {
              "type": "string"
            }
          },
          "metadata": {},
          "execution_count": 29
        }
      ],
      "source": [
        "reviews[1495].lower()"
      ]
    },
    {
      "cell_type": "code",
      "execution_count": 30,
      "id": "63568983",
      "metadata": {
        "id": "63568983"
      },
      "outputs": [],
      "source": [
        "reviews_lower = [r.lower() for r in reviews]"
      ]
    },
    {
      "cell_type": "code",
      "execution_count": 31,
      "id": "88b291e8",
      "metadata": {
        "id": "88b291e8",
        "outputId": "e348aa19-6ee6-4933-cbcc-6c76b24dd779",
        "colab": {
          "base_uri": "https://localhost:8080/",
          "height": 35
        }
      },
      "outputs": [
        {
          "output_type": "execute_result",
          "data": {
            "text/plain": [
              "'unable to save my work. nothing works :('"
            ],
            "application/vnd.google.colaboratory.intrinsic+json": {
              "type": "string"
            }
          },
          "metadata": {},
          "execution_count": 31
        }
      ],
      "source": [
        "reviews_lower[13]"
      ]
    },
    {
      "cell_type": "code",
      "execution_count": 32,
      "id": "6098e882",
      "metadata": {
        "id": "6098e882"
      },
      "outputs": [],
      "source": [
        "#reviews_lower = []\n",
        "#for r in reviews:\n",
        "#    reviews_lower.append(r.lower())"
      ]
    },
    {
      "cell_type": "code",
      "execution_count": 33,
      "id": "db39498c",
      "metadata": {
        "id": "db39498c"
      },
      "outputs": [],
      "source": [
        "# when you apply a tokenizer on some text, it will give you a list\n",
        "# so what we expect here is a list of list.\n",
        "tokens = [word_tokenize(r) for r in reviews_lower]"
      ]
    },
    {
      "cell_type": "code",
      "execution_count": 34,
      "id": "c44025a5",
      "metadata": {
        "id": "c44025a5",
        "outputId": "9fae96db-b945-442b-d83c-6f336e691456",
        "colab": {
          "base_uri": "https://localhost:8080/"
        }
      },
      "outputs": [
        {
          "output_type": "execute_result",
          "data": {
            "text/plain": [
              "['unable', 'to', 'save', 'my', 'work', '.', 'nothing', 'works', ':', '(']"
            ]
          },
          "metadata": {},
          "execution_count": 34
        }
      ],
      "source": [
        "tokens[13]"
      ]
    },
    {
      "cell_type": "code",
      "execution_count": 35,
      "id": "c17c6bfe",
      "metadata": {
        "id": "c17c6bfe",
        "outputId": "ca695a17-bd25-4e7a-e5a2-22625f06f5f2",
        "colab": {
          "base_uri": "https://localhost:8080/"
        }
      },
      "outputs": [
        {
          "output_type": "execute_result",
          "data": {
            "text/plain": [
              "['absolutely', 'amazing', 'and', 'a', 'lifesaver', 'for', 'teachers', '.']"
            ]
          },
          "metadata": {},
          "execution_count": 35
        }
      ],
      "source": [
        "tokens[1495]"
      ]
    },
    {
      "cell_type": "code",
      "execution_count": 36,
      "id": "6f747736",
      "metadata": {
        "id": "6f747736",
        "outputId": "1a28a96a-cbe7-4517-a6e1-385363afe0d8",
        "colab": {
          "base_uri": "https://localhost:8080/"
        }
      },
      "outputs": [
        {
          "output_type": "execute_result",
          "data": {
            "text/plain": [
              "1500"
            ]
          },
          "metadata": {},
          "execution_count": 36
        }
      ],
      "source": [
        "len(tokens)"
      ]
    },
    {
      "cell_type": "markdown",
      "id": "da647ba5",
      "metadata": {
        "id": "da647ba5"
      },
      "source": [
        "# Stopwords removal"
      ]
    },
    {
      "cell_type": "code",
      "source": [
        "import nltk\n",
        "nltk.download('stopwords')"
      ],
      "metadata": {
        "colab": {
          "base_uri": "https://localhost:8080/"
        },
        "id": "3hcEPiF9jh4X",
        "outputId": "0705b6bc-acc6-4029-c8ed-f45249e9e842"
      },
      "id": "3hcEPiF9jh4X",
      "execution_count": 37,
      "outputs": [
        {
          "output_type": "stream",
          "name": "stderr",
          "text": [
            "[nltk_data] Downloading package stopwords to /root/nltk_data...\n",
            "[nltk_data]   Unzipping corpora/stopwords.zip.\n"
          ]
        },
        {
          "output_type": "execute_result",
          "data": {
            "text/plain": [
              "True"
            ]
          },
          "metadata": {},
          "execution_count": 37
        }
      ]
    },
    {
      "cell_type": "code",
      "execution_count": 38,
      "id": "5366689a",
      "metadata": {
        "id": "5366689a"
      },
      "outputs": [],
      "source": [
        "sw = stopwords.words('english')"
      ]
    },
    {
      "cell_type": "code",
      "execution_count": 39,
      "id": "7b696f93",
      "metadata": {
        "id": "7b696f93",
        "outputId": "b52f0d56-d03e-4652-9267-09ba1513c6fa",
        "colab": {
          "base_uri": "https://localhost:8080/"
        }
      },
      "outputs": [
        {
          "output_type": "execute_result",
          "data": {
            "text/plain": [
              "['i', 'me', 'my', 'myself', 'we', 'our', 'ours', 'ourselves', 'you', \"you're\"]"
            ]
          },
          "metadata": {},
          "execution_count": 39
        }
      ],
      "source": [
        "sw[:10]"
      ]
    },
    {
      "cell_type": "code",
      "execution_count": 40,
      "id": "e65a3a01",
      "metadata": {
        "id": "e65a3a01"
      },
      "outputs": [],
      "source": [
        "tokens = [[word for word in t if word not in sw] for t in tokens]"
      ]
    },
    {
      "cell_type": "code",
      "execution_count": 41,
      "id": "fdf1f198",
      "metadata": {
        "id": "fdf1f198",
        "outputId": "d1d3fc12-0e30-484e-9071-f6d62d6fc081",
        "colab": {
          "base_uri": "https://localhost:8080/"
        }
      },
      "outputs": [
        {
          "output_type": "execute_result",
          "data": {
            "text/plain": [
              "['unable', 'save', 'work', '.', 'nothing', 'works', ':', '(']"
            ]
          },
          "metadata": {},
          "execution_count": 41
        }
      ],
      "source": [
        "tokens[13]"
      ]
    },
    {
      "cell_type": "code",
      "execution_count": 42,
      "id": "87bd4391",
      "metadata": {
        "id": "87bd4391",
        "outputId": "76c87d27-8562-4486-da67-e1c6d20198e5",
        "colab": {
          "base_uri": "https://localhost:8080/",
          "height": 35
        }
      },
      "outputs": [
        {
          "output_type": "execute_result",
          "data": {
            "text/plain": [
              "'Unable to save my work. Nothing works :('"
            ],
            "application/vnd.google.colaboratory.intrinsic+json": {
              "type": "string"
            }
          },
          "metadata": {},
          "execution_count": 42
        }
      ],
      "source": [
        "reviews[13]"
      ]
    },
    {
      "cell_type": "code",
      "execution_count": 43,
      "id": "900c6ada",
      "metadata": {
        "id": "900c6ada",
        "outputId": "da0e74ff-6e09-4c72-950b-e61d45244766",
        "colab": {
          "base_uri": "https://localhost:8080/"
        }
      },
      "outputs": [
        {
          "output_type": "execute_result",
          "data": {
            "text/plain": [
              "['absolutely', 'amazing', 'lifesaver', 'teachers', '.']"
            ]
          },
          "metadata": {},
          "execution_count": 43
        }
      ],
      "source": [
        "tokens[1495]"
      ]
    },
    {
      "cell_type": "code",
      "execution_count": 44,
      "id": "efdf8a3f",
      "metadata": {
        "id": "efdf8a3f",
        "outputId": "368da1bf-84c1-4baa-e2ca-12f023ddb49a",
        "colab": {
          "base_uri": "https://localhost:8080/",
          "height": 35
        }
      },
      "outputs": [
        {
          "output_type": "execute_result",
          "data": {
            "text/plain": [
              "'Absolutely amazing and a lifesaver for teachers.'"
            ],
            "application/vnd.google.colaboratory.intrinsic+json": {
              "type": "string"
            }
          },
          "metadata": {},
          "execution_count": 44
        }
      ],
      "source": [
        "reviews[1495]"
      ]
    },
    {
      "cell_type": "markdown",
      "id": "fa218c91",
      "metadata": {
        "id": "fa218c91"
      },
      "source": [
        "### Remove punctuations"
      ]
    },
    {
      "cell_type": "code",
      "execution_count": 45,
      "id": "c8ca9513",
      "metadata": {
        "id": "c8ca9513"
      },
      "outputs": [],
      "source": [
        "# remove any punctuation marks\n",
        "tokenizer = RegexpTokenizer(r'\\w+')"
      ]
    },
    {
      "cell_type": "code",
      "execution_count": 46,
      "id": "f5549185",
      "metadata": {
        "id": "f5549185",
        "outputId": "f594dc0a-4e01-4f1f-bcc7-eb8506ae9cc3",
        "colab": {
          "base_uri": "https://localhost:8080/"
        }
      },
      "outputs": [
        {
          "output_type": "execute_result",
          "data": {
            "text/plain": [
              "['wasn', 't']"
            ]
          },
          "metadata": {},
          "execution_count": 46
        }
      ],
      "source": [
        "tokenizer.tokenize(\"wasn't\")"
      ]
    },
    {
      "cell_type": "code",
      "execution_count": 47,
      "id": "fe82a0fb",
      "metadata": {
        "id": "fe82a0fb"
      },
      "outputs": [],
      "source": [
        "t = tokenizer.tokenize(\"wasn't\")"
      ]
    },
    {
      "cell_type": "code",
      "execution_count": 48,
      "id": "44054633",
      "metadata": {
        "id": "44054633",
        "outputId": "c6c8edb1-e23b-4991-8120-93d23944949b",
        "colab": {
          "base_uri": "https://localhost:8080/",
          "height": 35
        }
      },
      "outputs": [
        {
          "output_type": "execute_result",
          "data": {
            "text/plain": [
              "'wasnt'"
            ],
            "application/vnd.google.colaboratory.intrinsic+json": {
              "type": "string"
            }
          },
          "metadata": {},
          "execution_count": 48
        }
      ],
      "source": [
        "\"\".join(t)"
      ]
    },
    {
      "cell_type": "code",
      "execution_count": 49,
      "id": "0ca9de16",
      "metadata": {
        "id": "0ca9de16",
        "outputId": "adc3afbb-7c19-4245-d71e-56fcc5b355a5",
        "colab": {
          "base_uri": "https://localhost:8080/"
        }
      },
      "outputs": [
        {
          "output_type": "execute_result",
          "data": {
            "text/plain": [
              "[]"
            ]
          },
          "metadata": {},
          "execution_count": 49
        }
      ],
      "source": [
        "tokenizer.tokenize(\":\")"
      ]
    },
    {
      "cell_type": "code",
      "execution_count": 50,
      "id": "9019d2de",
      "metadata": {
        "id": "9019d2de"
      },
      "outputs": [],
      "source": [
        "tokens = [[\"\".join(tokenizer.tokenize(word)) for word in t\n",
        "           if len(tokenizer.tokenize(word))>0] for t in tokens]"
      ]
    },
    {
      "cell_type": "code",
      "execution_count": 51,
      "id": "e4af0982",
      "metadata": {
        "id": "e4af0982",
        "outputId": "ae9a338c-6c62-4907-9941-6f49c2c76e87",
        "colab": {
          "base_uri": "https://localhost:8080/"
        }
      },
      "outputs": [
        {
          "output_type": "execute_result",
          "data": {
            "text/plain": [
              "['unable', 'save', 'work', 'nothing', 'works']"
            ]
          },
          "metadata": {},
          "execution_count": 51
        }
      ],
      "source": [
        "tokens[13]"
      ]
    },
    {
      "cell_type": "code",
      "execution_count": 52,
      "id": "2a3c0165",
      "metadata": {
        "id": "2a3c0165",
        "outputId": "64d6f9ce-07dd-4ace-ce71-6c621441d9e9",
        "colab": {
          "base_uri": "https://localhost:8080/",
          "height": 35
        }
      },
      "outputs": [
        {
          "output_type": "execute_result",
          "data": {
            "text/plain": [
              "'Unable to save my work. Nothing works :('"
            ],
            "application/vnd.google.colaboratory.intrinsic+json": {
              "type": "string"
            }
          },
          "metadata": {},
          "execution_count": 52
        }
      ],
      "source": [
        "reviews[13]"
      ]
    },
    {
      "cell_type": "code",
      "execution_count": 53,
      "id": "bf2faa21",
      "metadata": {
        "id": "bf2faa21",
        "outputId": "166e7640-9cfd-4af1-9fe2-c6c2fe72e085",
        "colab": {
          "base_uri": "https://localhost:8080/"
        }
      },
      "outputs": [
        {
          "output_type": "execute_result",
          "data": {
            "text/plain": [
              "['absolutely', 'amazing', 'lifesaver', 'teachers']"
            ]
          },
          "metadata": {},
          "execution_count": 53
        }
      ],
      "source": [
        "tokens[1495]"
      ]
    },
    {
      "cell_type": "code",
      "execution_count": 54,
      "id": "37b56f5b",
      "metadata": {
        "id": "37b56f5b",
        "outputId": "55a9d275-be56-49bf-dd87-cdf3cec87c72",
        "colab": {
          "base_uri": "https://localhost:8080/",
          "height": 35
        }
      },
      "outputs": [
        {
          "output_type": "execute_result",
          "data": {
            "text/plain": [
              "'Absolutely amazing and a lifesaver for teachers.'"
            ],
            "application/vnd.google.colaboratory.intrinsic+json": {
              "type": "string"
            }
          },
          "metadata": {},
          "execution_count": 54
        }
      ],
      "source": [
        "reviews[1495]"
      ]
    },
    {
      "cell_type": "markdown",
      "id": "ad288a6d",
      "metadata": {
        "id": "ad288a6d"
      },
      "source": [
        "# Stemming"
      ]
    },
    {
      "cell_type": "markdown",
      "source": [
        "Stemming refers to the process of reducing a word to its word stem that affixes to suffixes and prefixes or the roots. It is a useful tool for reducing the dimensionality of text data and transforming words into a common format for processing.\n",
        "\n",
        "The Lancaster Stemming Algorithm is known to be more aggressive than other stemming algorithms, such as the Porter and Snowball algorithms, and therefore may produce less accurate results. However, it is also faster and can be useful for reducing the dimensionality of text data in certain NLP tasks."
      ],
      "metadata": {
        "id": "jkZfvqqFqdGr"
      },
      "id": "jkZfvqqFqdGr"
    },
    {
      "cell_type": "code",
      "execution_count": 55,
      "id": "4aeea363",
      "metadata": {
        "id": "4aeea363"
      },
      "outputs": [],
      "source": [
        "porter = PorterStemmer()\n",
        "lancaster = LancasterStemmer()"
      ]
    },
    {
      "cell_type": "code",
      "execution_count": 56,
      "id": "f524b5a7",
      "metadata": {
        "id": "f524b5a7",
        "outputId": "3bb21871-6f0d-4636-ccb8-bfa23a5c59ee",
        "colab": {
          "base_uri": "https://localhost:8080/",
          "height": 35
        }
      },
      "outputs": [
        {
          "output_type": "execute_result",
          "data": {
            "text/plain": [
              "'teacher'"
            ],
            "application/vnd.google.colaboratory.intrinsic+json": {
              "type": "string"
            }
          },
          "metadata": {},
          "execution_count": 56
        }
      ],
      "source": [
        "porter.stem(\"teachers\")"
      ]
    },
    {
      "cell_type": "code",
      "execution_count": 57,
      "id": "79c3e96e",
      "metadata": {
        "id": "79c3e96e",
        "outputId": "53d90246-7b64-4355-dfb2-3e990b3db5d0",
        "colab": {
          "base_uri": "https://localhost:8080/",
          "height": 35
        }
      },
      "outputs": [
        {
          "output_type": "execute_result",
          "data": {
            "text/plain": [
              "'teach'"
            ],
            "application/vnd.google.colaboratory.intrinsic+json": {
              "type": "string"
            }
          },
          "metadata": {},
          "execution_count": 57
        }
      ],
      "source": [
        "lancaster.stem(\"teachers\")"
      ]
    },
    {
      "cell_type": "code",
      "execution_count": 58,
      "id": "5500088f",
      "metadata": {
        "id": "5500088f",
        "outputId": "a22e1456-9036-4439-82af-ecb7934f3234",
        "colab": {
          "base_uri": "https://localhost:8080/",
          "height": 35
        }
      },
      "outputs": [
        {
          "output_type": "execute_result",
          "data": {
            "text/plain": [
              "'absolut'"
            ],
            "application/vnd.google.colaboratory.intrinsic+json": {
              "type": "string"
            }
          },
          "metadata": {},
          "execution_count": 58
        }
      ],
      "source": [
        "porter.stem(\"absolutely\")"
      ]
    },
    {
      "cell_type": "code",
      "execution_count": 59,
      "id": "a43bb2ba",
      "metadata": {
        "id": "a43bb2ba",
        "outputId": "4f20253d-a74a-4853-de26-6bf8afc5a93c",
        "colab": {
          "base_uri": "https://localhost:8080/",
          "height": 35
        }
      },
      "outputs": [
        {
          "output_type": "execute_result",
          "data": {
            "text/plain": [
              "'absolv'"
            ],
            "application/vnd.google.colaboratory.intrinsic+json": {
              "type": "string"
            }
          },
          "metadata": {},
          "execution_count": 59
        }
      ],
      "source": [
        "lancaster.stem(\"absolutely\")"
      ]
    },
    {
      "cell_type": "code",
      "execution_count": 60,
      "id": "826ea50f",
      "metadata": {
        "id": "826ea50f"
      },
      "outputs": [],
      "source": [
        "tokens = [[porter.stem(word) for word in t] for t in tokens]"
      ]
    },
    {
      "cell_type": "code",
      "execution_count": 61,
      "id": "06da3738",
      "metadata": {
        "id": "06da3738",
        "outputId": "c446113f-0fbf-4602-fa82-2bac5b6e0dcf",
        "colab": {
          "base_uri": "https://localhost:8080/"
        }
      },
      "outputs": [
        {
          "output_type": "execute_result",
          "data": {
            "text/plain": [
              "['unabl', 'save', 'work', 'noth', 'work']"
            ]
          },
          "metadata": {},
          "execution_count": 61
        }
      ],
      "source": [
        "tokens[13]"
      ]
    },
    {
      "cell_type": "code",
      "execution_count": 62,
      "id": "42a0a985",
      "metadata": {
        "id": "42a0a985",
        "outputId": "1cbc7939-2f33-43dd-8256-2f134bf292ba",
        "colab": {
          "base_uri": "https://localhost:8080/",
          "height": 35
        }
      },
      "outputs": [
        {
          "output_type": "execute_result",
          "data": {
            "text/plain": [
              "'Unable to save my work. Nothing works :('"
            ],
            "application/vnd.google.colaboratory.intrinsic+json": {
              "type": "string"
            }
          },
          "metadata": {},
          "execution_count": 62
        }
      ],
      "source": [
        "reviews[13]"
      ]
    },
    {
      "cell_type": "code",
      "execution_count": 63,
      "id": "e0692f7b",
      "metadata": {
        "id": "e0692f7b",
        "outputId": "67e9a254-5e48-4d37-897c-6b31899ee4b4",
        "colab": {
          "base_uri": "https://localhost:8080/"
        }
      },
      "outputs": [
        {
          "output_type": "execute_result",
          "data": {
            "text/plain": [
              "['absolut', 'amaz', 'lifesav', 'teacher']"
            ]
          },
          "metadata": {},
          "execution_count": 63
        }
      ],
      "source": [
        "tokens[1495]"
      ]
    },
    {
      "cell_type": "code",
      "execution_count": 64,
      "id": "8b9ef0d3",
      "metadata": {
        "id": "8b9ef0d3",
        "outputId": "d7db10d6-f254-4da8-d3d7-951165d6a688",
        "colab": {
          "base_uri": "https://localhost:8080/",
          "height": 35
        }
      },
      "outputs": [
        {
          "output_type": "execute_result",
          "data": {
            "text/plain": [
              "'Absolutely amazing and a lifesaver for teachers.'"
            ],
            "application/vnd.google.colaboratory.intrinsic+json": {
              "type": "string"
            }
          },
          "metadata": {},
          "execution_count": 64
        }
      ],
      "source": [
        "reviews[1495]"
      ]
    },
    {
      "cell_type": "markdown",
      "id": "e5780d6a",
      "metadata": {
        "id": "e5780d6a"
      },
      "source": [
        "# Word count distribution"
      ]
    },
    {
      "cell_type": "code",
      "execution_count": 65,
      "id": "db8705a4",
      "metadata": {
        "id": "db8705a4"
      },
      "outputs": [],
      "source": [
        "flat_tokens = [word for t in tokens for word in t]"
      ]
    },
    {
      "cell_type": "code",
      "execution_count": 66,
      "id": "1cd37f07",
      "metadata": {
        "id": "1cd37f07",
        "outputId": "14ebc92a-2790-4180-e849-d0fb4ef00778",
        "colab": {
          "base_uri": "https://localhost:8080/"
        }
      },
      "outputs": [
        {
          "output_type": "execute_result",
          "data": {
            "text/plain": [
              "13782"
            ]
          },
          "metadata": {},
          "execution_count": 66
        }
      ],
      "source": [
        "len(flat_tokens)"
      ]
    },
    {
      "cell_type": "code",
      "execution_count": 67,
      "id": "4f712e81",
      "metadata": {
        "id": "4f712e81",
        "outputId": "5f52c5e1-e537-4e22-b3a8-8556e637c74a",
        "colab": {
          "base_uri": "https://localhost:8080/"
        }
      },
      "outputs": [
        {
          "output_type": "execute_result",
          "data": {
            "text/plain": [
              "['overal', 's', 'realli', 'amaz', 'app', 've', 'use', 'past', '5', 'year']"
            ]
          },
          "metadata": {},
          "execution_count": 67
        }
      ],
      "source": [
        "flat_tokens[:10]"
      ]
    },
    {
      "cell_type": "markdown",
      "source": [
        "these tokens are going to be our features!"
      ],
      "metadata": {
        "id": "LvGmAs2Dtl1f"
      },
      "id": "LvGmAs2Dtl1f"
    },
    {
      "cell_type": "code",
      "execution_count": 68,
      "id": "0b7c4641",
      "metadata": {
        "id": "0b7c4641"
      },
      "outputs": [],
      "source": [
        "counts = Counter(flat_tokens)"
      ]
    },
    {
      "cell_type": "code",
      "source": [
        "counts"
      ],
      "metadata": {
        "id": "3z4arJknsrj4",
        "colab": {
          "base_uri": "https://localhost:8080/"
        },
        "outputId": "5525d4e7-f9f7-4a38-8933-943fe31efcf6"
      },
      "id": "3z4arJknsrj4",
      "execution_count": 69,
      "outputs": [
        {
          "output_type": "execute_result",
          "data": {
            "text/plain": [
              "Counter({'overal': 12,\n",
              "         's': 240,\n",
              "         'realli': 129,\n",
              "         'amaz': 110,\n",
              "         'app': 932,\n",
              "         've': 32,\n",
              "         'use': 474,\n",
              "         'past': 10,\n",
              "         '5': 24,\n",
              "         'year': 13,\n",
              "         'howev': 6,\n",
              "         'one': 70,\n",
              "         'issu': 35,\n",
              "         'though': 10,\n",
              "         'want': 47,\n",
              "         'get': 57,\n",
              "         'address': 2,\n",
              "         'sinc': 9,\n",
              "         'think': 17,\n",
              "         'last': 7,\n",
              "         'mani': 91,\n",
              "         'text': 36,\n",
              "         'blur': 3,\n",
              "         'zoom': 6,\n",
              "         'pixel': 1,\n",
              "         'thought': 8,\n",
              "         'occur': 2,\n",
              "         'mobil': 25,\n",
              "         'also': 41,\n",
              "         'present': 24,\n",
              "         'websit': 7,\n",
              "         'pleas': 66,\n",
              "         'fix': 40,\n",
              "         'still': 32,\n",
              "         'rememb': 2,\n",
              "         'time': 104,\n",
              "         'export': 5,\n",
              "         'high': 12,\n",
              "         'definit': 10,\n",
              "         'love': 220,\n",
              "         'experi': 20,\n",
              "         'thank': 84,\n",
              "         'hey': 2,\n",
              "         'ye': 3,\n",
              "         'gave': 10,\n",
              "         'star': 40,\n",
              "         'rate': 12,\n",
              "         'coz': 3,\n",
              "         'believ': 3,\n",
              "         'deserv': 5,\n",
              "         'mostli': 4,\n",
              "         'desktop': 11,\n",
              "         'version': 45,\n",
              "         'serious': 1,\n",
              "         'satisfi': 13,\n",
              "         'android': 10,\n",
              "         'came': 1,\n",
              "         'develop': 11,\n",
              "         'beauti': 22,\n",
              "         'facil': 3,\n",
              "         'liter': 6,\n",
              "         'find': 18,\n",
              "         'almost': 5,\n",
              "         'everyth': 43,\n",
              "         'need': 65,\n",
              "         'best': 165,\n",
              "         'part': 4,\n",
              "         'even': 63,\n",
              "         'without': 25,\n",
              "         'premium': 24,\n",
              "         'featur': 71,\n",
              "         'provid': 13,\n",
              "         'us': 15,\n",
              "         'lot': 80,\n",
              "         'canva': 173,\n",
              "         'good': 219,\n",
              "         'recent': 14,\n",
              "         'face': 11,\n",
              "         'save': 103,\n",
              "         'file': 11,\n",
              "         'png': 3,\n",
              "         'format': 5,\n",
              "         'jpg': 1,\n",
              "         'moreov': 2,\n",
              "         'stuck': 9,\n",
              "         'download': 104,\n",
              "         'screen': 5,\n",
              "         'call': 5,\n",
              "         'magic': 6,\n",
              "         'happen': 14,\n",
              "         'll': 7,\n",
              "         '1': 7,\n",
              "         'hope': 18,\n",
              "         'soon': 9,\n",
              "         'brilliant': 5,\n",
              "         'problem': 55,\n",
              "         'm': 47,\n",
              "         'edit': 191,\n",
              "         'post': 25,\n",
              "         'doubl': 1,\n",
              "         'tap': 2,\n",
              "         'photo': 55,\n",
              "         'reposit': 2,\n",
              "         'start': 24,\n",
              "         '8': 3,\n",
              "         '10': 8,\n",
              "         'crash': 15,\n",
              "         'restart': 6,\n",
              "         'lg': 1,\n",
              "         'g5': 1,\n",
              "         'se': 1,\n",
              "         'sometim': 15,\n",
              "         'go': 29,\n",
              "         'pc': 3,\n",
              "         'resum': 13,\n",
              "         'back': 10,\n",
              "         'great': 184,\n",
              "         'make': 190,\n",
              "         'bt': 1,\n",
              "         'meme': 2,\n",
              "         'updat': 42,\n",
              "         'abl': 17,\n",
              "         'chang': 18,\n",
              "         'font': 18,\n",
              "         'style': 7,\n",
              "         'option': 70,\n",
              "         'miss': 5,\n",
              "         'tri': 62,\n",
              "         'uninstal': 13,\n",
              "         'instal': 17,\n",
              "         'nt': 159,\n",
              "         'work': 145,\n",
              "         'appear': 1,\n",
              "         'rare': 2,\n",
              "         'previou': 2,\n",
              "         'far': 30,\n",
              "         'better': 32,\n",
              "         'could': 35,\n",
              "         'given': 2,\n",
              "         'fact': 3,\n",
              "         'first': 36,\n",
              "         'give': 31,\n",
              "         'review': 10,\n",
              "         'creat': 117,\n",
              "         'logo': 82,\n",
              "         'flier': 2,\n",
              "         'small': 16,\n",
              "         'compani': 5,\n",
              "         'busi': 42,\n",
              "         'although': 4,\n",
              "         '4': 10,\n",
              "         'data': 10,\n",
              "         'oper': 2,\n",
              "         'see': 9,\n",
              "         'newer': 2,\n",
              "         'job': 15,\n",
              "         'basic': 11,\n",
              "         'design': 349,\n",
              "         'well': 27,\n",
              "         '2': 8,\n",
              "         'keep': 41,\n",
              "         'take': 54,\n",
              "         'away': 7,\n",
              "         'free': 110,\n",
              "         'put': 6,\n",
              "         'behind': 3,\n",
              "         'subscript': 14,\n",
              "         'wall': 1,\n",
              "         'rather': 2,\n",
              "         'new': 31,\n",
              "         'ad': 24,\n",
              "         'graphic': 73,\n",
              "         'feel': 10,\n",
              "         'price': 7,\n",
              "         '1299mo': 1,\n",
              "         'pretti': 14,\n",
              "         'steep': 1,\n",
              "         'someon': 2,\n",
              "         'everi': 27,\n",
              "         'singl': 2,\n",
              "         'day': 16,\n",
              "         'hand': 2,\n",
              "         'month': 8,\n",
              "         'thumbnail': 47,\n",
              "         'banner': 19,\n",
              "         'video': 71,\n",
              "         'watermark': 9,\n",
              "         'look': 23,\n",
              "         'much': 78,\n",
              "         'attract': 8,\n",
              "         'peopl': 11,\n",
              "         'come': 16,\n",
              "         'wonder': 21,\n",
              "         'superb': 18,\n",
              "         'user': 45,\n",
              "         'interfac': 19,\n",
              "         'finish': 7,\n",
              "         'awesom': 68,\n",
              "         'paid': 8,\n",
              "         'product': 6,\n",
              "         'label': 2,\n",
              "         'mock': 3,\n",
              "         'bottl': 1,\n",
              "         'exampl': 1,\n",
              "         'like': 109,\n",
              "         'full': 12,\n",
              "         'function': 13,\n",
              "         'adob': 4,\n",
              "         'kind': 9,\n",
              "         'skill': 7,\n",
              "         'set': 5,\n",
              "         'prefer': 4,\n",
              "         'easi': 293,\n",
              "         'trial': 4,\n",
              "         'decid': 3,\n",
              "         'purchas': 7,\n",
              "         'guess': 3,\n",
              "         'never': 15,\n",
              "         'said': 9,\n",
              "         'check': 9,\n",
              "         'seen': 12,\n",
              "         'pictur': 30,\n",
              "         'caption': 2,\n",
              "         'screenshoot': 1,\n",
              "         'crop': 3,\n",
              "         'wast': 9,\n",
              "         'moneyyyi': 1,\n",
              "         'solv': 8,\n",
              "         'around': 3,\n",
              "         'easier': 17,\n",
              "         'premad': 1,\n",
              "         'tool': 34,\n",
              "         'sticker': 4,\n",
              "         'etc': 25,\n",
              "         'four': 2,\n",
              "         'slow': 28,\n",
              "         'load': 24,\n",
              "         'especi': 8,\n",
              "         'stress': 5,\n",
              "         'got': 9,\n",
              "         'ta': 2,\n",
              "         'patienc': 1,\n",
              "         'wait': 7,\n",
              "         'stuff': 15,\n",
              "         'troubl': 4,\n",
              "         'clean': 5,\n",
              "         'cach': 1,\n",
              "         'page': 13,\n",
              "         'window': 1,\n",
              "         'went': 6,\n",
              "         'extend': 1,\n",
              "         'reinstal': 4,\n",
              "         'alright': 2,\n",
              "         'improv': 13,\n",
              "         'disappoint': 7,\n",
              "         'might': 2,\n",
              "         'discontinu': 1,\n",
              "         'membership': 2,\n",
              "         'wish': 14,\n",
              "         'close': 6,\n",
              "         'unabl': 17,\n",
              "         'noth': 8,\n",
              "         'help': 113,\n",
              "         'turn': 5,\n",
              "         'art': 5,\n",
              "         'informat': 1,\n",
              "         'money': 14,\n",
              "         'consist': 3,\n",
              "         'thousand': 2,\n",
              "         'readi': 5,\n",
              "         'templat': 103,\n",
              "         'friendli': 35,\n",
              "         'poster': 48,\n",
              "         'conveni': 15,\n",
              "         'crashesanoth': 1,\n",
              "         'main': 3,\n",
              "         'slide': 7,\n",
              "         'bottom': 2,\n",
              "         'panel': 1,\n",
              "         'randomli': 1,\n",
              "         'select': 6,\n",
              "         'icon': 4,\n",
              "         'frustrat': 8,\n",
              "         'bze': 2,\n",
              "         'transpar': 3,\n",
              "         'size': 3,\n",
              "         'automat': 6,\n",
              "         'anoth': 5,\n",
              "         'ca': 54,\n",
              "         'distinguish': 1,\n",
              "         'particular': 1,\n",
              "         'may': 8,\n",
              "         'show': 22,\n",
              "         'imag': 45,\n",
              "         'done': 9,\n",
              "         'hate': 15,\n",
              "         'anticip': 1,\n",
              "         'complet': 7,\n",
              "         'garbag': 3,\n",
              "         'partial': 2,\n",
              "         'live': 1,\n",
              "         'background': 13,\n",
              "         'bad': 13,\n",
              "         'open': 25,\n",
              "         'let': 12,\n",
              "         'sent': 2,\n",
              "         'screenshot': 3,\n",
              "         'canvameandroid': 1,\n",
              "         'asap': 2,\n",
              "         'project': 32,\n",
              "         'social': 19,\n",
              "         'media': 19,\n",
              "         'site': 8,\n",
              "         'client': 1,\n",
              "         'freelanc': 4,\n",
              "         'pend': 1,\n",
              "         'ever': 43,\n",
              "         'anyth': 24,\n",
              "         'anywher': 3,\n",
              "         'glitch': 9,\n",
              "         'it': 9,\n",
              "         'nice': 102,\n",
              "         'add': 27,\n",
              "         'gradient': 3,\n",
              "         'colour': 4,\n",
              "         'lebel': 1,\n",
              "         'thing': 45,\n",
              "         'remov': 8,\n",
              "         'tbh': 2,\n",
              "         'long': 16,\n",
              "         'connect': 19,\n",
              "         'strong': 1,\n",
              "         'worst': 16,\n",
              "         'lag': 17,\n",
              "         'becom': 5,\n",
              "         'hobbi': 1,\n",
              "         'aften': 1,\n",
              "         'auto': 8,\n",
              "         'final': 3,\n",
              "         'team': 11,\n",
              "         'spark': 2,\n",
              "         'enough': 7,\n",
              "         'perform': 3,\n",
              "         'say': 22,\n",
              "         'pro': 34,\n",
              "         'alot': 15,\n",
              "         'net': 1,\n",
              "         'low': 8,\n",
              "         'fantast': 23,\n",
              "         'applic': 59,\n",
              "         'happi': 7,\n",
              "         'youtub': 31,\n",
              "         'd': 6,\n",
              "         'someth': 26,\n",
              "         'perfect': 30,\n",
              "         'beginn': 36,\n",
              "         're': 7,\n",
              "         'read': 3,\n",
              "         'right': 11,\n",
              "         'cool': 31,\n",
              "         'awhil': 1,\n",
              "         'annoy': 7,\n",
              "         'share': 11,\n",
              "         'mode': 6,\n",
              "         'galleri': 7,\n",
              "         'n': 5,\n",
              "         'manual': 1,\n",
              "         'button': 4,\n",
              "         'u': 17,\n",
              "         'prob': 2,\n",
              "         'log': 15,\n",
              "         'plu': 4,\n",
              "         'posterlogo': 1,\n",
              "         'sooo': 4,\n",
              "         'alway': 20,\n",
              "         'attempt': 2,\n",
              "         'least': 1,\n",
              "         'mybloho': 1,\n",
              "         'card': 18,\n",
              "         'eas': 3,\n",
              "         'forward': 1,\n",
              "         'advertis': 7,\n",
              "         'yay': 1,\n",
              "         'reach': 2,\n",
              "         'goal': 1,\n",
              "         'interest': 18,\n",
              "         'differ': 9,\n",
              "         'creator': 12,\n",
              "         '100': 4,\n",
              "         'per': 2,\n",
              "         'recommend': 44,\n",
              "         'everyon': 10,\n",
              "         'desin': 1,\n",
              "         'program': 4,\n",
              "         'sever': 4,\n",
              "         'weak': 1,\n",
              "         'output': 4,\n",
              "         'total': 10,\n",
              "         'owner': 2,\n",
              "         'would': 27,\n",
              "         'resiz': 3,\n",
              "         'plz': 9,\n",
              "         'place': 7,\n",
              "         'creativ': 24,\n",
              "         'play': 10,\n",
              "         'life': 10,\n",
              "         'profession': 29,\n",
              "         'benefit': 2,\n",
              "         'properli': 12,\n",
              "         'servic': 11,\n",
              "         'qualiti': 31,\n",
              "         'variou': 4,\n",
              "         'purpos': 3,\n",
              "         'dissapoont': 1,\n",
              "         'offer': 8,\n",
              "         'level': 4,\n",
              "         'simplic': 2,\n",
              "         'until': 2,\n",
              "         'drag': 1,\n",
              "         'custom': 5,\n",
              "         'horribl': 2,\n",
              "         'incred': 9,\n",
              "         'phone': 32,\n",
              "         'appi': 3,\n",
              "         'impress': 6,\n",
              "         'similarli': 1,\n",
              "         'easili': 15,\n",
              "         'quickli': 4,\n",
              "         'intuit': 7,\n",
              "         'decent': 1,\n",
              "         'later': 2,\n",
              "         'knew': 1,\n",
              "         'afford': 6,\n",
              "         'absolut': 20,\n",
              "         'indispens': 1,\n",
              "         'you': 1,\n",
              "         'reset': 3,\n",
              "         'password': 2,\n",
              "         'choos': 13,\n",
              "         'person': 13,\n",
              "         'yet': 7,\n",
              "         'made': 23,\n",
              "         'know': 22,\n",
              "         'other': 9,\n",
              "         'among': 1,\n",
              "         'whole': 2,\n",
              "         'depend': 1,\n",
              "         'write': 10,\n",
              "         'tell': 9,\n",
              "         'wrong': 6,\n",
              "         'crapp': 1,\n",
              "         'besid': 2,\n",
              "         'faboulu': 1,\n",
              "         'task': 4,\n",
              "         'less': 8,\n",
              "         'idea': 6,\n",
              "         'local': 1,\n",
              "         'languag': 3,\n",
              "         'latest': 4,\n",
              "         'reload': 3,\n",
              "         'varieti': 9,\n",
              "         'ofcours': 1,\n",
              "         'im': 9,\n",
              "         'deadlin': 2,\n",
              "         'intrest': 1,\n",
              "         'suit': 1,\n",
              "         'item': 4,\n",
              "         'requir': 6,\n",
              "         'payment': 9,\n",
              "         'havrm': 1,\n",
              "         'simpl': 40,\n",
              "         'laptop': 6,\n",
              "         'fun': 21,\n",
              "         'frustat': 1,\n",
              "         'hi': 3,\n",
              "         'dev': 1,\n",
              "         'perfectli': 5,\n",
              "         'pl': 12,\n",
              "         'assist': 1,\n",
              "         'thk': 1,\n",
              "         'mark': 3,\n",
              "         'fanci': 1,\n",
              "         'minim': 1,\n",
              "         'platform': 19,\n",
              "         '3': 12,\n",
              "         'ppt': 4,\n",
              "         'competit': 2,\n",
              "         'advic': 1,\n",
              "         'kushagra': 1,\n",
              "         'major': 2,\n",
              "         'cost': 3,\n",
              "         'thier': 1,\n",
              "         'nearli': 1,\n",
              "         'way': 22,\n",
              "         'super': 38,\n",
              "         'everyday': 2,\n",
              "         'writer': 1,\n",
              "         'book': 4,\n",
              "         'cover': 13,\n",
              "         'deal': 1,\n",
              "         'lose': 2,\n",
              "         'reli': 1,\n",
              "         'autosav': 2,\n",
              "         'despit': 3,\n",
              "         'categori': 1,\n",
              "         'enabl': 2,\n",
              "         'end': 9,\n",
              "         'result': 9,\n",
              "         'disappear': 3,\n",
              "         'sure': 7,\n",
              "         'what': 4,\n",
              "         'tragic': 1,\n",
              "         'anyon': 8,\n",
              "         'extra': 2,\n",
              "         'million': 1,\n",
              "         'content': 27,\n",
              "         'anim': 7,\n",
              "         'letter': 2,\n",
              "         'dig': 1,\n",
              "         'up': 2,\n",
              "         'regist': 1,\n",
              "         'error': 6,\n",
              "         'state': 1,\n",
              "         'technic': 6,\n",
              "         'instagram': 11,\n",
              "         'numer': 1,\n",
              "         'vari': 1,\n",
              "         'softwar': 12,\n",
              "         'confus': 1,\n",
              "         'mayb': 1,\n",
              "         'caus': 3,\n",
              "         'subscrib': 6,\n",
              "         'lah': 1,\n",
              "         'stay': 3,\n",
              "         'peac': 2,\n",
              "         'chill': 1,\n",
              "         'spoil': 1,\n",
              "         'funcouldnt': 1,\n",
              "         'fast': 12,\n",
              "         'exit': 3,\n",
              "         'disturb': 3,\n",
              "         'internet': 15,\n",
              "         'prblmsam': 1,\n",
              "         'pay': 20,\n",
              "         'monthli': 2,\n",
              "         'allow': 10,\n",
              "         'editor': 12,\n",
              "         'stori': 9,\n",
              "         'must': 11,\n",
              "         'world': 8,\n",
              "         'wallpap': 2,\n",
              "         'els': 3,\n",
              "         'hang': 6,\n",
              "         'that': 3,\n",
              "         'fabul': 4,\n",
              "         'profression': 1,\n",
              "         'amzingli': 1,\n",
              "         'quickest': 1,\n",
              "         'channel': 7,\n",
              "         'applicationveri': 1,\n",
              "         'water': 1,\n",
              "         'markthank': 1,\n",
              "         'creater': 3,\n",
              "         'birthday': 6,\n",
              "         'eid': 1,\n",
              "         'mubarak': 1,\n",
              "         'facebook': 5,\n",
              "         'flyer': 14,\n",
              "         'suck': 9,\n",
              "         'badli': 3,\n",
              "         'shut': 2,\n",
              "         'delet': 3,\n",
              "         'advis': 1,\n",
              "         'gamer': 1,\n",
              "         'shark': 1,\n",
              "         'glitchi': 2,\n",
              "         'unus': 1,\n",
              "         'junk': 1,\n",
              "         'charg': 8,\n",
              "         'refund': 4,\n",
              "         'consid': 3,\n",
              "         'defenetley': 1,\n",
              "         'reccomend': 1,\n",
              "         'student': 7,\n",
              "         'learn': 16,\n",
              "         'seem': 8,\n",
              "         '𝙞': 1,\n",
              "         '𝙡𝙞𝙠𝙚': 1,\n",
              "         '𝙩𝙝𝙞𝙨': 1,\n",
              "         '𝙖𝙥𝙥': 1,\n",
              "         '𝘪': 2,\n",
              "         '𝘰𝘧𝘵𝘦𝘯': 1,\n",
              "         '𝘶𝘴𝘦': 1,\n",
              "         '𝘪𝘵': 1,\n",
              "         '𝘵𝘰': 1,\n",
              "         '𝘤𝘳𝘦𝘢𝘵𝘦': 1,\n",
              "         '𝘴𝘰𝘮𝘦': 1,\n",
              "         '𝘭𝘰𝘨𝘰𝘴': 1,\n",
              "         '𝘧𝘰𝘳': 1,\n",
              "         '𝘮𝘺𝘴𝘦𝘭𝘧': 1,\n",
              "         '𝘢𝘯𝘥': 1,\n",
              "         '𝘵𝘩𝘪𝘴': 1,\n",
              "         '𝘪𝘴': 1,\n",
              "         '𝘵𝘩𝘦': 1,\n",
              "         '𝘣𝘦𝘴𝘵': 1,\n",
              "         '𝘢𝘱𝘱': 1,\n",
              "         '𝘵𝘩𝘢𝘵': 1,\n",
              "         '𝘩𝘢𝘥': 1,\n",
              "         'tone': 2,\n",
              "         'school': 8,\n",
              "         'bit': 11,\n",
              "         'otherwis': 8,\n",
              "         'excel': 35,\n",
              "         'system': 3,\n",
              "         'smoothli': 6,\n",
              "         'kept': 4,\n",
              "         'buffer': 1,\n",
              "         'order': 4,\n",
              "         'week': 3,\n",
              "         'ship': 2,\n",
              "         'top': 5,\n",
              "         'tier': 1,\n",
              "         'instead': 1,\n",
              "         'click': 5,\n",
              "         'advanc': 4,\n",
              "         'bug': 10,\n",
              "         'album': 2,\n",
              "         'grey': 1,\n",
              "         'cant': 11,\n",
              "         'press': 2,\n",
              "         'access': 12,\n",
              "         'countri': 1,\n",
              "         'onlin': 7,\n",
              "         'quick': 13,\n",
              "         'layout': 4,\n",
              "         'stressful': 1,\n",
              "         'difficult': 7,\n",
              "         'ton': 5,\n",
              "         'opinion': 2,\n",
              "         'smooth': 5,\n",
              "         'reason': 3,\n",
              "         'either': 3,\n",
              "         'therefor': 2,\n",
              "         'goe': 2,\n",
              "         'vain': 1,\n",
              "         'ss': 1,\n",
              "         'ruin': 2,\n",
              "         'introduc': 1,\n",
              "         'friend': 5,\n",
              "         'colleagu': 1,\n",
              "         'ez': 1,\n",
              "         'wan': 1,\n",
              "         'na': 4,\n",
              "         'market': 8,\n",
              "         'budget': 2,\n",
              "         'gr8': 2,\n",
              "         'ilov': 1,\n",
              "         'ive': 1,\n",
              "         'loooooveee': 1,\n",
              "         'fals': 1,\n",
              "         'notic': 1,\n",
              "         'network': 11,\n",
              "         'cancel': 6,\n",
              "         'situat': 1,\n",
              "         'longer': 3,\n",
              "         'neither': 1,\n",
              "         'avail': 13,\n",
              "         'creatur': 1,\n",
              "         'outstand': 3,\n",
              "         'game': 6,\n",
              "         'changer': 2,\n",
              "         'challeng': 1,\n",
              "         'portfolio': 2,\n",
              "         'promo': 1,\n",
              "         'autêntico': 1,\n",
              "         'e': 1,\n",
              "         'inédito': 1,\n",
              "         'amo': 1,\n",
              "         'demai': 1,\n",
              "         'ess': 1,\n",
              "         'dope': 2,\n",
              "         'cuz': 4,\n",
              "         'known': 2,\n",
              "         'complaint': 3,\n",
              "         'offlin': 6,\n",
              "         'fine': 5,\n",
              "         'l': 3,\n",
              "         'experienc': 6,\n",
              "         'courier': 1,\n",
              "         'photoshop': 8,\n",
              "         'immens': 1,\n",
              "         'deciph': 1,\n",
              "         'complimentari': 1,\n",
              "         'wo': 12,\n",
              "         'anymor': 1,\n",
              "         'googl': 7,\n",
              "         'account': 18,\n",
              "         'continu': 4,\n",
              "         'special': 5,\n",
              "         'asort': 1,\n",
              "         'effici': 4,\n",
              "         'instantli': 2,\n",
              "         'inde': 2,\n",
              "         'terbaik': 1,\n",
              "         'muahhh2': 1,\n",
              "         'prefect': 2,\n",
              "         'helpful': 2,\n",
              "         'aap': 7,\n",
              "         'print': 6,\n",
              "         'encount': 1,\n",
              "         'navig': 8,\n",
              "         'invit': 5,\n",
              "         'kid': 1,\n",
              "         'parti': 1,\n",
              "         'customiz': 1,\n",
              "         'enjoy': 14,\n",
              "         'old': 2,\n",
              "         'respond': 4,\n",
              "         'suggest': 9,\n",
              "         'understand': 8,\n",
              "         'bekar': 1,\n",
              "         'hai': 1,\n",
              "         'meant': 1,\n",
              "         'useless': 6,\n",
              "         'second': 4,\n",
              "         'bold': 2,\n",
              "         'underlin': 1,\n",
              "         'boost': 1,\n",
              "         'promot': 4,\n",
              "         'apk': 2,\n",
              "         'entrepreneur': 3,\n",
              "         'outsid': 1,\n",
              "         'materi': 4,\n",
              "         'insta': 5,\n",
              "         'repli': 3,\n",
              "         '_': 1,\n",
              "         'shyt': 1,\n",
              "         '12hour': 1,\n",
              "         'non': 1,\n",
              "         'tech': 1,\n",
              "         'waaa': 1,\n",
              "         'flexibl': 2,\n",
              "         'touch': 1,\n",
              "         'sampl': 1,\n",
              "         'browser': 2,\n",
              "         'appli': 1,\n",
              "         'idk': 1,\n",
              "         'bugsth': 1,\n",
              "         'enter': 2,\n",
              "         'key': 1,\n",
              "         'next': 3,\n",
              "         'line': 5,\n",
              "         'postspleas': 1,\n",
              "         'minor': 1,\n",
              "         'type': 9,\n",
              "         'toll': 1,\n",
              "         'hust': 1,\n",
              "         'forget': 2,\n",
              "         'useful': 4,\n",
              "         'front': 1,\n",
              "         'userfriendli': 3,\n",
              "         'semma': 1,\n",
              "         'ba': 1,\n",
              "         'atleast': 1,\n",
              "         '50': 1,\n",
              "         'due': 5,\n",
              "         'eleg': 1,\n",
              "         'cute': 3,\n",
              "         'whatev': 6,\n",
              "         'chef': 1,\n",
              "         'cook': 1,\n",
              "         'commer': 1,\n",
              "         'handi': 1,\n",
              "         'noviceit': 1,\n",
              "         'erc': 1,\n",
              "         'power': 2,\n",
              "         'starter': 2,\n",
              "         'wt': 1,\n",
              "         'guiden': 1,\n",
              "         'highli': 14,\n",
              "         'hd': 3,\n",
              "         'quot': 2,\n",
              "         'gif': 2,\n",
              "         'collag': 8,\n",
              "         'iam': 2,\n",
              "         'editsr': 1,\n",
              "         'gener': 2,\n",
              "         'found': 8,\n",
              "         'doubt': 5,\n",
              "         'usefulltri': 1,\n",
              "         'effect': 11,\n",
              "         'practic': 4,\n",
              "         'blurri': 1,\n",
              "         'illustr': 1,\n",
              "         'send': 3,\n",
              "         'via': 2,\n",
              "         'email': 7,\n",
              "         'heap': 1,\n",
              "         'rich': 1,\n",
              "         'personalis': 1,\n",
              "         'expertslov': 1,\n",
              "         'quit': 6,\n",
              "         'hard': 10,\n",
              "         'appcreat': 1,\n",
              "         'genuin': 2,\n",
              "         'wow': 10,\n",
              "         'amazingfun': 1,\n",
              "         'happili': 1,\n",
              "         'common': 1,\n",
              "         'offic': 2,\n",
              "         'document': 1,\n",
              "         'organis': 1,\n",
              "         'muchit': 1,\n",
              "         'motiv': 2,\n",
              "         'biggner': 1,\n",
              "         'base': 1,\n",
              "         'knowledg': 1,\n",
              "         'wifi': 8,\n",
              "         'ask': 6,\n",
              "         'more': 2,\n",
              "         'pack': 2,\n",
              "         'daili': 6,\n",
              "         'run': 8,\n",
              "         'unlimit': 2,\n",
              "         'cours': 1,\n",
              "         'limit': 6,\n",
              "         'guy': 11,\n",
              "         'bravo': 1,\n",
              "         'aa': 1,\n",
              "         'uniqu': 3,\n",
              "         'soo': 8,\n",
              "         'bcoz': 2,\n",
              "         'grate': 2,\n",
              "         'music': 4,\n",
              "         'everytim': 6,\n",
              "         'request': 4,\n",
              "         'legitim': 1,\n",
              "         'forev': 10,\n",
              "         'element': 4,\n",
              "         'smoke': 1,\n",
              "         'fell': 1,\n",
              "         'two': 2,\n",
              "         'simpli': 8,\n",
              "         'word': 5,\n",
              "         'explainnic': 1,\n",
              "         'marvel': 2,\n",
              "         'aspect': 1,\n",
              "         'osm': 2,\n",
              "         'figur': 4,\n",
              "         'brochur': 1,\n",
              "         'includ': 2,\n",
              "         'id': 1,\n",
              "         'definetli': 1,\n",
              "         'visual': 2,\n",
              "         'gain': 1,\n",
              "         'worth': 10,\n",
              "         'expens': 4,\n",
              "         'useveri': 1,\n",
              "         'androidshould': 1,\n",
              "         'plzzzzz': 1,\n",
              "         'took': 5,\n",
              "         'bigger': 1,\n",
              "         'odinari': 1,\n",
              "         'emoji': 1,\n",
              "         'keyboard': 2,\n",
              "         'diffrenc': 1,\n",
              "         'clearer': 1,\n",
              "         'picsartgood': 1,\n",
              "         '1st': 2,\n",
              "         'prepar': 7,\n",
              "         'minut': 9,\n",
              "         '5star': 1,\n",
              "         'moon': 1,\n",
              "         'sun': 1,\n",
              "         'except': 6,\n",
              "         'bestfreind': 1,\n",
              "         'loveee': 1,\n",
              "         'thisss': 1,\n",
              "         'appp': 1,\n",
              "         'member': 1,\n",
              "         'yo': 1,\n",
              "         'outlin': 1,\n",
              "         'stupidli': 1,\n",
              "         'stupid': 2,\n",
              "         'throughout': 1,\n",
              "         'expert': 3,\n",
              "         'side': 4,\n",
              "         'deduct': 1,\n",
              "         'actual': 5,\n",
              "         'amount': 3,\n",
              "         'collect': 1,\n",
              "         'render': 2,\n",
              "         'favourit': 1,\n",
              "         'photographi': 1,\n",
              "         'merg': 2,\n",
              "         'box': 1,\n",
              "         'rang': 4,\n",
              "         'certif': 2,\n",
              "         'blow': 2,\n",
              "         'mind': 6,\n",
              "         'shape': 4,\n",
              "         'reshap': 1,\n",
              "         'eg': 2,\n",
              "         'squar': 2,\n",
              "         'circl': 3,\n",
              "         'lil': 3,\n",
              "         'upgrad': 8,\n",
              "         'event': 2,\n",
              "         'tooo': 2,\n",
              "         'worser': 1,\n",
              "         'welcom': 1,\n",
              "         'someday': 1,\n",
              "         'control': 2,\n",
              "         'certain': 1,\n",
              "         'stop': 2,\n",
              "         'steal': 1,\n",
              "         'moneyy': 1,\n",
              "         'there': 4,\n",
              "         'fill': 2,\n",
              "         'form': 2,\n",
              "         'submit': 2,\n",
              "         'valid': 1,\n",
              "         'moneyim': 1,\n",
              "         'login': 4,\n",
              "         'inform': 1,\n",
              "         'tube': 2,\n",
              "         'manni': 1,\n",
              "         'view': 4,\n",
              "         'contact': 2,\n",
              "         'twice': 3,\n",
              "         'kindli': 6,\n",
              "         'fastest': 1,\n",
              "         'fli': 2,\n",
              "         'number': 4,\n",
              "         'exist': 4,\n",
              "         'stun': 5,\n",
              "         'initi': 1,\n",
              "         'pic': 7,\n",
              "         'fan': 1,\n",
              "         'aesthet': 3,\n",
              "         'futur': 5,\n",
              "         'insert': 1,\n",
              "         'welldon': 2,\n",
              "         'doesnt': 3,\n",
              "         'implement': 1,\n",
              "         'accord': 1,\n",
              "         'choosw': 1,\n",
              "         'one1': 1,\n",
              "         'refer': 2,\n",
              "         'defenatli': 1,\n",
              "         'homepag': 1,\n",
              "         'versatil': 3,\n",
              "         'noob': 2,\n",
              "         'irrit': 2,\n",
              "         'resolv': 2,\n",
              "         'build': 1,\n",
              "         'harder': 1,\n",
              "         'truli': 4,\n",
              "         'appreci': 6,\n",
              "         'r': 2,\n",
              "         'ur': 4,\n",
              "         'designit': 1,\n",
              "         'feed': 1,\n",
              "         'pertain': 1,\n",
              "         'industri': 2,\n",
              "         'whatsoev': 1,\n",
              "         'resourc': 2,\n",
              "         'innov': 1,\n",
              "         'favorit': 2,\n",
              "         'self': 1,\n",
              "         'employ': 1,\n",
              "         'ebook': 1,\n",
              "         'difficulti': 4,\n",
              "         'compliant': 1,\n",
              "         'today': 4,\n",
              "         'suppos': 1,\n",
              "         '59': 1,\n",
              "         'indian': 1,\n",
              "         'rupe': 1,\n",
              "         'success': 1,\n",
              "         'bank': 1,\n",
              "         'deni': 1,\n",
              "         'matter': 3,\n",
              "         'regard': 1,\n",
              "         'convini': 1,\n",
              "         'elect': 1,\n",
              "         'manifesto': 1,\n",
              "         'beauri': 1,\n",
              "         'desir': 3,\n",
              "         'fed': 1,\n",
              "         'sign': 6,\n",
              "         'alreadi': 8,\n",
              "         'theme': 3,\n",
              "         'ooooh': 1,\n",
              "         'minamilist': 1,\n",
              "         'customis': 1,\n",
              "         'permiss': 1,\n",
              "         'paperwork': 2,\n",
              "         'articl': 2,\n",
              "         'accident': 2,\n",
              "         ...})"
            ]
          },
          "metadata": {},
          "execution_count": 69
        }
      ]
    },
    {
      "cell_type": "code",
      "execution_count": 70,
      "id": "6c0b5e85",
      "metadata": {
        "id": "6c0b5e85",
        "outputId": "f0797230-d654-4946-dfe2-313d59efb462",
        "colab": {
          "base_uri": "https://localhost:8080/"
        }
      },
      "outputs": [
        {
          "output_type": "execute_result",
          "data": {
            "text/plain": [
              "1720"
            ]
          },
          "metadata": {},
          "execution_count": 70
        }
      ],
      "source": [
        "len(counts)"
      ]
    },
    {
      "cell_type": "code",
      "execution_count": 71,
      "id": "27044c50",
      "metadata": {
        "id": "27044c50",
        "outputId": "044eda5b-2c06-4565-d8ef-ed27423e374f",
        "colab": {
          "base_uri": "https://localhost:8080/"
        }
      },
      "outputs": [
        {
          "output_type": "execute_result",
          "data": {
            "text/plain": [
              "[('app', 932),\n",
              " ('use', 474),\n",
              " ('design', 349),\n",
              " ('easi', 293),\n",
              " ('s', 240),\n",
              " ('love', 220),\n",
              " ('good', 219),\n",
              " ('edit', 191),\n",
              " ('make', 190),\n",
              " ('great', 184)]"
            ]
          },
          "metadata": {},
          "execution_count": 71
        }
      ],
      "source": [
        "counts.most_common(10)"
      ]
    },
    {
      "cell_type": "markdown",
      "id": "8a7145eb",
      "metadata": {
        "id": "8a7145eb"
      },
      "source": [
        "# Bag of Words"
      ]
    },
    {
      "cell_type": "markdown",
      "source": [
        "- Bag-of-words is a simple technique that counts the number of times each word appears in a document."
      ],
      "metadata": {
        "id": "wHn7VDYi2nDi"
      },
      "id": "wHn7VDYi2nDi"
    },
    {
      "cell_type": "code",
      "execution_count": 90,
      "id": "8ceece36",
      "metadata": {
        "id": "8ceece36",
        "outputId": "ac5bceb8-eac5-4642-a729-91c8335dac7f",
        "colab": {
          "base_uri": "https://localhost:8080/"
        }
      },
      "outputs": [
        {
          "output_type": "execute_result",
          "data": {
            "text/plain": [
              "['unabl', 'save', 'work', 'noth', 'work']"
            ]
          },
          "metadata": {},
          "execution_count": 90
        }
      ],
      "source": [
        "tokens[13]"
      ]
    },
    {
      "cell_type": "code",
      "execution_count": 73,
      "id": "20148bfa",
      "metadata": {
        "id": "20148bfa",
        "outputId": "71598bda-f104-4e7d-9b67-6249cf86dbe0",
        "colab": {
          "base_uri": "https://localhost:8080/",
          "height": 35
        }
      },
      "outputs": [
        {
          "output_type": "execute_result",
          "data": {
            "text/plain": [
              "'unabl save work noth work'"
            ],
            "application/vnd.google.colaboratory.intrinsic+json": {
              "type": "string"
            }
          },
          "metadata": {},
          "execution_count": 73
        }
      ],
      "source": [
        "\" \".join(tokens[13])"
      ]
    },
    {
      "cell_type": "code",
      "execution_count": 74,
      "id": "c2182b74",
      "metadata": {
        "id": "c2182b74"
      },
      "outputs": [],
      "source": [
        "clean_reviews = [\" \".join(t) for t in tokens]"
      ]
    },
    {
      "cell_type": "code",
      "execution_count": 75,
      "id": "534e48d5",
      "metadata": {
        "id": "534e48d5",
        "outputId": "ac13bcb8-76f6-4836-ad5f-5d4383b5addd",
        "colab": {
          "base_uri": "https://localhost:8080/",
          "height": 35
        }
      },
      "outputs": [
        {
          "output_type": "execute_result",
          "data": {
            "text/plain": [
              "'unabl save work noth work'"
            ],
            "application/vnd.google.colaboratory.intrinsic+json": {
              "type": "string"
            }
          },
          "metadata": {},
          "execution_count": 75
        }
      ],
      "source": [
        "clean_reviews[13]"
      ]
    },
    {
      "cell_type": "code",
      "execution_count": 76,
      "id": "b6a78b1a",
      "metadata": {
        "id": "b6a78b1a",
        "outputId": "bd7ab63a-23f8-4a48-b967-23f93cf9aa7e",
        "colab": {
          "base_uri": "https://localhost:8080/",
          "height": 35
        }
      },
      "outputs": [
        {
          "output_type": "execute_result",
          "data": {
            "text/plain": [
              "'absolut amaz lifesav teacher'"
            ],
            "application/vnd.google.colaboratory.intrinsic+json": {
              "type": "string"
            }
          },
          "metadata": {},
          "execution_count": 76
        }
      ],
      "source": [
        "clean_reviews[1495]"
      ]
    },
    {
      "cell_type": "code",
      "source": [
        "clean_reviews[:10]"
      ],
      "metadata": {
        "colab": {
          "base_uri": "https://localhost:8080/"
        },
        "id": "5vYIaZ1XJCi_",
        "outputId": "958d4235-45b7-4223-a7bd-8f7c33a03416"
      },
      "id": "5vYIaZ1XJCi_",
      "execution_count": 77,
      "outputs": [
        {
          "output_type": "execute_result",
          "data": {
            "text/plain": [
              "['overal s realli amaz app ve use past 5 year howev one issu though want get address sinc think issu last mani year text blur zoom s pixel thought issu occur mobil app howev also present websit pleas fix still rememb time export high definit text love experi thank',\n",
              " 'hey ye gave 5 star rate coz believ deserv mostli use desktop version serious satisfi app android desktop version came thank develop beauti app facil liter find almost everyth need best part even without premium featur provid us lot mani facil love thank',\n",
              " 'canva use good app recent ve face issu save file want file save png format get save jpg format moreov want file save get stuck download screen call magic happen ll get 1 star hope fix app soon thank',\n",
              " 's brilliant app one problem m edit post doubl tap photo reposit start zoom photo 8 time 10 app crash restart lg g5 se sometim ve go desktop version pc reposit zoom photo want resum edit back mobil',\n",
              " 'great app use make bt meme recent updat m abl chang font style edit option font miss tri uninstal instal app still s nt work edit option font appear rare previou version far better canva could pleas work',\n",
              " 'app realli great given fact first time give review app s great creat logo flier small compani busi although gave 4 star need data oper ll love see newer version nt use data use app great job',\n",
              " 'canva great app basic design job well m rate 2 star keep take featur away free version put behind subscript wall rather creat new featur ad new font graphic premium also feel subscript price 1299mo pretti steep someon nt use busi everi singl day want hand font',\n",
              " 'use app last 2 month use make thumbnail banner video watermark thumbnail look much attract app s mani peopl attract come video give 5 star mani ad still love app thank make wonder app thank',\n",
              " 'superb user interfac finish edit first video wonder awesom paid version hope app make product label put label mock bottl exampl like full function adob kind need skill set prefer easi edit like app thank canva',\n",
              " 'start trial everyth work pretti well decid purchas everi month guess everi video edit save never save even mani time tri said save check file never seen pictur caption blur need screenshoot crop use edit design happen canva wast moneyyyi hope solv problem pleas']"
            ]
          },
          "metadata": {},
          "execution_count": 77
        }
      ]
    },
    {
      "cell_type": "code",
      "execution_count": 78,
      "id": "fd0ab97a",
      "metadata": {
        "id": "fd0ab97a"
      },
      "outputs": [],
      "source": [
        "vect = CountVectorizer(binary=True, min_df=5)"
      ]
    },
    {
      "cell_type": "code",
      "source": [
        "type(vect)"
      ],
      "metadata": {
        "colab": {
          "base_uri": "https://localhost:8080/",
          "height": 239
        },
        "id": "UesRt20SAocy",
        "outputId": "187de4bb-9b6e-4c41-905f-e91e502c3f92"
      },
      "id": "UesRt20SAocy",
      "execution_count": 91,
      "outputs": [
        {
          "output_type": "execute_result",
          "data": {
            "text/plain": [
              "sklearn.feature_extraction.text.CountVectorizer"
            ],
            "text/html": [
              "<div style=\"max-width:800px; border: 1px solid var(--colab-border-color);\"><style>\n",
              "      pre.function-repr-contents {\n",
              "        overflow-x: auto;\n",
              "        padding: 8px 12px;\n",
              "        max-height: 500px;\n",
              "      }\n",
              "\n",
              "      pre.function-repr-contents.function-repr-contents-collapsed {\n",
              "        cursor: pointer;\n",
              "        max-height: 100px;\n",
              "      }\n",
              "    </style>\n",
              "    <pre style=\"white-space: initial; background:\n",
              "         var(--colab-secondary-surface-color); padding: 8px 12px;\n",
              "         border-bottom: 1px solid var(--colab-border-color);\"><b>sklearn.feature_extraction.text.CountVectorizer</b><br/>def __init__(*, input=&#x27;content&#x27;, encoding=&#x27;utf-8&#x27;, decode_error=&#x27;strict&#x27;, strip_accents=None, lowercase=True, preprocessor=None, tokenizer=None, stop_words=None, token_pattern=&#x27;(?u)\\\\b\\\\w\\\\w+\\\\b&#x27;, ngram_range=(1, 1), analyzer=&#x27;word&#x27;, max_df=1.0, min_df=1, max_features=None, vocabulary=None, binary=False, dtype=np.int64)</pre><pre class=\"function-repr-contents function-repr-contents-collapsed\" style=\"\"><a class=\"filepath\" style=\"display:none\" href=\"#\">/usr/local/lib/python3.10/dist-packages/sklearn/feature_extraction/text.py</a>Convert a collection of text documents to a matrix of token counts.\n",
              "\n",
              "This implementation produces a sparse representation of the counts using\n",
              "scipy.sparse.csr_matrix.\n",
              "\n",
              "If you do not provide an a-priori dictionary and you do not use an analyzer\n",
              "that does some kind of feature selection then the number of features will\n",
              "be equal to the vocabulary size found by analyzing the data.\n",
              "\n",
              "Read more in the :ref:`User Guide &lt;text_feature_extraction&gt;`.\n",
              "\n",
              "Parameters\n",
              "----------\n",
              "input : {&#x27;filename&#x27;, &#x27;file&#x27;, &#x27;content&#x27;}, default=&#x27;content&#x27;\n",
              "    - If `&#x27;filename&#x27;`, the sequence passed as an argument to fit is\n",
              "      expected to be a list of filenames that need reading to fetch\n",
              "      the raw content to analyze.\n",
              "\n",
              "    - If `&#x27;file&#x27;`, the sequence items must have a &#x27;read&#x27; method (file-like\n",
              "      object) that is called to fetch the bytes in memory.\n",
              "\n",
              "    - If `&#x27;content&#x27;`, the input is expected to be a sequence of items that\n",
              "      can be of type string or byte.\n",
              "\n",
              "encoding : str, default=&#x27;utf-8&#x27;\n",
              "    If bytes or files are given to analyze, this encoding is used to\n",
              "    decode.\n",
              "\n",
              "decode_error : {&#x27;strict&#x27;, &#x27;ignore&#x27;, &#x27;replace&#x27;}, default=&#x27;strict&#x27;\n",
              "    Instruction on what to do if a byte sequence is given to analyze that\n",
              "    contains characters not of the given `encoding`. By default, it is\n",
              "    &#x27;strict&#x27;, meaning that a UnicodeDecodeError will be raised. Other\n",
              "    values are &#x27;ignore&#x27; and &#x27;replace&#x27;.\n",
              "\n",
              "strip_accents : {&#x27;ascii&#x27;, &#x27;unicode&#x27;} or callable, default=None\n",
              "    Remove accents and perform other character normalization\n",
              "    during the preprocessing step.\n",
              "    &#x27;ascii&#x27; is a fast method that only works on characters that have\n",
              "    a direct ASCII mapping.\n",
              "    &#x27;unicode&#x27; is a slightly slower method that works on any characters.\n",
              "    None (default) does nothing.\n",
              "\n",
              "    Both &#x27;ascii&#x27; and &#x27;unicode&#x27; use NFKD normalization from\n",
              "    :func:`unicodedata.normalize`.\n",
              "\n",
              "lowercase : bool, default=True\n",
              "    Convert all characters to lowercase before tokenizing.\n",
              "\n",
              "preprocessor : callable, default=None\n",
              "    Override the preprocessing (strip_accents and lowercase) stage while\n",
              "    preserving the tokenizing and n-grams generation steps.\n",
              "    Only applies if ``analyzer`` is not callable.\n",
              "\n",
              "tokenizer : callable, default=None\n",
              "    Override the string tokenization step while preserving the\n",
              "    preprocessing and n-grams generation steps.\n",
              "    Only applies if ``analyzer == &#x27;word&#x27;``.\n",
              "\n",
              "stop_words : {&#x27;english&#x27;}, list, default=None\n",
              "    If &#x27;english&#x27;, a built-in stop word list for English is used.\n",
              "    There are several known issues with &#x27;english&#x27; and you should\n",
              "    consider an alternative (see :ref:`stop_words`).\n",
              "\n",
              "    If a list, that list is assumed to contain stop words, all of which\n",
              "    will be removed from the resulting tokens.\n",
              "    Only applies if ``analyzer == &#x27;word&#x27;``.\n",
              "\n",
              "    If None, no stop words will be used. In this case, setting `max_df`\n",
              "    to a higher value, such as in the range (0.7, 1.0), can automatically detect\n",
              "    and filter stop words based on intra corpus document frequency of terms.\n",
              "\n",
              "token_pattern : str or None, default=r&quot;(?u)\\\\b\\\\w\\\\w+\\\\b&quot;\n",
              "    Regular expression denoting what constitutes a &quot;token&quot;, only used\n",
              "    if ``analyzer == &#x27;word&#x27;``. The default regexp select tokens of 2\n",
              "    or more alphanumeric characters (punctuation is completely ignored\n",
              "    and always treated as a token separator).\n",
              "\n",
              "    If there is a capturing group in token_pattern then the\n",
              "    captured group content, not the entire match, becomes the token.\n",
              "    At most one capturing group is permitted.\n",
              "\n",
              "ngram_range : tuple (min_n, max_n), default=(1, 1)\n",
              "    The lower and upper boundary of the range of n-values for different\n",
              "    word n-grams or char n-grams to be extracted. All values of n such\n",
              "    such that min_n &lt;= n &lt;= max_n will be used. For example an\n",
              "    ``ngram_range`` of ``(1, 1)`` means only unigrams, ``(1, 2)`` means\n",
              "    unigrams and bigrams, and ``(2, 2)`` means only bigrams.\n",
              "    Only applies if ``analyzer`` is not callable.\n",
              "\n",
              "analyzer : {&#x27;word&#x27;, &#x27;char&#x27;, &#x27;char_wb&#x27;} or callable, default=&#x27;word&#x27;\n",
              "    Whether the feature should be made of word n-gram or character\n",
              "    n-grams.\n",
              "    Option &#x27;char_wb&#x27; creates character n-grams only from text inside\n",
              "    word boundaries; n-grams at the edges of words are padded with space.\n",
              "\n",
              "    If a callable is passed it is used to extract the sequence of features\n",
              "    out of the raw, unprocessed input.\n",
              "\n",
              "    .. versionchanged:: 0.21\n",
              "\n",
              "    Since v0.21, if ``input`` is ``filename`` or ``file``, the data is\n",
              "    first read from the file and then passed to the given callable\n",
              "    analyzer.\n",
              "\n",
              "max_df : float in range [0.0, 1.0] or int, default=1.0\n",
              "    When building the vocabulary ignore terms that have a document\n",
              "    frequency strictly higher than the given threshold (corpus-specific\n",
              "    stop words).\n",
              "    If float, the parameter represents a proportion of documents, integer\n",
              "    absolute counts.\n",
              "    This parameter is ignored if vocabulary is not None.\n",
              "\n",
              "min_df : float in range [0.0, 1.0] or int, default=1\n",
              "    When building the vocabulary ignore terms that have a document\n",
              "    frequency strictly lower than the given threshold. This value is also\n",
              "    called cut-off in the literature.\n",
              "    If float, the parameter represents a proportion of documents, integer\n",
              "    absolute counts.\n",
              "    This parameter is ignored if vocabulary is not None.\n",
              "\n",
              "max_features : int, default=None\n",
              "    If not None, build a vocabulary that only consider the top\n",
              "    `max_features` ordered by term frequency across the corpus.\n",
              "    Otherwise, all features are used.\n",
              "\n",
              "    This parameter is ignored if vocabulary is not None.\n",
              "\n",
              "vocabulary : Mapping or iterable, default=None\n",
              "    Either a Mapping (e.g., a dict) where keys are terms and values are\n",
              "    indices in the feature matrix, or an iterable over terms. If not\n",
              "    given, a vocabulary is determined from the input documents. Indices\n",
              "    in the mapping should not be repeated and should not have any gap\n",
              "    between 0 and the largest index.\n",
              "\n",
              "binary : bool, default=False\n",
              "    If True, all non zero counts are set to 1. This is useful for discrete\n",
              "    probabilistic models that model binary events rather than integer\n",
              "    counts.\n",
              "\n",
              "dtype : dtype, default=np.int64\n",
              "    Type of the matrix returned by fit_transform() or transform().\n",
              "\n",
              "Attributes\n",
              "----------\n",
              "vocabulary_ : dict\n",
              "    A mapping of terms to feature indices.\n",
              "\n",
              "fixed_vocabulary_ : bool\n",
              "    True if a fixed vocabulary of term to indices mapping\n",
              "    is provided by the user.\n",
              "\n",
              "stop_words_ : set\n",
              "    Terms that were ignored because they either:\n",
              "\n",
              "      - occurred in too many documents (`max_df`)\n",
              "      - occurred in too few documents (`min_df`)\n",
              "      - were cut off by feature selection (`max_features`).\n",
              "\n",
              "    This is only available if no vocabulary was given.\n",
              "\n",
              "See Also\n",
              "--------\n",
              "HashingVectorizer : Convert a collection of text documents to a\n",
              "    matrix of token counts.\n",
              "\n",
              "TfidfVectorizer : Convert a collection of raw documents to a matrix\n",
              "    of TF-IDF features.\n",
              "\n",
              "Notes\n",
              "-----\n",
              "The ``stop_words_`` attribute can get large and increase the model size\n",
              "when pickling. This attribute is provided only for introspection and can\n",
              "be safely removed using delattr or set to None before pickling.\n",
              "\n",
              "Examples\n",
              "--------\n",
              "&gt;&gt;&gt; from sklearn.feature_extraction.text import CountVectorizer\n",
              "&gt;&gt;&gt; corpus = [\n",
              "...     &#x27;This is the first document.&#x27;,\n",
              "...     &#x27;This document is the second document.&#x27;,\n",
              "...     &#x27;And this is the third one.&#x27;,\n",
              "...     &#x27;Is this the first document?&#x27;,\n",
              "... ]\n",
              "&gt;&gt;&gt; vectorizer = CountVectorizer()\n",
              "&gt;&gt;&gt; X = vectorizer.fit_transform(corpus)\n",
              "&gt;&gt;&gt; vectorizer.get_feature_names_out()\n",
              "array([&#x27;and&#x27;, &#x27;document&#x27;, &#x27;first&#x27;, &#x27;is&#x27;, &#x27;one&#x27;, &#x27;second&#x27;, &#x27;the&#x27;, &#x27;third&#x27;,\n",
              "       &#x27;this&#x27;], ...)\n",
              "&gt;&gt;&gt; print(X.toarray())\n",
              "[[0 1 1 1 0 0 1 0 1]\n",
              " [0 2 0 1 0 1 1 0 1]\n",
              " [1 0 0 1 1 0 1 1 1]\n",
              " [0 1 1 1 0 0 1 0 1]]\n",
              "&gt;&gt;&gt; vectorizer2 = CountVectorizer(analyzer=&#x27;word&#x27;, ngram_range=(2, 2))\n",
              "&gt;&gt;&gt; X2 = vectorizer2.fit_transform(corpus)\n",
              "&gt;&gt;&gt; vectorizer2.get_feature_names_out()\n",
              "array([&#x27;and this&#x27;, &#x27;document is&#x27;, &#x27;first document&#x27;, &#x27;is the&#x27;, &#x27;is this&#x27;,\n",
              "       &#x27;second document&#x27;, &#x27;the first&#x27;, &#x27;the second&#x27;, &#x27;the third&#x27;, &#x27;third one&#x27;,\n",
              "       &#x27;this document&#x27;, &#x27;this is&#x27;, &#x27;this the&#x27;], ...)\n",
              " &gt;&gt;&gt; print(X2.toarray())\n",
              " [[0 0 1 1 0 0 1 0 0 0 0 1 0]\n",
              " [0 1 0 1 0 1 0 1 0 0 1 0 0]\n",
              " [1 0 0 1 0 0 0 0 1 1 0 1 0]\n",
              " [0 0 1 0 1 0 1 0 0 0 0 0 1]]</pre>\n",
              "      <script>\n",
              "      if (google.colab.kernel.accessAllowed && google.colab.files && google.colab.files.view) {\n",
              "        for (const element of document.querySelectorAll('.filepath')) {\n",
              "          element.style.display = 'block'\n",
              "          element.onclick = (event) => {\n",
              "            event.preventDefault();\n",
              "            event.stopPropagation();\n",
              "            google.colab.files.view(element.textContent, 931);\n",
              "          };\n",
              "        }\n",
              "      }\n",
              "      for (const element of document.querySelectorAll('.function-repr-contents')) {\n",
              "        element.onclick = (event) => {\n",
              "          event.preventDefault();\n",
              "          event.stopPropagation();\n",
              "          element.classList.toggle('function-repr-contents-collapsed');\n",
              "        };\n",
              "      }\n",
              "      </script>\n",
              "      </div>"
            ]
          },
          "metadata": {},
          "execution_count": 91
        }
      ]
    },
    {
      "cell_type": "code",
      "execution_count": 79,
      "id": "d35f889d",
      "metadata": {
        "id": "d35f889d"
      },
      "outputs": [],
      "source": [
        "X = vect.fit_transform(clean_reviews)"
      ]
    },
    {
      "cell_type": "code",
      "execution_count": 80,
      "id": "4039e6ab",
      "metadata": {
        "id": "4039e6ab",
        "outputId": "52d31397-376e-423e-a723-6089df795990",
        "colab": {
          "base_uri": "https://localhost:8080/"
        }
      },
      "outputs": [
        {
          "output_type": "execute_result",
          "data": {
            "text/plain": [
              "(1500, 413)"
            ]
          },
          "metadata": {},
          "execution_count": 80
        }
      ],
      "source": [
        "X.shape"
      ]
    },
    {
      "cell_type": "markdown",
      "source": [
        "- we have 1500 data points/reviews, out of those 1500 only 413 unique tokens appeared in more than 5 documents\n",
        "- this is a sparse matrix. we will need to convert it into a dense matrix in a minute."
      ],
      "metadata": {
        "id": "hDPSXu8DA41f"
      },
      "id": "hDPSXu8DA41f"
    },
    {
      "cell_type": "markdown",
      "id": "78d386fd",
      "metadata": {
        "id": "78d386fd"
      },
      "source": [
        "### Unique words in the vocabulary"
      ]
    },
    {
      "cell_type": "code",
      "execution_count": 92,
      "id": "6c9da9ce",
      "metadata": {
        "id": "6c9da9ce",
        "outputId": "5ac0d00a-ad24-4a79-b035-2eff52b047f5",
        "colab": {
          "base_uri": "https://localhost:8080/"
        }
      },
      "outputs": [
        {
          "output_type": "execute_result",
          "data": {
            "text/plain": [
              "413"
            ]
          },
          "metadata": {},
          "execution_count": 92
        }
      ],
      "source": [
        "len(vect.vocabulary_)"
      ]
    },
    {
      "cell_type": "markdown",
      "id": "0b3a9945",
      "metadata": {
        "id": "0b3a9945"
      },
      "source": [
        "### Convert the sparse matrix to array"
      ]
    },
    {
      "cell_type": "code",
      "execution_count": 82,
      "id": "f4a6ce3e",
      "metadata": {
        "id": "f4a6ce3e",
        "outputId": "483136bc-a36d-4df4-effc-6f60f90c36be",
        "colab": {
          "base_uri": "https://localhost:8080/",
          "height": 187
        }
      },
      "outputs": [
        {
          "output_type": "execute_result",
          "data": {
            "text/plain": [
              "scipy.sparse._csr.csr_matrix"
            ],
            "text/html": [
              "<div style=\"max-width:800px; border: 1px solid var(--colab-border-color);\"><style>\n",
              "      pre.function-repr-contents {\n",
              "        overflow-x: auto;\n",
              "        padding: 8px 12px;\n",
              "        max-height: 500px;\n",
              "      }\n",
              "\n",
              "      pre.function-repr-contents.function-repr-contents-collapsed {\n",
              "        cursor: pointer;\n",
              "        max-height: 100px;\n",
              "      }\n",
              "    </style>\n",
              "    <pre style=\"white-space: initial; background:\n",
              "         var(--colab-secondary-surface-color); padding: 8px 12px;\n",
              "         border-bottom: 1px solid var(--colab-border-color);\"><b>scipy.sparse._csr.csr_matrix</b><br/>def __init__(arg1, shape=None, dtype=None, copy=False)</pre><pre class=\"function-repr-contents function-repr-contents-collapsed\" style=\"\"><a class=\"filepath\" style=\"display:none\" href=\"#\">/usr/local/lib/python3.10/dist-packages/scipy/sparse/_csr.py</a>Compressed Sparse Row matrix\n",
              "\n",
              "This can be instantiated in several ways:\n",
              "    csr_array(D)\n",
              "        with a dense matrix or rank-2 ndarray D\n",
              "\n",
              "    csr_array(S)\n",
              "        with another sparse matrix S (equivalent to S.tocsr())\n",
              "\n",
              "    csr_array((M, N), [dtype])\n",
              "        to construct an empty matrix with shape (M, N)\n",
              "        dtype is optional, defaulting to dtype=&#x27;d&#x27;.\n",
              "\n",
              "    csr_array((data, (row_ind, col_ind)), [shape=(M, N)])\n",
              "        where ``data``, ``row_ind`` and ``col_ind`` satisfy the\n",
              "        relationship ``a[row_ind[k], col_ind[k]] = data[k]``.\n",
              "\n",
              "    csr_array((data, indices, indptr), [shape=(M, N)])\n",
              "        is the standard CSR representation where the column indices for\n",
              "        row i are stored in ``indices[indptr[i]:indptr[i+1]]`` and their\n",
              "        corresponding values are stored in ``data[indptr[i]:indptr[i+1]]``.\n",
              "        If the shape parameter is not supplied, the matrix dimensions\n",
              "        are inferred from the index arrays.\n",
              "\n",
              "Attributes\n",
              "----------\n",
              "dtype : dtype\n",
              "    Data type of the matrix\n",
              "shape : 2-tuple\n",
              "    Shape of the matrix\n",
              "ndim : int\n",
              "    Number of dimensions (this is always 2)\n",
              "nnz\n",
              "    Number of stored values, including explicit zeros\n",
              "data\n",
              "    CSR format data array of the matrix\n",
              "indices\n",
              "    CSR format index array of the matrix\n",
              "indptr\n",
              "    CSR format index pointer array of the matrix\n",
              "has_sorted_indices\n",
              "    Whether indices are sorted\n",
              "\n",
              "Notes\n",
              "-----\n",
              "\n",
              "Sparse matrices can be used in arithmetic operations: they support\n",
              "addition, subtraction, multiplication, division, and matrix power.\n",
              "\n",
              "Advantages of the CSR format\n",
              "  - efficient arithmetic operations CSR + CSR, CSR * CSR, etc.\n",
              "  - efficient row slicing\n",
              "  - fast matrix vector products\n",
              "\n",
              "Disadvantages of the CSR format\n",
              "  - slow column slicing operations (consider CSC)\n",
              "  - changes to the sparsity structure are expensive (consider LIL or DOK)\n",
              "\n",
              "Canonical Format\n",
              "    - Within each row, indices are sorted by column.\n",
              "    - There are no duplicate entries.\n",
              "\n",
              "Examples\n",
              "--------\n",
              "\n",
              "&gt;&gt;&gt; import numpy as np\n",
              "&gt;&gt;&gt; from scipy.sparse import csr_array\n",
              "&gt;&gt;&gt; csr_array((3, 4), dtype=np.int8).toarray()\n",
              "array([[0, 0, 0, 0],\n",
              "       [0, 0, 0, 0],\n",
              "       [0, 0, 0, 0]], dtype=int8)\n",
              "\n",
              "&gt;&gt;&gt; row = np.array([0, 0, 1, 2, 2, 2])\n",
              "&gt;&gt;&gt; col = np.array([0, 2, 2, 0, 1, 2])\n",
              "&gt;&gt;&gt; data = np.array([1, 2, 3, 4, 5, 6])\n",
              "&gt;&gt;&gt; csr_array((data, (row, col)), shape=(3, 3)).toarray()\n",
              "array([[1, 0, 2],\n",
              "       [0, 0, 3],\n",
              "       [4, 5, 6]])\n",
              "\n",
              "&gt;&gt;&gt; indptr = np.array([0, 2, 3, 6])\n",
              "&gt;&gt;&gt; indices = np.array([0, 2, 2, 0, 1, 2])\n",
              "&gt;&gt;&gt; data = np.array([1, 2, 3, 4, 5, 6])\n",
              "&gt;&gt;&gt; csr_array((data, indices, indptr), shape=(3, 3)).toarray()\n",
              "array([[1, 0, 2],\n",
              "       [0, 0, 3],\n",
              "       [4, 5, 6]])\n",
              "\n",
              "Duplicate entries are summed together:\n",
              "\n",
              "&gt;&gt;&gt; row = np.array([0, 1, 2, 0])\n",
              "&gt;&gt;&gt; col = np.array([0, 1, 1, 0])\n",
              "&gt;&gt;&gt; data = np.array([1, 2, 4, 8])\n",
              "&gt;&gt;&gt; csr_array((data, (row, col)), shape=(3, 3)).toarray()\n",
              "array([[9, 0, 0],\n",
              "       [0, 2, 0],\n",
              "       [0, 4, 0]])\n",
              "\n",
              "As an example of how to construct a CSR matrix incrementally,\n",
              "the following snippet builds a term-document matrix from texts:\n",
              "\n",
              "&gt;&gt;&gt; docs = [[&quot;hello&quot;, &quot;world&quot;, &quot;hello&quot;], [&quot;goodbye&quot;, &quot;cruel&quot;, &quot;world&quot;]]\n",
              "&gt;&gt;&gt; indptr = [0]\n",
              "&gt;&gt;&gt; indices = []\n",
              "&gt;&gt;&gt; data = []\n",
              "&gt;&gt;&gt; vocabulary = {}\n",
              "&gt;&gt;&gt; for d in docs:\n",
              "...     for term in d:\n",
              "...         index = vocabulary.setdefault(term, len(vocabulary))\n",
              "...         indices.append(index)\n",
              "...         data.append(1)\n",
              "...     indptr.append(len(indices))\n",
              "...\n",
              "&gt;&gt;&gt; csr_array((data, indices, indptr), dtype=int).toarray()\n",
              "array([[2, 1, 0, 0],\n",
              "       [0, 1, 1, 1]])</pre>\n",
              "      <script>\n",
              "      if (google.colab.kernel.accessAllowed && google.colab.files && google.colab.files.view) {\n",
              "        for (const element of document.querySelectorAll('.filepath')) {\n",
              "          element.style.display = 'block'\n",
              "          element.onclick = (event) => {\n",
              "            event.preventDefault();\n",
              "            event.stopPropagation();\n",
              "            google.colab.files.view(element.textContent, 370);\n",
              "          };\n",
              "        }\n",
              "      }\n",
              "      for (const element of document.querySelectorAll('.function-repr-contents')) {\n",
              "        element.onclick = (event) => {\n",
              "          event.preventDefault();\n",
              "          event.stopPropagation();\n",
              "          element.classList.toggle('function-repr-contents-collapsed');\n",
              "        };\n",
              "      }\n",
              "      </script>\n",
              "      </div>"
            ]
          },
          "metadata": {},
          "execution_count": 82
        }
      ],
      "source": [
        "type(X)"
      ]
    },
    {
      "cell_type": "code",
      "execution_count": 93,
      "id": "40e94c86",
      "metadata": {
        "id": "40e94c86"
      },
      "outputs": [],
      "source": [
        "X_a = X.toarray()"
      ]
    },
    {
      "cell_type": "code",
      "execution_count": 94,
      "id": "673daeb2",
      "metadata": {
        "id": "673daeb2",
        "outputId": "a4ad931c-2452-48f5-f04a-0428f1b324b4",
        "colab": {
          "base_uri": "https://localhost:8080/"
        }
      },
      "outputs": [
        {
          "output_type": "execute_result",
          "data": {
            "text/plain": [
              "(1500, 413)"
            ]
          },
          "metadata": {},
          "execution_count": 94
        }
      ],
      "source": [
        "X_a.shape"
      ]
    },
    {
      "cell_type": "code",
      "execution_count": 95,
      "id": "cd005ed0",
      "metadata": {
        "id": "cd005ed0",
        "outputId": "04e95404-3251-4066-93b1-ed29ccdde35e",
        "colab": {
          "base_uri": "https://localhost:8080/"
        }
      },
      "outputs": [
        {
          "output_type": "execute_result",
          "data": {
            "text/plain": [
              "array([0, 0, 0, 0, 0, 0, 0, 0, 0, 0, 0, 0, 0, 0, 0, 0, 0, 0, 0, 0, 0, 0,\n",
              "       0, 0, 0, 0, 0, 0, 0, 0, 0, 0, 0, 0, 0, 0, 0, 0, 0, 0, 0, 0, 0, 0,\n",
              "       0, 0, 0, 0, 0, 0, 0, 0, 0, 0, 0, 0, 0, 0, 0, 0, 0, 0, 0, 0, 0, 0,\n",
              "       0, 0, 0, 0, 0, 0, 0, 0, 0, 0, 0, 0, 0, 0, 0, 0, 0, 0, 0, 0, 0, 0,\n",
              "       0, 0, 0, 0, 0, 0, 0, 0, 0, 0, 0, 0, 0, 0, 0, 0, 0, 0, 0, 0, 0, 0,\n",
              "       0, 0, 0, 0, 0, 0, 0, 0, 0, 0, 0, 0, 0, 0, 0, 0, 0, 0, 0, 0, 0, 0,\n",
              "       0, 0, 0, 0, 0, 0, 0, 0, 0, 0, 0, 0, 0, 0, 0, 0, 0, 0, 0, 0, 0, 0,\n",
              "       0, 0, 0, 0, 0, 0, 0, 0, 0, 0, 0, 0, 0, 0, 0, 0, 0, 0, 0, 0, 0, 0,\n",
              "       0, 0, 0, 0, 0, 0, 0, 0, 0, 0, 0, 0, 0, 0, 0, 0, 0, 0, 0, 0, 0, 0,\n",
              "       0, 0, 0, 0, 0, 0, 0, 0, 0, 0, 0, 0, 0, 0, 0, 0, 0, 0, 0, 0, 0, 0,\n",
              "       0, 0, 0, 0, 0, 0, 0, 0, 0, 0, 0, 0, 0, 1, 0, 0, 0, 0, 0, 0, 0, 0,\n",
              "       0, 0, 0, 0, 0, 0, 0, 0, 0, 0, 0, 0, 0, 0, 0, 0, 0, 0, 0, 0, 0, 0,\n",
              "       0, 0, 0, 0, 0, 0, 0, 0, 0, 0, 0, 0, 0, 0, 0, 0, 0, 0, 0, 0, 0, 0,\n",
              "       0, 0, 0, 0, 0, 0, 0, 0, 0, 0, 0, 0, 0, 0, 0, 0, 1, 0, 0, 0, 0, 0,\n",
              "       0, 0, 0, 0, 0, 0, 0, 0, 0, 0, 0, 0, 0, 0, 0, 0, 0, 0, 0, 0, 0, 0,\n",
              "       0, 0, 0, 0, 0, 0, 0, 0, 0, 0, 0, 0, 0, 0, 0, 0, 0, 0, 0, 0, 0, 0,\n",
              "       0, 0, 0, 0, 0, 0, 0, 0, 0, 0, 0, 0, 0, 0, 0, 0, 0, 0, 1, 0, 0, 0,\n",
              "       0, 0, 0, 0, 0, 0, 0, 0, 0, 0, 0, 0, 0, 0, 0, 0, 0, 0, 0, 0, 0, 0,\n",
              "       0, 0, 0, 0, 0, 1, 0, 0, 0, 0, 0, 0, 0, 0, 0, 0, 0])"
            ]
          },
          "metadata": {},
          "execution_count": 95
        }
      ],
      "source": [
        "X_a[13,:]"
      ]
    },
    {
      "cell_type": "code",
      "execution_count": 96,
      "id": "35ceddb7",
      "metadata": {
        "id": "35ceddb7",
        "outputId": "95680dc0-6a96-4ae4-c43b-b82547bb3b91",
        "colab": {
          "base_uri": "https://localhost:8080/"
        }
      },
      "outputs": [
        {
          "output_type": "execute_result",
          "data": {
            "text/plain": [
              "4"
            ]
          },
          "metadata": {},
          "execution_count": 96
        }
      ],
      "source": [
        "X_a[13,:].sum()"
      ]
    },
    {
      "cell_type": "code",
      "execution_count": 97,
      "id": "e227645e",
      "metadata": {
        "id": "e227645e",
        "outputId": "52035fd6-aa6f-4188-c4e6-2f36836966a2",
        "colab": {
          "base_uri": "https://localhost:8080/",
          "height": 35
        }
      },
      "outputs": [
        {
          "output_type": "execute_result",
          "data": {
            "text/plain": [
              "'unabl save work noth work'"
            ],
            "application/vnd.google.colaboratory.intrinsic+json": {
              "type": "string"
            }
          },
          "metadata": {},
          "execution_count": 97
        }
      ],
      "source": [
        "clean_reviews[13]"
      ]
    },
    {
      "cell_type": "code",
      "execution_count": 99,
      "id": "70c921d1",
      "metadata": {
        "id": "70c921d1",
        "outputId": "32bf0dd5-6bfd-41f6-8e9b-3a5b3c65808f",
        "colab": {
          "base_uri": "https://localhost:8080/",
          "height": 141
        }
      },
      "outputs": [
        {
          "output_type": "error",
          "ename": "AttributeError",
          "evalue": "'numpy.ndarray' object has no attribute 'index'",
          "traceback": [
            "\u001b[0;31m---------------------------------------------------------------------------\u001b[0m",
            "\u001b[0;31mAttributeError\u001b[0m                            Traceback (most recent call last)",
            "\u001b[0;32m<ipython-input-99-52e5f075cb5c>\u001b[0m in \u001b[0;36m<cell line: 1>\u001b[0;34m()\u001b[0m\n\u001b[0;32m----> 1\u001b[0;31m \u001b[0mvect\u001b[0m\u001b[0;34m.\u001b[0m\u001b[0mget_feature_names_out\u001b[0m\u001b[0;34m(\u001b[0m\u001b[0;34m)\u001b[0m\u001b[0;34m.\u001b[0m\u001b[0mindex\u001b[0m\u001b[0;34m(\u001b[0m\u001b[0;34m\"unabl\"\u001b[0m\u001b[0;34m)\u001b[0m\u001b[0;34m\u001b[0m\u001b[0;34m\u001b[0m\u001b[0m\n\u001b[0m",
            "\u001b[0;31mAttributeError\u001b[0m: 'numpy.ndarray' object has no attribute 'index'"
          ]
        }
      ],
      "source": [
        "vect.get_feature_names().index(\"unabl\")"
      ]
    },
    {
      "cell_type": "code",
      "execution_count": null,
      "id": "66fb4b28",
      "metadata": {
        "id": "66fb4b28"
      },
      "outputs": [],
      "source": [
        "X_a[13,370]"
      ]
    },
    {
      "cell_type": "code",
      "execution_count": null,
      "id": "b86f5d6a",
      "metadata": {
        "id": "b86f5d6a"
      },
      "outputs": [],
      "source": [
        "vect.get_feature_names().index(\"work\")"
      ]
    },
    {
      "cell_type": "code",
      "execution_count": null,
      "id": "1234e9fd",
      "metadata": {
        "id": "1234e9fd"
      },
      "outputs": [],
      "source": [
        "X_a[13,401]"
      ]
    },
    {
      "cell_type": "code",
      "execution_count": 100,
      "id": "a7733b84",
      "metadata": {
        "id": "a7733b84",
        "outputId": "8d56e93b-7a03-464f-af82-6b4976a8e58d",
        "colab": {
          "base_uri": "https://localhost:8080/",
          "height": 206
        }
      },
      "outputs": [
        {
          "output_type": "execute_result",
          "data": {
            "text/plain": [
              "                                              review Sentiment\n",
              "0  Overall it's really an amazing app. I've been ...  Negative\n",
              "1  Hey! Yes I gave a 5 star rating... coz I belie...  Positive\n",
              "2  Canva used to be a good app! But recently I've...  Negative\n",
              "3  It's a brilliant app, but I have just one prob...  Negative\n",
              "4  This was such a great app. I used to make BTS ...  Negative"
            ],
            "text/html": [
              "\n",
              "  <div id=\"df-9c138812-0e10-47fa-a836-673a159ccc63\" class=\"colab-df-container\">\n",
              "    <div>\n",
              "<style scoped>\n",
              "    .dataframe tbody tr th:only-of-type {\n",
              "        vertical-align: middle;\n",
              "    }\n",
              "\n",
              "    .dataframe tbody tr th {\n",
              "        vertical-align: top;\n",
              "    }\n",
              "\n",
              "    .dataframe thead th {\n",
              "        text-align: right;\n",
              "    }\n",
              "</style>\n",
              "<table border=\"1\" class=\"dataframe\">\n",
              "  <thead>\n",
              "    <tr style=\"text-align: right;\">\n",
              "      <th></th>\n",
              "      <th>review</th>\n",
              "      <th>Sentiment</th>\n",
              "    </tr>\n",
              "  </thead>\n",
              "  <tbody>\n",
              "    <tr>\n",
              "      <th>0</th>\n",
              "      <td>Overall it's really an amazing app. I've been ...</td>\n",
              "      <td>Negative</td>\n",
              "    </tr>\n",
              "    <tr>\n",
              "      <th>1</th>\n",
              "      <td>Hey! Yes I gave a 5 star rating... coz I belie...</td>\n",
              "      <td>Positive</td>\n",
              "    </tr>\n",
              "    <tr>\n",
              "      <th>2</th>\n",
              "      <td>Canva used to be a good app! But recently I've...</td>\n",
              "      <td>Negative</td>\n",
              "    </tr>\n",
              "    <tr>\n",
              "      <th>3</th>\n",
              "      <td>It's a brilliant app, but I have just one prob...</td>\n",
              "      <td>Negative</td>\n",
              "    </tr>\n",
              "    <tr>\n",
              "      <th>4</th>\n",
              "      <td>This was such a great app. I used to make BTS ...</td>\n",
              "      <td>Negative</td>\n",
              "    </tr>\n",
              "  </tbody>\n",
              "</table>\n",
              "</div>\n",
              "    <div class=\"colab-df-buttons\">\n",
              "\n",
              "  <div class=\"colab-df-container\">\n",
              "    <button class=\"colab-df-convert\" onclick=\"convertToInteractive('df-9c138812-0e10-47fa-a836-673a159ccc63')\"\n",
              "            title=\"Convert this dataframe to an interactive table.\"\n",
              "            style=\"display:none;\">\n",
              "\n",
              "  <svg xmlns=\"http://www.w3.org/2000/svg\" height=\"24px\" viewBox=\"0 -960 960 960\">\n",
              "    <path d=\"M120-120v-720h720v720H120Zm60-500h600v-160H180v160Zm220 220h160v-160H400v160Zm0 220h160v-160H400v160ZM180-400h160v-160H180v160Zm440 0h160v-160H620v160ZM180-180h160v-160H180v160Zm440 0h160v-160H620v160Z\"/>\n",
              "  </svg>\n",
              "    </button>\n",
              "\n",
              "  <style>\n",
              "    .colab-df-container {\n",
              "      display:flex;\n",
              "      gap: 12px;\n",
              "    }\n",
              "\n",
              "    .colab-df-convert {\n",
              "      background-color: #E8F0FE;\n",
              "      border: none;\n",
              "      border-radius: 50%;\n",
              "      cursor: pointer;\n",
              "      display: none;\n",
              "      fill: #1967D2;\n",
              "      height: 32px;\n",
              "      padding: 0 0 0 0;\n",
              "      width: 32px;\n",
              "    }\n",
              "\n",
              "    .colab-df-convert:hover {\n",
              "      background-color: #E2EBFA;\n",
              "      box-shadow: 0px 1px 2px rgba(60, 64, 67, 0.3), 0px 1px 3px 1px rgba(60, 64, 67, 0.15);\n",
              "      fill: #174EA6;\n",
              "    }\n",
              "\n",
              "    .colab-df-buttons div {\n",
              "      margin-bottom: 4px;\n",
              "    }\n",
              "\n",
              "    [theme=dark] .colab-df-convert {\n",
              "      background-color: #3B4455;\n",
              "      fill: #D2E3FC;\n",
              "    }\n",
              "\n",
              "    [theme=dark] .colab-df-convert:hover {\n",
              "      background-color: #434B5C;\n",
              "      box-shadow: 0px 1px 3px 1px rgba(0, 0, 0, 0.15);\n",
              "      filter: drop-shadow(0px 1px 2px rgba(0, 0, 0, 0.3));\n",
              "      fill: #FFFFFF;\n",
              "    }\n",
              "  </style>\n",
              "\n",
              "    <script>\n",
              "      const buttonEl =\n",
              "        document.querySelector('#df-9c138812-0e10-47fa-a836-673a159ccc63 button.colab-df-convert');\n",
              "      buttonEl.style.display =\n",
              "        google.colab.kernel.accessAllowed ? 'block' : 'none';\n",
              "\n",
              "      async function convertToInteractive(key) {\n",
              "        const element = document.querySelector('#df-9c138812-0e10-47fa-a836-673a159ccc63');\n",
              "        const dataTable =\n",
              "          await google.colab.kernel.invokeFunction('convertToInteractive',\n",
              "                                                    [key], {});\n",
              "        if (!dataTable) return;\n",
              "\n",
              "        const docLinkHtml = 'Like what you see? Visit the ' +\n",
              "          '<a target=\"_blank\" href=https://colab.research.google.com/notebooks/data_table.ipynb>data table notebook</a>'\n",
              "          + ' to learn more about interactive tables.';\n",
              "        element.innerHTML = '';\n",
              "        dataTable['output_type'] = 'display_data';\n",
              "        await google.colab.output.renderOutput(dataTable, element);\n",
              "        const docLink = document.createElement('div');\n",
              "        docLink.innerHTML = docLinkHtml;\n",
              "        element.appendChild(docLink);\n",
              "      }\n",
              "    </script>\n",
              "  </div>\n",
              "\n",
              "\n",
              "<div id=\"df-f13dcf02-e817-49b6-8193-baadb834e119\">\n",
              "  <button class=\"colab-df-quickchart\" onclick=\"quickchart('df-f13dcf02-e817-49b6-8193-baadb834e119')\"\n",
              "            title=\"Suggest charts\"\n",
              "            style=\"display:none;\">\n",
              "\n",
              "<svg xmlns=\"http://www.w3.org/2000/svg\" height=\"24px\"viewBox=\"0 0 24 24\"\n",
              "     width=\"24px\">\n",
              "    <g>\n",
              "        <path d=\"M19 3H5c-1.1 0-2 .9-2 2v14c0 1.1.9 2 2 2h14c1.1 0 2-.9 2-2V5c0-1.1-.9-2-2-2zM9 17H7v-7h2v7zm4 0h-2V7h2v10zm4 0h-2v-4h2v4z\"/>\n",
              "    </g>\n",
              "</svg>\n",
              "  </button>\n",
              "\n",
              "<style>\n",
              "  .colab-df-quickchart {\n",
              "      --bg-color: #E8F0FE;\n",
              "      --fill-color: #1967D2;\n",
              "      --hover-bg-color: #E2EBFA;\n",
              "      --hover-fill-color: #174EA6;\n",
              "      --disabled-fill-color: #AAA;\n",
              "      --disabled-bg-color: #DDD;\n",
              "  }\n",
              "\n",
              "  [theme=dark] .colab-df-quickchart {\n",
              "      --bg-color: #3B4455;\n",
              "      --fill-color: #D2E3FC;\n",
              "      --hover-bg-color: #434B5C;\n",
              "      --hover-fill-color: #FFFFFF;\n",
              "      --disabled-bg-color: #3B4455;\n",
              "      --disabled-fill-color: #666;\n",
              "  }\n",
              "\n",
              "  .colab-df-quickchart {\n",
              "    background-color: var(--bg-color);\n",
              "    border: none;\n",
              "    border-radius: 50%;\n",
              "    cursor: pointer;\n",
              "    display: none;\n",
              "    fill: var(--fill-color);\n",
              "    height: 32px;\n",
              "    padding: 0;\n",
              "    width: 32px;\n",
              "  }\n",
              "\n",
              "  .colab-df-quickchart:hover {\n",
              "    background-color: var(--hover-bg-color);\n",
              "    box-shadow: 0 1px 2px rgba(60, 64, 67, 0.3), 0 1px 3px 1px rgba(60, 64, 67, 0.15);\n",
              "    fill: var(--button-hover-fill-color);\n",
              "  }\n",
              "\n",
              "  .colab-df-quickchart-complete:disabled,\n",
              "  .colab-df-quickchart-complete:disabled:hover {\n",
              "    background-color: var(--disabled-bg-color);\n",
              "    fill: var(--disabled-fill-color);\n",
              "    box-shadow: none;\n",
              "  }\n",
              "\n",
              "  .colab-df-spinner {\n",
              "    border: 2px solid var(--fill-color);\n",
              "    border-color: transparent;\n",
              "    border-bottom-color: var(--fill-color);\n",
              "    animation:\n",
              "      spin 1s steps(1) infinite;\n",
              "  }\n",
              "\n",
              "  @keyframes spin {\n",
              "    0% {\n",
              "      border-color: transparent;\n",
              "      border-bottom-color: var(--fill-color);\n",
              "      border-left-color: var(--fill-color);\n",
              "    }\n",
              "    20% {\n",
              "      border-color: transparent;\n",
              "      border-left-color: var(--fill-color);\n",
              "      border-top-color: var(--fill-color);\n",
              "    }\n",
              "    30% {\n",
              "      border-color: transparent;\n",
              "      border-left-color: var(--fill-color);\n",
              "      border-top-color: var(--fill-color);\n",
              "      border-right-color: var(--fill-color);\n",
              "    }\n",
              "    40% {\n",
              "      border-color: transparent;\n",
              "      border-right-color: var(--fill-color);\n",
              "      border-top-color: var(--fill-color);\n",
              "    }\n",
              "    60% {\n",
              "      border-color: transparent;\n",
              "      border-right-color: var(--fill-color);\n",
              "    }\n",
              "    80% {\n",
              "      border-color: transparent;\n",
              "      border-right-color: var(--fill-color);\n",
              "      border-bottom-color: var(--fill-color);\n",
              "    }\n",
              "    90% {\n",
              "      border-color: transparent;\n",
              "      border-bottom-color: var(--fill-color);\n",
              "    }\n",
              "  }\n",
              "</style>\n",
              "\n",
              "  <script>\n",
              "    async function quickchart(key) {\n",
              "      const quickchartButtonEl =\n",
              "        document.querySelector('#' + key + ' button');\n",
              "      quickchartButtonEl.disabled = true;  // To prevent multiple clicks.\n",
              "      quickchartButtonEl.classList.add('colab-df-spinner');\n",
              "      try {\n",
              "        const charts = await google.colab.kernel.invokeFunction(\n",
              "            'suggestCharts', [key], {});\n",
              "      } catch (error) {\n",
              "        console.error('Error during call to suggestCharts:', error);\n",
              "      }\n",
              "      quickchartButtonEl.classList.remove('colab-df-spinner');\n",
              "      quickchartButtonEl.classList.add('colab-df-quickchart-complete');\n",
              "    }\n",
              "    (() => {\n",
              "      let quickchartButtonEl =\n",
              "        document.querySelector('#df-f13dcf02-e817-49b6-8193-baadb834e119 button');\n",
              "      quickchartButtonEl.style.display =\n",
              "        google.colab.kernel.accessAllowed ? 'block' : 'none';\n",
              "    })();\n",
              "  </script>\n",
              "</div>\n",
              "    </div>\n",
              "  </div>\n"
            ],
            "application/vnd.google.colaboratory.intrinsic+json": {
              "type": "dataframe",
              "variable_name": "data",
              "summary": "{\n  \"name\": \"data\",\n  \"rows\": 1500,\n  \"fields\": [\n    {\n      \"column\": \"review\",\n      \"properties\": {\n        \"dtype\": \"string\",\n        \"num_unique_values\": 1500,\n        \"samples\": [\n          \"Superb app lost of features just one problems is there that it is a bit expensive for students like us.\",\n          \"Loving how easy it is to get great ideas and turn them into something amazing! Thank you to the developers of this app!\",\n          \"Just what I've been looking for, very convenient for me.\"\n        ],\n        \"semantic_type\": \"\",\n        \"description\": \"\"\n      }\n    },\n    {\n      \"column\": \"Sentiment\",\n      \"properties\": {\n        \"dtype\": \"category\",\n        \"num_unique_values\": 2,\n        \"samples\": [\n          \"Positive\",\n          \"Negative\"\n        ],\n        \"semantic_type\": \"\",\n        \"description\": \"\"\n      }\n    }\n  ]\n}"
            }
          },
          "metadata": {},
          "execution_count": 100
        }
      ],
      "source": [
        "data.head()"
      ]
    },
    {
      "cell_type": "code",
      "execution_count": 101,
      "id": "f943bead",
      "metadata": {
        "id": "f943bead"
      },
      "outputs": [],
      "source": [
        "data[\"Sentiment\"] = data[\"Sentiment\"].apply(lambda x: 1 if x==\"Positive\" else 0)"
      ]
    },
    {
      "cell_type": "code",
      "execution_count": 102,
      "id": "7bcead92",
      "metadata": {
        "id": "7bcead92"
      },
      "outputs": [],
      "source": [
        "y = data[\"Sentiment\"]"
      ]
    },
    {
      "cell_type": "markdown",
      "id": "7fcb7804",
      "metadata": {
        "id": "7fcb7804"
      },
      "source": [
        "### Split the dataset into train and test"
      ]
    },
    {
      "cell_type": "code",
      "execution_count": 103,
      "id": "0a0b2968",
      "metadata": {
        "id": "0a0b2968"
      },
      "outputs": [],
      "source": [
        "X_train, X_test, y_train, y_test = train_test_split(X, y, test_size=0.2,\n",
        "                                                   stratify=y, random_state=42)"
      ]
    },
    {
      "cell_type": "markdown",
      "id": "a0f64151",
      "metadata": {
        "id": "a0f64151"
      },
      "source": [
        "### Build a Logistic Regression model"
      ]
    },
    {
      "cell_type": "code",
      "execution_count": 104,
      "id": "8805bf78",
      "metadata": {
        "id": "8805bf78"
      },
      "outputs": [],
      "source": [
        "model = LogisticRegression()"
      ]
    },
    {
      "cell_type": "code",
      "execution_count": 105,
      "id": "85f9b1a7",
      "metadata": {
        "id": "85f9b1a7",
        "outputId": "432d8aa2-9a7b-4b69-afb4-2f6871b35f9f",
        "colab": {
          "base_uri": "https://localhost:8080/",
          "height": 75
        }
      },
      "outputs": [
        {
          "output_type": "execute_result",
          "data": {
            "text/plain": [
              "LogisticRegression()"
            ],
            "text/html": [
              "<style>#sk-container-id-1 {color: black;background-color: white;}#sk-container-id-1 pre{padding: 0;}#sk-container-id-1 div.sk-toggleable {background-color: white;}#sk-container-id-1 label.sk-toggleable__label {cursor: pointer;display: block;width: 100%;margin-bottom: 0;padding: 0.3em;box-sizing: border-box;text-align: center;}#sk-container-id-1 label.sk-toggleable__label-arrow:before {content: \"▸\";float: left;margin-right: 0.25em;color: #696969;}#sk-container-id-1 label.sk-toggleable__label-arrow:hover:before {color: black;}#sk-container-id-1 div.sk-estimator:hover label.sk-toggleable__label-arrow:before {color: black;}#sk-container-id-1 div.sk-toggleable__content {max-height: 0;max-width: 0;overflow: hidden;text-align: left;background-color: #f0f8ff;}#sk-container-id-1 div.sk-toggleable__content pre {margin: 0.2em;color: black;border-radius: 0.25em;background-color: #f0f8ff;}#sk-container-id-1 input.sk-toggleable__control:checked~div.sk-toggleable__content {max-height: 200px;max-width: 100%;overflow: auto;}#sk-container-id-1 input.sk-toggleable__control:checked~label.sk-toggleable__label-arrow:before {content: \"▾\";}#sk-container-id-1 div.sk-estimator input.sk-toggleable__control:checked~label.sk-toggleable__label {background-color: #d4ebff;}#sk-container-id-1 div.sk-label input.sk-toggleable__control:checked~label.sk-toggleable__label {background-color: #d4ebff;}#sk-container-id-1 input.sk-hidden--visually {border: 0;clip: rect(1px 1px 1px 1px);clip: rect(1px, 1px, 1px, 1px);height: 1px;margin: -1px;overflow: hidden;padding: 0;position: absolute;width: 1px;}#sk-container-id-1 div.sk-estimator {font-family: monospace;background-color: #f0f8ff;border: 1px dotted black;border-radius: 0.25em;box-sizing: border-box;margin-bottom: 0.5em;}#sk-container-id-1 div.sk-estimator:hover {background-color: #d4ebff;}#sk-container-id-1 div.sk-parallel-item::after {content: \"\";width: 100%;border-bottom: 1px solid gray;flex-grow: 1;}#sk-container-id-1 div.sk-label:hover label.sk-toggleable__label {background-color: #d4ebff;}#sk-container-id-1 div.sk-serial::before {content: \"\";position: absolute;border-left: 1px solid gray;box-sizing: border-box;top: 0;bottom: 0;left: 50%;z-index: 0;}#sk-container-id-1 div.sk-serial {display: flex;flex-direction: column;align-items: center;background-color: white;padding-right: 0.2em;padding-left: 0.2em;position: relative;}#sk-container-id-1 div.sk-item {position: relative;z-index: 1;}#sk-container-id-1 div.sk-parallel {display: flex;align-items: stretch;justify-content: center;background-color: white;position: relative;}#sk-container-id-1 div.sk-item::before, #sk-container-id-1 div.sk-parallel-item::before {content: \"\";position: absolute;border-left: 1px solid gray;box-sizing: border-box;top: 0;bottom: 0;left: 50%;z-index: -1;}#sk-container-id-1 div.sk-parallel-item {display: flex;flex-direction: column;z-index: 1;position: relative;background-color: white;}#sk-container-id-1 div.sk-parallel-item:first-child::after {align-self: flex-end;width: 50%;}#sk-container-id-1 div.sk-parallel-item:last-child::after {align-self: flex-start;width: 50%;}#sk-container-id-1 div.sk-parallel-item:only-child::after {width: 0;}#sk-container-id-1 div.sk-dashed-wrapped {border: 1px dashed gray;margin: 0 0.4em 0.5em 0.4em;box-sizing: border-box;padding-bottom: 0.4em;background-color: white;}#sk-container-id-1 div.sk-label label {font-family: monospace;font-weight: bold;display: inline-block;line-height: 1.2em;}#sk-container-id-1 div.sk-label-container {text-align: center;}#sk-container-id-1 div.sk-container {/* jupyter's `normalize.less` sets `[hidden] { display: none; }` but bootstrap.min.css set `[hidden] { display: none !important; }` so we also need the `!important` here to be able to override the default hidden behavior on the sphinx rendered scikit-learn.org. See: https://github.com/scikit-learn/scikit-learn/issues/21755 */display: inline-block !important;position: relative;}#sk-container-id-1 div.sk-text-repr-fallback {display: none;}</style><div id=\"sk-container-id-1\" class=\"sk-top-container\"><div class=\"sk-text-repr-fallback\"><pre>LogisticRegression()</pre><b>In a Jupyter environment, please rerun this cell to show the HTML representation or trust the notebook. <br />On GitHub, the HTML representation is unable to render, please try loading this page with nbviewer.org.</b></div><div class=\"sk-container\" hidden><div class=\"sk-item\"><div class=\"sk-estimator sk-toggleable\"><input class=\"sk-toggleable__control sk-hidden--visually\" id=\"sk-estimator-id-1\" type=\"checkbox\" checked><label for=\"sk-estimator-id-1\" class=\"sk-toggleable__label sk-toggleable__label-arrow\">LogisticRegression</label><div class=\"sk-toggleable__content\"><pre>LogisticRegression()</pre></div></div></div></div></div>"
            ]
          },
          "metadata": {},
          "execution_count": 105
        }
      ],
      "source": [
        "model.fit(X_train, y_train)"
      ]
    },
    {
      "cell_type": "code",
      "execution_count": 106,
      "id": "fb0cb2b7",
      "metadata": {
        "id": "fb0cb2b7"
      },
      "outputs": [],
      "source": [
        "train_pred = model.predict(X_train)"
      ]
    },
    {
      "cell_type": "code",
      "execution_count": 107,
      "id": "3c50f036",
      "metadata": {
        "id": "3c50f036",
        "outputId": "bf247822-dc92-4c54-d1ac-8dd73141cc81",
        "colab": {
          "base_uri": "https://localhost:8080/"
        }
      },
      "outputs": [
        {
          "output_type": "execute_result",
          "data": {
            "text/plain": [
              "0.9608333333333333"
            ]
          },
          "metadata": {},
          "execution_count": 107
        }
      ],
      "source": [
        "accuracy_score(y_train, train_pred)"
      ]
    },
    {
      "cell_type": "code",
      "execution_count": 108,
      "id": "794f093c",
      "metadata": {
        "id": "794f093c",
        "outputId": "7195f10b-92ae-4527-f820-afb39182eb0e",
        "colab": {
          "base_uri": "https://localhost:8080/"
        }
      },
      "outputs": [
        {
          "output_type": "execute_result",
          "data": {
            "text/plain": [
              "0.89"
            ]
          },
          "metadata": {},
          "execution_count": 108
        }
      ],
      "source": [
        "test_pred = model.predict(X_test)\n",
        "accuracy_score(y_test, test_pred)"
      ]
    },
    {
      "cell_type": "markdown",
      "id": "400ac5ba",
      "metadata": {
        "id": "400ac5ba"
      },
      "source": [
        "### Save both the vectorizer and the model"
      ]
    },
    {
      "cell_type": "code",
      "execution_count": 110,
      "id": "40b81d04",
      "metadata": {
        "id": "40b81d04",
        "colab": {
          "base_uri": "https://localhost:8080/",
          "height": 193
        },
        "outputId": "aeeaf8b5-3108-4f51-9129-b4ce8599f46e"
      },
      "outputs": [
        {
          "output_type": "error",
          "ename": "FileNotFoundError",
          "evalue": "[Errno 2] No such file or directory: 'Output/binary_count_vect.pkl'",
          "traceback": [
            "\u001b[0;31m---------------------------------------------------------------------------\u001b[0m",
            "\u001b[0;31mFileNotFoundError\u001b[0m                         Traceback (most recent call last)",
            "\u001b[0;32m<ipython-input-110-b6f85c659f62>\u001b[0m in \u001b[0;36m<cell line: 1>\u001b[0;34m()\u001b[0m\n\u001b[0;32m----> 1\u001b[0;31m \u001b[0;32mwith\u001b[0m \u001b[0mopen\u001b[0m\u001b[0;34m(\u001b[0m\u001b[0;34m\"Output/binary_count_vect.pkl\"\u001b[0m\u001b[0;34m,\u001b[0m \u001b[0;34m\"wb\"\u001b[0m\u001b[0;34m)\u001b[0m \u001b[0;32mas\u001b[0m \u001b[0mf\u001b[0m\u001b[0;34m:\u001b[0m\u001b[0;34m\u001b[0m\u001b[0;34m\u001b[0m\u001b[0m\n\u001b[0m\u001b[1;32m      2\u001b[0m     \u001b[0mpickle\u001b[0m\u001b[0;34m.\u001b[0m\u001b[0mdump\u001b[0m\u001b[0;34m(\u001b[0m\u001b[0mvect\u001b[0m\u001b[0;34m,\u001b[0m \u001b[0mf\u001b[0m\u001b[0;34m)\u001b[0m\u001b[0;34m\u001b[0m\u001b[0;34m\u001b[0m\u001b[0m\n\u001b[1;32m      3\u001b[0m \u001b[0;32mwith\u001b[0m \u001b[0mopen\u001b[0m\u001b[0;34m(\u001b[0m\u001b[0;34m\"Output/binary_count_vect_lr.pkl\"\u001b[0m\u001b[0;34m,\u001b[0m \u001b[0;34m\"wb\"\u001b[0m\u001b[0;34m)\u001b[0m \u001b[0;32mas\u001b[0m \u001b[0mf\u001b[0m\u001b[0;34m:\u001b[0m\u001b[0;34m\u001b[0m\u001b[0;34m\u001b[0m\u001b[0m\n\u001b[1;32m      4\u001b[0m     \u001b[0mpickle\u001b[0m\u001b[0;34m.\u001b[0m\u001b[0mdump\u001b[0m\u001b[0;34m(\u001b[0m\u001b[0mmodel\u001b[0m\u001b[0;34m,\u001b[0m \u001b[0mf\u001b[0m\u001b[0;34m)\u001b[0m\u001b[0;34m\u001b[0m\u001b[0;34m\u001b[0m\u001b[0m\n",
            "\u001b[0;31mFileNotFoundError\u001b[0m: [Errno 2] No such file or directory: 'Output/binary_count_vect.pkl'"
          ]
        }
      ],
      "source": [
        "with open(\"Output/binary_count_vect.pkl\", \"wb\") as f:\n",
        "    pickle.dump(vect, f)\n",
        "with open(\"Output/binary_count_vect_lr.pkl\", \"wb\") as f:\n",
        "    pickle.dump(model, f)"
      ]
    },
    {
      "cell_type": "markdown",
      "id": "35284dda",
      "metadata": {
        "id": "35284dda"
      },
      "source": [
        "### Bag of words without binary"
      ]
    },
    {
      "cell_type": "code",
      "execution_count": 111,
      "id": "cdf59374",
      "metadata": {
        "id": "cdf59374"
      },
      "outputs": [],
      "source": [
        "vect = CountVectorizer(min_df=5)\n",
        "X = vect.fit_transform(clean_reviews)"
      ]
    },
    {
      "cell_type": "code",
      "execution_count": 112,
      "id": "68f43311",
      "metadata": {
        "id": "68f43311"
      },
      "outputs": [],
      "source": [
        "X_a = X.toarray()"
      ]
    },
    {
      "cell_type": "code",
      "execution_count": 113,
      "id": "c220a6ef",
      "metadata": {
        "id": "c220a6ef",
        "outputId": "bd58c155-87f9-4090-cc73-2b9f91b2a9b0",
        "colab": {
          "base_uri": "https://localhost:8080/",
          "height": 35
        }
      },
      "outputs": [
        {
          "output_type": "execute_result",
          "data": {
            "text/plain": [
              "'unabl save work noth work'"
            ],
            "application/vnd.google.colaboratory.intrinsic+json": {
              "type": "string"
            }
          },
          "metadata": {},
          "execution_count": 113
        }
      ],
      "source": [
        "clean_reviews[13]"
      ]
    },
    {
      "cell_type": "code",
      "execution_count": null,
      "id": "f5bbee77",
      "metadata": {
        "id": "f5bbee77"
      },
      "outputs": [],
      "source": [
        "# vect.get_feature_names().index(\"work\")"
      ]
    },
    {
      "cell_type": "code",
      "execution_count": null,
      "id": "c261e772",
      "metadata": {
        "id": "c261e772"
      },
      "outputs": [],
      "source": [
        "X_a[13,:]"
      ]
    },
    {
      "cell_type": "code",
      "execution_count": null,
      "id": "c3bd6f76",
      "metadata": {
        "id": "c3bd6f76"
      },
      "outputs": [],
      "source": [
        "X_a[13,401]"
      ]
    },
    {
      "cell_type": "code",
      "execution_count": 115,
      "id": "e49751cc",
      "metadata": {
        "id": "e49751cc"
      },
      "outputs": [],
      "source": [
        "X_train, X_test, y_train, y_test = train_test_split(X, y, test_size=0.2,\n",
        "                                                   stratify=y, random_state=42)"
      ]
    },
    {
      "cell_type": "code",
      "execution_count": 116,
      "id": "b9913410",
      "metadata": {
        "id": "b9913410",
        "outputId": "f54bfb24-86eb-49ef-f100-cb495d6124f5",
        "colab": {
          "base_uri": "https://localhost:8080/",
          "height": 75
        }
      },
      "outputs": [
        {
          "output_type": "execute_result",
          "data": {
            "text/plain": [
              "LogisticRegression()"
            ],
            "text/html": [
              "<style>#sk-container-id-2 {color: black;background-color: white;}#sk-container-id-2 pre{padding: 0;}#sk-container-id-2 div.sk-toggleable {background-color: white;}#sk-container-id-2 label.sk-toggleable__label {cursor: pointer;display: block;width: 100%;margin-bottom: 0;padding: 0.3em;box-sizing: border-box;text-align: center;}#sk-container-id-2 label.sk-toggleable__label-arrow:before {content: \"▸\";float: left;margin-right: 0.25em;color: #696969;}#sk-container-id-2 label.sk-toggleable__label-arrow:hover:before {color: black;}#sk-container-id-2 div.sk-estimator:hover label.sk-toggleable__label-arrow:before {color: black;}#sk-container-id-2 div.sk-toggleable__content {max-height: 0;max-width: 0;overflow: hidden;text-align: left;background-color: #f0f8ff;}#sk-container-id-2 div.sk-toggleable__content pre {margin: 0.2em;color: black;border-radius: 0.25em;background-color: #f0f8ff;}#sk-container-id-2 input.sk-toggleable__control:checked~div.sk-toggleable__content {max-height: 200px;max-width: 100%;overflow: auto;}#sk-container-id-2 input.sk-toggleable__control:checked~label.sk-toggleable__label-arrow:before {content: \"▾\";}#sk-container-id-2 div.sk-estimator input.sk-toggleable__control:checked~label.sk-toggleable__label {background-color: #d4ebff;}#sk-container-id-2 div.sk-label input.sk-toggleable__control:checked~label.sk-toggleable__label {background-color: #d4ebff;}#sk-container-id-2 input.sk-hidden--visually {border: 0;clip: rect(1px 1px 1px 1px);clip: rect(1px, 1px, 1px, 1px);height: 1px;margin: -1px;overflow: hidden;padding: 0;position: absolute;width: 1px;}#sk-container-id-2 div.sk-estimator {font-family: monospace;background-color: #f0f8ff;border: 1px dotted black;border-radius: 0.25em;box-sizing: border-box;margin-bottom: 0.5em;}#sk-container-id-2 div.sk-estimator:hover {background-color: #d4ebff;}#sk-container-id-2 div.sk-parallel-item::after {content: \"\";width: 100%;border-bottom: 1px solid gray;flex-grow: 1;}#sk-container-id-2 div.sk-label:hover label.sk-toggleable__label {background-color: #d4ebff;}#sk-container-id-2 div.sk-serial::before {content: \"\";position: absolute;border-left: 1px solid gray;box-sizing: border-box;top: 0;bottom: 0;left: 50%;z-index: 0;}#sk-container-id-2 div.sk-serial {display: flex;flex-direction: column;align-items: center;background-color: white;padding-right: 0.2em;padding-left: 0.2em;position: relative;}#sk-container-id-2 div.sk-item {position: relative;z-index: 1;}#sk-container-id-2 div.sk-parallel {display: flex;align-items: stretch;justify-content: center;background-color: white;position: relative;}#sk-container-id-2 div.sk-item::before, #sk-container-id-2 div.sk-parallel-item::before {content: \"\";position: absolute;border-left: 1px solid gray;box-sizing: border-box;top: 0;bottom: 0;left: 50%;z-index: -1;}#sk-container-id-2 div.sk-parallel-item {display: flex;flex-direction: column;z-index: 1;position: relative;background-color: white;}#sk-container-id-2 div.sk-parallel-item:first-child::after {align-self: flex-end;width: 50%;}#sk-container-id-2 div.sk-parallel-item:last-child::after {align-self: flex-start;width: 50%;}#sk-container-id-2 div.sk-parallel-item:only-child::after {width: 0;}#sk-container-id-2 div.sk-dashed-wrapped {border: 1px dashed gray;margin: 0 0.4em 0.5em 0.4em;box-sizing: border-box;padding-bottom: 0.4em;background-color: white;}#sk-container-id-2 div.sk-label label {font-family: monospace;font-weight: bold;display: inline-block;line-height: 1.2em;}#sk-container-id-2 div.sk-label-container {text-align: center;}#sk-container-id-2 div.sk-container {/* jupyter's `normalize.less` sets `[hidden] { display: none; }` but bootstrap.min.css set `[hidden] { display: none !important; }` so we also need the `!important` here to be able to override the default hidden behavior on the sphinx rendered scikit-learn.org. See: https://github.com/scikit-learn/scikit-learn/issues/21755 */display: inline-block !important;position: relative;}#sk-container-id-2 div.sk-text-repr-fallback {display: none;}</style><div id=\"sk-container-id-2\" class=\"sk-top-container\"><div class=\"sk-text-repr-fallback\"><pre>LogisticRegression()</pre><b>In a Jupyter environment, please rerun this cell to show the HTML representation or trust the notebook. <br />On GitHub, the HTML representation is unable to render, please try loading this page with nbviewer.org.</b></div><div class=\"sk-container\" hidden><div class=\"sk-item\"><div class=\"sk-estimator sk-toggleable\"><input class=\"sk-toggleable__control sk-hidden--visually\" id=\"sk-estimator-id-2\" type=\"checkbox\" checked><label for=\"sk-estimator-id-2\" class=\"sk-toggleable__label sk-toggleable__label-arrow\">LogisticRegression</label><div class=\"sk-toggleable__content\"><pre>LogisticRegression()</pre></div></div></div></div></div>"
            ]
          },
          "metadata": {},
          "execution_count": 116
        }
      ],
      "source": [
        "model = LogisticRegression()\n",
        "model.fit(X_train, y_train)"
      ]
    },
    {
      "cell_type": "code",
      "execution_count": 117,
      "id": "a032e94f",
      "metadata": {
        "id": "a032e94f",
        "outputId": "21dea14c-8335-4573-b975-88a89c1e3f9c",
        "colab": {
          "base_uri": "https://localhost:8080/"
        }
      },
      "outputs": [
        {
          "output_type": "stream",
          "name": "stdout",
          "text": [
            "Train Accuracy:0.9566666666666667\n",
            "Test Accuracy:0.8833333333333333\n"
          ]
        }
      ],
      "source": [
        "train_pred = model.predict(X_train)\n",
        "test_pred = model.predict(X_test)\n",
        "print(f\"Train Accuracy:{accuracy_score(y_train, train_pred)}\")\n",
        "print(f\"Test Accuracy:{accuracy_score(y_test, test_pred)}\")"
      ]
    },
    {
      "cell_type": "markdown",
      "source": [
        "### Save both the vectorizer and the model again"
      ],
      "metadata": {
        "id": "w9nq0yaGF9yL"
      },
      "id": "w9nq0yaGF9yL"
    },
    {
      "cell_type": "code",
      "execution_count": 118,
      "id": "d9ee904b",
      "metadata": {
        "id": "d9ee904b",
        "colab": {
          "base_uri": "https://localhost:8080/",
          "height": 193
        },
        "outputId": "78f039e2-ec83-404c-d195-ba3a4ee6cef2"
      },
      "outputs": [
        {
          "output_type": "error",
          "ename": "FileNotFoundError",
          "evalue": "[Errno 2] No such file or directory: 'Output/count_vect.pkl'",
          "traceback": [
            "\u001b[0;31m---------------------------------------------------------------------------\u001b[0m",
            "\u001b[0;31mFileNotFoundError\u001b[0m                         Traceback (most recent call last)",
            "\u001b[0;32m<ipython-input-118-ad077d32dce5>\u001b[0m in \u001b[0;36m<cell line: 1>\u001b[0;34m()\u001b[0m\n\u001b[0;32m----> 1\u001b[0;31m \u001b[0;32mwith\u001b[0m \u001b[0mopen\u001b[0m\u001b[0;34m(\u001b[0m\u001b[0;34m\"Output/count_vect.pkl\"\u001b[0m\u001b[0;34m,\u001b[0m \u001b[0;34m\"wb\"\u001b[0m\u001b[0;34m)\u001b[0m \u001b[0;32mas\u001b[0m \u001b[0mf\u001b[0m\u001b[0;34m:\u001b[0m\u001b[0;34m\u001b[0m\u001b[0;34m\u001b[0m\u001b[0m\n\u001b[0m\u001b[1;32m      2\u001b[0m     \u001b[0mpickle\u001b[0m\u001b[0;34m.\u001b[0m\u001b[0mdump\u001b[0m\u001b[0;34m(\u001b[0m\u001b[0mvect\u001b[0m\u001b[0;34m,\u001b[0m \u001b[0mf\u001b[0m\u001b[0;34m)\u001b[0m\u001b[0;34m\u001b[0m\u001b[0;34m\u001b[0m\u001b[0m\n\u001b[1;32m      3\u001b[0m \u001b[0;32mwith\u001b[0m \u001b[0mopen\u001b[0m\u001b[0;34m(\u001b[0m\u001b[0;34m\"Output/count_vect_lr.pkl\"\u001b[0m\u001b[0;34m,\u001b[0m \u001b[0;34m\"wb\"\u001b[0m\u001b[0;34m)\u001b[0m \u001b[0;32mas\u001b[0m \u001b[0mf\u001b[0m\u001b[0;34m:\u001b[0m\u001b[0;34m\u001b[0m\u001b[0;34m\u001b[0m\u001b[0m\n\u001b[1;32m      4\u001b[0m     \u001b[0mpickle\u001b[0m\u001b[0;34m.\u001b[0m\u001b[0mdump\u001b[0m\u001b[0;34m(\u001b[0m\u001b[0mmodel\u001b[0m\u001b[0;34m,\u001b[0m \u001b[0mf\u001b[0m\u001b[0;34m)\u001b[0m\u001b[0;34m\u001b[0m\u001b[0;34m\u001b[0m\u001b[0m\n",
            "\u001b[0;31mFileNotFoundError\u001b[0m: [Errno 2] No such file or directory: 'Output/count_vect.pkl'"
          ]
        }
      ],
      "source": [
        "with open(\"Output/count_vect.pkl\", \"wb\") as f:\n",
        "    pickle.dump(vect, f)\n",
        "with open(\"Output/count_vect_lr.pkl\", \"wb\") as f:\n",
        "    pickle.dump(model, f)"
      ]
    },
    {
      "cell_type": "markdown",
      "id": "14c02071",
      "metadata": {
        "id": "14c02071"
      },
      "source": [
        "# N-grams"
      ]
    },
    {
      "cell_type": "code",
      "execution_count": 119,
      "id": "3143daf0",
      "metadata": {
        "id": "3143daf0"
      },
      "outputs": [],
      "source": [
        "vect = CountVectorizer(min_df=5, ngram_range=(1,3))\n",
        "X = vect.fit_transform(clean_reviews)"
      ]
    },
    {
      "cell_type": "code",
      "execution_count": 120,
      "id": "4db855d7",
      "metadata": {
        "id": "4db855d7",
        "outputId": "6be162e1-1b16-4b83-ad52-b154fe4e5aba",
        "colab": {
          "base_uri": "https://localhost:8080/"
        }
      },
      "outputs": [
        {
          "output_type": "execute_result",
          "data": {
            "text/plain": [
              "(1500, 666)"
            ]
          },
          "metadata": {},
          "execution_count": 120
        }
      ],
      "source": [
        "X.shape"
      ]
    },
    {
      "cell_type": "code",
      "execution_count": 121,
      "id": "99e7a226",
      "metadata": {
        "id": "99e7a226",
        "outputId": "ae3faec7-603d-4036-924e-f2e22cd2c602",
        "colab": {
          "base_uri": "https://localhost:8080/"
        }
      },
      "outputs": [
        {
          "output_type": "execute_result",
          "data": {
            "text/plain": [
              "{'overal': 425,\n",
              " 'realli': 476,\n",
              " 'amaz': 19,\n",
              " 'app': 29,\n",
              " 've': 625,\n",
              " 'use': 602,\n",
              " 'past': 428,\n",
              " 'year': 661,\n",
              " 'howev': 298,\n",
              " 'one': 415,\n",
              " 'issu': 314,\n",
              " 'though': 579,\n",
              " 'want': 633,\n",
              " 'get': 257,\n",
              " 'sinc': 519,\n",
              " 'think': 578,\n",
              " 'last': 326,\n",
              " 'mani': 372,\n",
              " 'text': 573,\n",
              " 'zoom': 665,\n",
              " 'thought': 580,\n",
              " 'mobil': 385,\n",
              " 'also': 17,\n",
              " 'present': 455,\n",
              " 'websit': 638,\n",
              " 'pleas': 446,\n",
              " 'fix': 237,\n",
              " 'still': 539,\n",
              " 'time': 582,\n",
              " 'export': 219,\n",
              " 'high': 293,\n",
              " 'definit': 155,\n",
              " 'love': 350,\n",
              " 'experi': 217,\n",
              " 'thank': 574,\n",
              " 'realli amaz': 477,\n",
              " 'amaz app': 20,\n",
              " 'app ve': 66,\n",
              " 've use': 628,\n",
              " 'pleas fix': 447,\n",
              " 'gave': 255,\n",
              " 'star': 537,\n",
              " 'rate': 472,\n",
              " 'deserv': 156,\n",
              " 'desktop': 164,\n",
              " 'version': 629,\n",
              " 'satisfi': 499,\n",
              " 'android': 23,\n",
              " 'develop': 166,\n",
              " 'beauti': 86,\n",
              " 'liter': 335,\n",
              " 'find': 231,\n",
              " 'almost': 14,\n",
              " 'everyth': 212,\n",
              " 'need': 395,\n",
              " 'best': 89,\n",
              " 'even': 206,\n",
              " 'without': 645,\n",
              " 'premium': 453,\n",
              " 'featur': 227,\n",
              " 'provid': 466,\n",
              " 'us': 601,\n",
              " 'lot': 346,\n",
              " 'gave star': 256,\n",
              " 'desktop version': 165,\n",
              " 'canva': 117,\n",
              " 'good': 262,\n",
              " 'recent': 487,\n",
              " 'face': 220,\n",
              " 'save': 500,\n",
              " 'file': 230,\n",
              " 'stuck': 542,\n",
              " 'download': 174,\n",
              " 'call': 114,\n",
              " 'magic': 361,\n",
              " 'happen': 283,\n",
              " 'll': 337,\n",
              " 'hope': 297,\n",
              " 'soon': 535,\n",
              " 'good app': 263,\n",
              " 'brilliant': 104,\n",
              " 'problem': 461,\n",
              " 'edit': 191,\n",
              " 'post': 451,\n",
              " 'photo': 436,\n",
              " 'start': 538,\n",
              " '10': 0,\n",
              " 'crash': 143,\n",
              " 'restart': 492,\n",
              " 'sometim': 533,\n",
              " 'go': 261,\n",
              " 'resum': 494,\n",
              " 'back': 81,\n",
              " 'app one': 60,\n",
              " 'app crash': 35,\n",
              " 'great': 274,\n",
              " 'make': 362,\n",
              " 'updat': 598,\n",
              " 'abl': 2,\n",
              " 'chang': 124,\n",
              " 'font': 239,\n",
              " 'style': 546,\n",
              " 'option': 421,\n",
              " 'miss': 384,\n",
              " 'tri': 591,\n",
              " 'uninstal': 597,\n",
              " 'instal': 307,\n",
              " 'nt': 405,\n",
              " 'work': 651,\n",
              " 'far': 224,\n",
              " 'better': 101,\n",
              " 'could': 140,\n",
              " 'great app': 275,\n",
              " 'app use': 65,\n",
              " 'use make': 614,\n",
              " 'nt work': 412,\n",
              " 'first': 234,\n",
              " 'give': 258,\n",
              " 'review': 495,\n",
              " 'creat': 144,\n",
              " 'logo': 340,\n",
              " 'small': 524,\n",
              " 'compani': 133,\n",
              " 'busi': 106,\n",
              " 'data': 153,\n",
              " 'see': 508,\n",
              " 'job': 316,\n",
              " 'app realli': 61,\n",
              " 'realli great': 481,\n",
              " 'first time': 235,\n",
              " 'app great': 49,\n",
              " 'creat logo': 147,\n",
              " 'nt use': 411,\n",
              " 'use app': 603,\n",
              " 'great job': 280,\n",
              " 'basic': 85,\n",
              " 'design': 157,\n",
              " 'well': 639,\n",
              " 'keep': 317,\n",
              " 'take': 558,\n",
              " 'away': 78,\n",
              " 'free': 242,\n",
              " 'put': 468,\n",
              " 'subscript': 548,\n",
              " 'new': 398,\n",
              " 'ad': 9,\n",
              " 'graphic': 271,\n",
              " 'feel': 228,\n",
              " 'price': 457,\n",
              " 'pretti': 456,\n",
              " 'everi': 210,\n",
              " 'day': 154,\n",
              " 'rate star': 473,\n",
              " 'free version': 245,\n",
              " 'month': 388,\n",
              " 'thumbnail': 581,\n",
              " 'banner': 84,\n",
              " 'video': 630,\n",
              " 'watermark': 635,\n",
              " 'look': 345,\n",
              " 'much': 389,\n",
              " 'attract': 73,\n",
              " 'peopl': 431,\n",
              " 'come': 132,\n",
              " 'wonder': 648,\n",
              " 'make thumbnail': 371,\n",
              " 'app mani': 57,\n",
              " 'give star': 259,\n",
              " 'love app': 351,\n",
              " 'app thank': 64,\n",
              " 'wonder app': 649,\n",
              " 'superb': 554,\n",
              " 'user': 621,\n",
              " 'interfac': 309,\n",
              " 'finish': 233,\n",
              " 'awesom': 79,\n",
              " 'paid': 427,\n",
              " 'product': 462,\n",
              " 'like': 331,\n",
              " 'full': 249,\n",
              " 'function': 251,\n",
              " 'kind': 320,\n",
              " 'skill': 521,\n",
              " 'easi': 179,\n",
              " 'user interfac': 623,\n",
              " 'app make': 56,\n",
              " 'easi edit': 182,\n",
              " 'like app': 332,\n",
              " 'thank canva': 575,\n",
              " 'purchas': 467,\n",
              " 'never': 397,\n",
              " 'said': 498,\n",
              " 'check': 127,\n",
              " 'seen': 510,\n",
              " 'pictur': 441,\n",
              " 'wast': 634,\n",
              " 'solv': 531,\n",
              " 'video edit': 631,\n",
              " 'mani time': 378,\n",
              " 'use edit': 607,\n",
              " 'edit design': 193,\n",
              " 'easier': 189,\n",
              " 'tool': 588,\n",
              " 'etc': 205,\n",
              " 'slow': 523,\n",
              " 'load': 338,\n",
              " 'especi': 204,\n",
              " 'stress': 541,\n",
              " 'got': 270,\n",
              " 'wait': 632,\n",
              " 'stuff': 544,\n",
              " 'edit app': 192,\n",
              " 'edit make': 194,\n",
              " 'make edit': 367,\n",
              " 'page': 426,\n",
              " 'went': 640,\n",
              " 'improv': 303,\n",
              " 'disappoint': 170,\n",
              " 'wish': 644,\n",
              " 'close': 130,\n",
              " 'unabl': 594,\n",
              " 'noth': 404,\n",
              " 'unabl save': 595,\n",
              " 'save work': 505,\n",
              " 'help': 287,\n",
              " 'turn': 592,\n",
              " 'art': 71,\n",
              " 'money': 387,\n",
              " 'readi': 475,\n",
              " 'templat': 570,\n",
              " 'friendli': 247,\n",
              " 'poster': 452,\n",
              " 'conveni': 137,\n",
              " 'realli help': 482,\n",
              " 'use templat': 617,\n",
              " 'user friendli': 622,\n",
              " 'easi use': 184,\n",
              " 'slide': 522,\n",
              " 'select': 511,\n",
              " 'frustrat': 248,\n",
              " 'automat': 76,\n",
              " 'anoth': 26,\n",
              " 'ca': 109,\n",
              " 'may': 380,\n",
              " 'show': 514,\n",
              " 'imag': 301,\n",
              " 'done': 171,\n",
              " 'ca nt': 110,\n",
              " 'hate': 286,\n",
              " 'complet': 134,\n",
              " 'background': 82,\n",
              " 'bad': 83,\n",
              " 'far good': 225,\n",
              " 'could nt': 141,\n",
              " 'open': 419,\n",
              " 'let': 329,\n",
              " 'project': 464,\n",
              " 'social': 528,\n",
              " 'media': 381,\n",
              " 'site': 520,\n",
              " 'nt open': 409,\n",
              " 'social media': 529,\n",
              " 'ever': 207,\n",
              " 'anyth': 28,\n",
              " 'glitch': 260,\n",
              " 'it': 315,\n",
              " 'realli good': 479,\n",
              " 've ever': 626,\n",
              " 'ever use': 209,\n",
              " 'realli good app': 480,\n",
              " 've ever use': 627,\n",
              " 'nice': 400,\n",
              " 'add': 10,\n",
              " 'thing': 577,\n",
              " 'remov': 490,\n",
              " 'nice app': 401,\n",
              " 'long': 343,\n",
              " 'connect': 135,\n",
              " 'take long': 560,\n",
              " 'save imag': 502,\n",
              " 'worst': 654,\n",
              " 'lag': 323,\n",
              " 'becom': 87,\n",
              " 'auto': 74,\n",
              " 'team': 566,\n",
              " 'enough': 202,\n",
              " 'take much': 563,\n",
              " 'much time': 391,\n",
              " 'take much time': 564,\n",
              " 'say': 506,\n",
              " 'pro': 459,\n",
              " 'alot': 15,\n",
              " 'low': 359,\n",
              " 'app keep': 51,\n",
              " 'pro version': 460,\n",
              " 'take lot': 561,\n",
              " 'lot time': 349,\n",
              " 'time load': 583,\n",
              " 'take lot time': 562,\n",
              " 'fantast': 222,\n",
              " 'applic': 68,\n",
              " 'happi': 284,\n",
              " 'photo edit': 437,\n",
              " 'youtub': 663,\n",
              " 'app logo': 53,\n",
              " 'logo thumbnail': 342,\n",
              " 'app app': 31,\n",
              " 'app good': 46,\n",
              " 'someth': 532,\n",
              " 'perfect': 432,\n",
              " 'beginn': 88,\n",
              " 're': 474,\n",
              " 'right': 496,\n",
              " 'cool': 138,\n",
              " 'realli easi': 478,\n",
              " 'annoy': 25,\n",
              " 'share': 513,\n",
              " 'mode': 386,\n",
              " 'galleri': 253,\n",
              " 'log': 339,\n",
              " 'app save': 62,\n",
              " 'awesom app': 80,\n",
              " 'alway': 18,\n",
              " 'card': 123,\n",
              " 'advertis': 11,\n",
              " 'busi card': 107,\n",
              " 'interest': 308,\n",
              " 'differ': 168,\n",
              " 'help make': 292,\n",
              " 'creator': 150,\n",
              " 'one best': 416,\n",
              " 'best photo': 100,\n",
              " 'use get': 610,\n",
              " 'mani design': 373,\n",
              " 'design templat': 163,\n",
              " 'recommend': 488,\n",
              " 'everyon': 211,\n",
              " 'use use': 619,\n",
              " 'nt save': 410,\n",
              " 'save time': 504,\n",
              " 'total': 590,\n",
              " 'would': 657,\n",
              " 'plz': 448,\n",
              " 'small busi': 525,\n",
              " 'place': 443,\n",
              " 'creativ': 149,\n",
              " 'play': 445,\n",
              " 'mani templat': 376,\n",
              " 'life': 330,\n",
              " 'profession': 463,\n",
              " 'properli': 465,\n",
              " 'fantast app': 223,\n",
              " 'app love': 55,\n",
              " 'servic': 512,\n",
              " 'qualiti': 469,\n",
              " 'offer': 413,\n",
              " 'canva best': 119,\n",
              " 'best app': 90,\n",
              " 'high qualiti': 294,\n",
              " 'canva best app': 120,\n",
              " 'custom': 151,\n",
              " 'ca nt use': 113,\n",
              " 'incred': 304,\n",
              " 'phone': 435,\n",
              " 'impress': 302,\n",
              " 'easili': 190,\n",
              " 'intuit': 312,\n",
              " 'design app': 158,\n",
              " 'realli like': 483,\n",
              " 'free option': 243,\n",
              " 'use mani': 615,\n",
              " 'mani free': 374,\n",
              " 'easi use mani': 187,\n",
              " 'best edit': 97,\n",
              " 'afford': 12,\n",
              " 'use lot': 612,\n",
              " 'lot free': 348,\n",
              " 'absolut': 3,\n",
              " 'absolut love': 4,\n",
              " 'love canva': 354,\n",
              " 'make design': 365,\n",
              " 'choos': 128,\n",
              " 'person': 434,\n",
              " 'yet': 662,\n",
              " 'made': 360,\n",
              " 'know': 322,\n",
              " 'other': 423,\n",
              " 'use canva': 604,\n",
              " 'use free': 608,\n",
              " 'graphic design': 272,\n",
              " 'make app': 363,\n",
              " 'write': 659,\n",
              " 'app edit': 41,\n",
              " 'tell': 569,\n",
              " 'wrong': 660,\n",
              " 'less': 328,\n",
              " 'idea': 299,\n",
              " 'app easi': 39,\n",
              " 'app easi use': 40,\n",
              " 'canva app': 118,\n",
              " 'varieti': 624,\n",
              " 'love easi': 355,\n",
              " 'great app love': 277,\n",
              " 'love easi use': 356,\n",
              " 'im': 300,\n",
              " 'great app easi': 276,\n",
              " 'requir': 491,\n",
              " 'payment': 430,\n",
              " 'download design': 176,\n",
              " 'app lot': 54,\n",
              " 'free templat': 244,\n",
              " 'simpl': 516,\n",
              " 'lot featur': 347,\n",
              " 'laptop': 325,\n",
              " 'fun': 250,\n",
              " 'perfectli': 433,\n",
              " 'pl': 442,\n",
              " 'save design': 501,\n",
              " 'platform': 444,\n",
              " 'way': 636,\n",
              " 'app ever': 42,\n",
              " 'one best app': 417,\n",
              " 'best app ever': 93,\n",
              " 'app ever use': 43,\n",
              " 'super': 551,\n",
              " 'cover': 142,\n",
              " 'cool app': 139,\n",
              " 'edit photo': 195,\n",
              " 'love templat': 357,\n",
              " 'end': 200,\n",
              " 'result': 493,\n",
              " 'sure': 556,\n",
              " 'anyon': 27,\n",
              " 'app design': 37,\n",
              " 'make present': 370,\n",
              " 'creat design': 146,\n",
              " 'content': 136,\n",
              " 'great design': 278,\n",
              " 'easi use lot': 186,\n",
              " 'anim': 24,\n",
              " 'templat easi': 572,\n",
              " 'error': 203,\n",
              " 'technic': 567,\n",
              " 'technic issu': 568,\n",
              " 'instagram': 306,\n",
              " 'make easi': 366,\n",
              " 'absolut love app': 5,\n",
              " 'softwar': 530,\n",
              " 'youtub thumbnail': 664,\n",
              " 'easi creat': 180,\n",
              " 'time use': 585,\n",
              " 'first time use': 236,\n",
              " 'subscrib': 547,\n",
              " 'help lot': 291,\n",
              " 'auto save': 75,\n",
              " 'photo video': 438,\n",
              " 'fast': 226,\n",
              " 'internet': 310,\n",
              " 'pay': 429,\n",
              " 'allow': 13,\n",
              " 'best design': 95,\n",
              " 'editor': 197,\n",
              " 'feel like': 229,\n",
              " 'stori': 540,\n",
              " 'must': 393,\n",
              " 'best app edit': 92,\n",
              " 'world': 653,\n",
              " 'hang': 282,\n",
              " 'long time': 344,\n",
              " 'channel': 125,\n",
              " 'birthday': 102,\n",
              " 'facebook': 221,\n",
              " 'design best': 159,\n",
              " 'flyer': 238,\n",
              " 'use creat': 605,\n",
              " 'suck': 549,\n",
              " 'open app': 420,\n",
              " 'charg': 126,\n",
              " 'student': 543,\n",
              " 'simpl use': 517,\n",
              " 'app graphic': 47,\n",
              " 'design logo': 161,\n",
              " 'app graphic design': 48,\n",
              " 'learn': 327,\n",
              " 'seem': 509,\n",
              " 'use love': 613,\n",
              " 'school': 507,\n",
              " 'bit': 103,\n",
              " 'otherwis': 424,\n",
              " 'app creat': 36,\n",
              " 'excel': 214,\n",
              " 'smoothli': 527,\n",
              " 'download video': 177,\n",
              " 'top': 589,\n",
              " 'click': 129,\n",
              " 'bug': 105,\n",
              " 'cant': 116,\n",
              " 'save project': 503,\n",
              " 'nt even': 407,\n",
              " 'access': 6,\n",
              " 'onlin': 418,\n",
              " 'quick': 470,\n",
              " 'thank much': 576,\n",
              " 'difficult': 169,\n",
              " 'ton': 586,\n",
              " 'good app design': 264,\n",
              " 'app design logo': 38,\n",
              " 'use great': 611,\n",
              " 'love app easi': 352,\n",
              " 'easi use great': 185,\n",
              " 'smooth': 526,\n",
              " 'good work': 268,\n",
              " 'friend': 246,\n",
              " 'market': 379,\n",
              " 'app best': 34,\n",
              " 'logo design': 341,\n",
              " 'creat mani': 148,\n",
              " 'easi design': 181,\n",
              " 'design easi': 160,\n",
              " 'network': 396,\n",
              " 'cancel': 115,\n",
              " 'avail': 77,\n",
              " 'make banner': 364,\n",
              " 'help app': 288,\n",
              " 'game': 254,\n",
              " 'super easi': 552,\n",
              " 'use design': 606,\n",
              " 'super easi use': 553,\n",
              " 'best graphic': 98,\n",
              " 'best graphic design': 99,\n",
              " 'graphic design app': 273,\n",
              " 'offlin': 414,\n",
              " 'fine': 232,\n",
              " 'experienc': 218,\n",
              " 'nt download': 406,\n",
              " 'ca nt download': 111,\n",
              " 'photoshop': 439,\n",
              " 'wo': 646,\n",
              " 'googl': 269,\n",
              " 'account': 7,\n",
              " 'wo nt': 647,\n",
              " 'special': 536,\n",
              " 'app help': 50,\n",
              " 'realli like app': 484,\n",
              " 'design need': 162,\n",
              " 'use realli': 616,\n",
              " 'easi use realli': 188,\n",
              " 'aap': 1,\n",
              " 'print': 458,\n",
              " 'option edit': 422,\n",
              " 'navig': 394,\n",
              " 'invit': 313,\n",
              " 'recommend app': 489,\n",
              " 'enjoy': 201,\n",
              " 'suggest': 550,\n",
              " 'realli love': 485,\n",
              " 'realli love app': 486,\n",
              " 'understand': 596,\n",
              " 'ca nt save': 112,\n",
              " 'useless': 620,\n",
              " 'app take': 63,\n",
              " 'insta': 305,\n",
              " 'nice app edit': 402,\n",
              " 'love use': 358,\n",
              " 'app first': 45,\n",
              " 'edit pictur': 196,\n",
              " 'line': 334,\n",
              " 'type': 593,\n",
              " 'due': 178,\n",
              " 'whatev': 641,\n",
              " 'highli': 295,\n",
              " 'highli recommend': 296,\n",
              " 'collag': 131,\n",
              " 'good app make': 265,\n",
              " 'found': 241,\n",
              " 'doubt': 173,\n",
              " 'use full': 609,\n",
              " 'effect': 198,\n",
              " 'mani option': 375,\n",
              " 'help design': 290,\n",
              " 'good applic': 266,\n",
              " 'applic edit': 69,\n",
              " 'email': 199,\n",
              " 'quit': 471,\n",
              " 'app work': 67,\n",
              " 'hard': 285,\n",
              " 'wow': 658,\n",
              " 'new updat': 399,\n",
              " 'app beginn': 33,\n",
              " 'best design app': 96,\n",
              " 'time save': 584,\n",
              " 'much time save': 392,\n",
              " 'wifi': 643,\n",
              " 'app nt': 59,\n",
              " 'ask': 72,\n",
              " 'daili': 152,\n",
              " 'run': 497,\n",
              " 'limit': 333,\n",
              " 'guy': 281,\n",
              " 'amaz design': 22,\n",
              " 'soo': 534,\n",
              " 'app amaz': 30,\n",
              " 'everytim': 213,\n",
              " 'forev': 240,\n",
              " 'take forev': 559,\n",
              " 'make logo': 368,\n",
              " 'simpli': 518,\n",
              " 'word': 650,\n",
              " 'worth': 656,\n",
              " 'took': 587,\n",
              " 'prepar': 454,\n",
              " 'minut': 383,\n",
              " 'except': 216,\n",
              " 'app everyth': 44,\n",
              " 'canva pro': 121,\n",
              " 'nice easi': 403,\n",
              " 'work properli': 652,\n",
              " 'actual': 8,\n",
              " 'mind': 382,\n",
              " 'best app design': 91,\n",
              " 'upgrad': 599,\n",
              " 'amaz applic': 21,\n",
              " 'nt know': 408,\n",
              " 'kindli': 321,\n",
              " 'stun': 545,\n",
              " 'pic': 440,\n",
              " 'take time': 565,\n",
              " 'futur': 252,\n",
              " 'canva team': 122,\n",
              " 'excel app': 215,\n",
              " 'appreci': 70,\n",
              " 'easi make': 183,\n",
              " 'sign': 515,\n",
              " 'alreadi': 16,\n",
              " 'internet connect': 311,\n",
              " 'best app use': 94,\n",
              " 'use thank': 618,\n",
              " 'laggi': 324,\n",
              " 'buy': 108,\n",
              " 'creat canva': 145,\n",
              " 'good design': 267,\n",
              " 'love app help': 353,\n",
              " 'mani thing': 377,\n",
              " 'make poster': 369,\n",
              " 'ever seen': 208,\n",
              " 'app much': 58,\n",
              " 'much better': 390,\n",
              " 'download app': 175,\n",
              " 'upload': 600,\n",
              " 'dont': 172,\n",
              " 'templat design': 571,\n",
              " 'wide': 642,\n",
              " 'help creat': 289,\n",
              " 'app like': 52,\n",
              " 'littl': 336,\n",
              " 'web': 637,\n",
              " 'devic': 167,\n",
              " 'app awesom': 32,\n",
              " 'great easi': 279,\n",
              " 'poor': 449,\n",
              " 'superb app': 555,\n",
              " 'possibl': 450,\n",
              " 'tablet': 557,\n",
              " 'keep good': 318,\n",
              " 'keep good work': 319,\n",
              " 'worst app': 655}"
            ]
          },
          "metadata": {},
          "execution_count": 121
        }
      ],
      "source": [
        "vect.vocabulary_"
      ]
    },
    {
      "cell_type": "code",
      "execution_count": 122,
      "id": "25c98ea8",
      "metadata": {
        "id": "25c98ea8"
      },
      "outputs": [],
      "source": [
        "X_train, X_test, y_train, y_test = train_test_split(X, y, test_size=0.2,\n",
        "                                                   stratify=y, random_state=42)"
      ]
    },
    {
      "cell_type": "code",
      "execution_count": 123,
      "id": "87365566",
      "metadata": {
        "id": "87365566",
        "outputId": "85ccfdda-c8a0-44d5-ab07-ccfdace683ce",
        "colab": {
          "base_uri": "https://localhost:8080/",
          "height": 75
        }
      },
      "outputs": [
        {
          "output_type": "execute_result",
          "data": {
            "text/plain": [
              "LogisticRegression()"
            ],
            "text/html": [
              "<style>#sk-container-id-3 {color: black;background-color: white;}#sk-container-id-3 pre{padding: 0;}#sk-container-id-3 div.sk-toggleable {background-color: white;}#sk-container-id-3 label.sk-toggleable__label {cursor: pointer;display: block;width: 100%;margin-bottom: 0;padding: 0.3em;box-sizing: border-box;text-align: center;}#sk-container-id-3 label.sk-toggleable__label-arrow:before {content: \"▸\";float: left;margin-right: 0.25em;color: #696969;}#sk-container-id-3 label.sk-toggleable__label-arrow:hover:before {color: black;}#sk-container-id-3 div.sk-estimator:hover label.sk-toggleable__label-arrow:before {color: black;}#sk-container-id-3 div.sk-toggleable__content {max-height: 0;max-width: 0;overflow: hidden;text-align: left;background-color: #f0f8ff;}#sk-container-id-3 div.sk-toggleable__content pre {margin: 0.2em;color: black;border-radius: 0.25em;background-color: #f0f8ff;}#sk-container-id-3 input.sk-toggleable__control:checked~div.sk-toggleable__content {max-height: 200px;max-width: 100%;overflow: auto;}#sk-container-id-3 input.sk-toggleable__control:checked~label.sk-toggleable__label-arrow:before {content: \"▾\";}#sk-container-id-3 div.sk-estimator input.sk-toggleable__control:checked~label.sk-toggleable__label {background-color: #d4ebff;}#sk-container-id-3 div.sk-label input.sk-toggleable__control:checked~label.sk-toggleable__label {background-color: #d4ebff;}#sk-container-id-3 input.sk-hidden--visually {border: 0;clip: rect(1px 1px 1px 1px);clip: rect(1px, 1px, 1px, 1px);height: 1px;margin: -1px;overflow: hidden;padding: 0;position: absolute;width: 1px;}#sk-container-id-3 div.sk-estimator {font-family: monospace;background-color: #f0f8ff;border: 1px dotted black;border-radius: 0.25em;box-sizing: border-box;margin-bottom: 0.5em;}#sk-container-id-3 div.sk-estimator:hover {background-color: #d4ebff;}#sk-container-id-3 div.sk-parallel-item::after {content: \"\";width: 100%;border-bottom: 1px solid gray;flex-grow: 1;}#sk-container-id-3 div.sk-label:hover label.sk-toggleable__label {background-color: #d4ebff;}#sk-container-id-3 div.sk-serial::before {content: \"\";position: absolute;border-left: 1px solid gray;box-sizing: border-box;top: 0;bottom: 0;left: 50%;z-index: 0;}#sk-container-id-3 div.sk-serial {display: flex;flex-direction: column;align-items: center;background-color: white;padding-right: 0.2em;padding-left: 0.2em;position: relative;}#sk-container-id-3 div.sk-item {position: relative;z-index: 1;}#sk-container-id-3 div.sk-parallel {display: flex;align-items: stretch;justify-content: center;background-color: white;position: relative;}#sk-container-id-3 div.sk-item::before, #sk-container-id-3 div.sk-parallel-item::before {content: \"\";position: absolute;border-left: 1px solid gray;box-sizing: border-box;top: 0;bottom: 0;left: 50%;z-index: -1;}#sk-container-id-3 div.sk-parallel-item {display: flex;flex-direction: column;z-index: 1;position: relative;background-color: white;}#sk-container-id-3 div.sk-parallel-item:first-child::after {align-self: flex-end;width: 50%;}#sk-container-id-3 div.sk-parallel-item:last-child::after {align-self: flex-start;width: 50%;}#sk-container-id-3 div.sk-parallel-item:only-child::after {width: 0;}#sk-container-id-3 div.sk-dashed-wrapped {border: 1px dashed gray;margin: 0 0.4em 0.5em 0.4em;box-sizing: border-box;padding-bottom: 0.4em;background-color: white;}#sk-container-id-3 div.sk-label label {font-family: monospace;font-weight: bold;display: inline-block;line-height: 1.2em;}#sk-container-id-3 div.sk-label-container {text-align: center;}#sk-container-id-3 div.sk-container {/* jupyter's `normalize.less` sets `[hidden] { display: none; }` but bootstrap.min.css set `[hidden] { display: none !important; }` so we also need the `!important` here to be able to override the default hidden behavior on the sphinx rendered scikit-learn.org. See: https://github.com/scikit-learn/scikit-learn/issues/21755 */display: inline-block !important;position: relative;}#sk-container-id-3 div.sk-text-repr-fallback {display: none;}</style><div id=\"sk-container-id-3\" class=\"sk-top-container\"><div class=\"sk-text-repr-fallback\"><pre>LogisticRegression()</pre><b>In a Jupyter environment, please rerun this cell to show the HTML representation or trust the notebook. <br />On GitHub, the HTML representation is unable to render, please try loading this page with nbviewer.org.</b></div><div class=\"sk-container\" hidden><div class=\"sk-item\"><div class=\"sk-estimator sk-toggleable\"><input class=\"sk-toggleable__control sk-hidden--visually\" id=\"sk-estimator-id-3\" type=\"checkbox\" checked><label for=\"sk-estimator-id-3\" class=\"sk-toggleable__label sk-toggleable__label-arrow\">LogisticRegression</label><div class=\"sk-toggleable__content\"><pre>LogisticRegression()</pre></div></div></div></div></div>"
            ]
          },
          "metadata": {},
          "execution_count": 123
        }
      ],
      "source": [
        "model = LogisticRegression()\n",
        "model.fit(X_train, y_train)"
      ]
    },
    {
      "cell_type": "code",
      "execution_count": 124,
      "id": "300c4a26",
      "metadata": {
        "id": "300c4a26",
        "outputId": "172bbc90-7ee3-43e0-f59d-ce0de6b9e936",
        "colab": {
          "base_uri": "https://localhost:8080/"
        }
      },
      "outputs": [
        {
          "output_type": "stream",
          "name": "stdout",
          "text": [
            "Train Accuracy:0.9716666666666667\n",
            "Test Accuracy:0.8933333333333333\n"
          ]
        }
      ],
      "source": [
        "train_pred = model.predict(X_train)\n",
        "test_pred = model.predict(X_test)\n",
        "print(f\"Train Accuracy:{accuracy_score(y_train, train_pred)}\")\n",
        "print(f\"Test Accuracy:{accuracy_score(y_test, test_pred)}\")"
      ]
    },
    {
      "cell_type": "markdown",
      "source": [
        "### Save both the vectorizer and the model"
      ],
      "metadata": {
        "id": "WRg6cM3iGEoe"
      },
      "id": "WRg6cM3iGEoe"
    },
    {
      "cell_type": "code",
      "execution_count": 125,
      "id": "95d7e794",
      "metadata": {
        "id": "95d7e794",
        "colab": {
          "base_uri": "https://localhost:8080/",
          "height": 193
        },
        "outputId": "4b734083-6632-4c9c-f225-4cde7aeac943"
      },
      "outputs": [
        {
          "output_type": "error",
          "ename": "FileNotFoundError",
          "evalue": "[Errno 2] No such file or directory: 'Output/n_gram.pkl'",
          "traceback": [
            "\u001b[0;31m---------------------------------------------------------------------------\u001b[0m",
            "\u001b[0;31mFileNotFoundError\u001b[0m                         Traceback (most recent call last)",
            "\u001b[0;32m<ipython-input-125-05d7a8118783>\u001b[0m in \u001b[0;36m<cell line: 1>\u001b[0;34m()\u001b[0m\n\u001b[0;32m----> 1\u001b[0;31m \u001b[0;32mwith\u001b[0m \u001b[0mopen\u001b[0m\u001b[0;34m(\u001b[0m\u001b[0;34m\"Output/n_gram.pkl\"\u001b[0m\u001b[0;34m,\u001b[0m \u001b[0;34m\"wb\"\u001b[0m\u001b[0;34m)\u001b[0m \u001b[0;32mas\u001b[0m \u001b[0mf\u001b[0m\u001b[0;34m:\u001b[0m\u001b[0;34m\u001b[0m\u001b[0;34m\u001b[0m\u001b[0m\n\u001b[0m\u001b[1;32m      2\u001b[0m     \u001b[0mpickle\u001b[0m\u001b[0;34m.\u001b[0m\u001b[0mdump\u001b[0m\u001b[0;34m(\u001b[0m\u001b[0mvect\u001b[0m\u001b[0;34m,\u001b[0m \u001b[0mf\u001b[0m\u001b[0;34m)\u001b[0m\u001b[0;34m\u001b[0m\u001b[0;34m\u001b[0m\u001b[0m\n\u001b[1;32m      3\u001b[0m \u001b[0;32mwith\u001b[0m \u001b[0mopen\u001b[0m\u001b[0;34m(\u001b[0m\u001b[0;34m\"Output/n_gram_lr.pkl\"\u001b[0m\u001b[0;34m,\u001b[0m \u001b[0;34m\"wb\"\u001b[0m\u001b[0;34m)\u001b[0m \u001b[0;32mas\u001b[0m \u001b[0mf\u001b[0m\u001b[0;34m:\u001b[0m\u001b[0;34m\u001b[0m\u001b[0;34m\u001b[0m\u001b[0m\n\u001b[1;32m      4\u001b[0m     \u001b[0mpickle\u001b[0m\u001b[0;34m.\u001b[0m\u001b[0mdump\u001b[0m\u001b[0;34m(\u001b[0m\u001b[0mmodel\u001b[0m\u001b[0;34m,\u001b[0m \u001b[0mf\u001b[0m\u001b[0;34m)\u001b[0m\u001b[0;34m\u001b[0m\u001b[0;34m\u001b[0m\u001b[0m\n",
            "\u001b[0;31mFileNotFoundError\u001b[0m: [Errno 2] No such file or directory: 'Output/n_gram.pkl'"
          ]
        }
      ],
      "source": [
        "with open(\"Output/n_gram.pkl\", \"wb\") as f:\n",
        "    pickle.dump(vect, f)\n",
        "with open(\"Output/n_gram_lr.pkl\", \"wb\") as f:\n",
        "    pickle.dump(model, f)"
      ]
    },
    {
      "cell_type": "markdown",
      "id": "d7628808",
      "metadata": {
        "id": "d7628808"
      },
      "source": [
        "# TF-IDF"
      ]
    },
    {
      "cell_type": "markdown",
      "source": [
        "![image.png](data:image/png;base64,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)"
      ],
      "metadata": {
        "id": "P6nF6yNWF4VR"
      },
      "id": "P6nF6yNWF4VR"
    },
    {
      "cell_type": "markdown",
      "source": [
        "Inverse document frequency\n",
        "- TF alone is not sufficient as the word can be a common word and occurs many times in many documents.\n",
        "- so we define a term called Inverse Document Frequency, IDF, which is given by:\n",
        "![image.png](data:image/png;base64,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)\n",
        "\n",
        "\n",
        "\n",
        "\n"
      ],
      "metadata": {
        "id": "ubSMUrMSF5RR"
      },
      "id": "ubSMUrMSF5RR"
    },
    {
      "cell_type": "markdown",
      "source": [
        "The final score we are looking for here is TF-IDF, which is the product of TF and IDF"
      ],
      "metadata": {
        "id": "fum8m3DRGnR0"
      },
      "id": "fum8m3DRGnR0"
    },
    {
      "cell_type": "code",
      "execution_count": 126,
      "id": "6219f56c",
      "metadata": {
        "id": "6219f56c"
      },
      "outputs": [],
      "source": [
        "vect = TfidfVectorizer(min_df=5)"
      ]
    },
    {
      "cell_type": "code",
      "execution_count": 127,
      "id": "f10d308c",
      "metadata": {
        "id": "f10d308c"
      },
      "outputs": [],
      "source": [
        "X = vect.fit_transform(clean_reviews)"
      ]
    },
    {
      "cell_type": "code",
      "execution_count": 128,
      "id": "20cbd328",
      "metadata": {
        "id": "20cbd328",
        "outputId": "4bfaf826-af5a-446a-9b55-6c54ea3647f3",
        "colab": {
          "base_uri": "https://localhost:8080/"
        }
      },
      "outputs": [
        {
          "output_type": "execute_result",
          "data": {
            "text/plain": [
              "(1500, 413)"
            ]
          },
          "metadata": {},
          "execution_count": 128
        }
      ],
      "source": [
        "X.shape"
      ]
    },
    {
      "cell_type": "code",
      "execution_count": 129,
      "id": "9f8ce389",
      "metadata": {
        "id": "9f8ce389"
      },
      "outputs": [],
      "source": [
        "X_train, X_test, y_train, y_test = train_test_split(X, y, test_size=0.2,\n",
        "                                                   stratify=y, random_state=42)"
      ]
    },
    {
      "cell_type": "code",
      "execution_count": 130,
      "id": "4bc8a891",
      "metadata": {
        "id": "4bc8a891",
        "outputId": "d9d98e6a-3d43-4c4a-f79f-05d45cadeea5",
        "colab": {
          "base_uri": "https://localhost:8080/",
          "height": 75
        }
      },
      "outputs": [
        {
          "output_type": "execute_result",
          "data": {
            "text/plain": [
              "LogisticRegression()"
            ],
            "text/html": [
              "<style>#sk-container-id-4 {color: black;background-color: white;}#sk-container-id-4 pre{padding: 0;}#sk-container-id-4 div.sk-toggleable {background-color: white;}#sk-container-id-4 label.sk-toggleable__label {cursor: pointer;display: block;width: 100%;margin-bottom: 0;padding: 0.3em;box-sizing: border-box;text-align: center;}#sk-container-id-4 label.sk-toggleable__label-arrow:before {content: \"▸\";float: left;margin-right: 0.25em;color: #696969;}#sk-container-id-4 label.sk-toggleable__label-arrow:hover:before {color: black;}#sk-container-id-4 div.sk-estimator:hover label.sk-toggleable__label-arrow:before {color: black;}#sk-container-id-4 div.sk-toggleable__content {max-height: 0;max-width: 0;overflow: hidden;text-align: left;background-color: #f0f8ff;}#sk-container-id-4 div.sk-toggleable__content pre {margin: 0.2em;color: black;border-radius: 0.25em;background-color: #f0f8ff;}#sk-container-id-4 input.sk-toggleable__control:checked~div.sk-toggleable__content {max-height: 200px;max-width: 100%;overflow: auto;}#sk-container-id-4 input.sk-toggleable__control:checked~label.sk-toggleable__label-arrow:before {content: \"▾\";}#sk-container-id-4 div.sk-estimator input.sk-toggleable__control:checked~label.sk-toggleable__label {background-color: #d4ebff;}#sk-container-id-4 div.sk-label input.sk-toggleable__control:checked~label.sk-toggleable__label {background-color: #d4ebff;}#sk-container-id-4 input.sk-hidden--visually {border: 0;clip: rect(1px 1px 1px 1px);clip: rect(1px, 1px, 1px, 1px);height: 1px;margin: -1px;overflow: hidden;padding: 0;position: absolute;width: 1px;}#sk-container-id-4 div.sk-estimator {font-family: monospace;background-color: #f0f8ff;border: 1px dotted black;border-radius: 0.25em;box-sizing: border-box;margin-bottom: 0.5em;}#sk-container-id-4 div.sk-estimator:hover {background-color: #d4ebff;}#sk-container-id-4 div.sk-parallel-item::after {content: \"\";width: 100%;border-bottom: 1px solid gray;flex-grow: 1;}#sk-container-id-4 div.sk-label:hover label.sk-toggleable__label {background-color: #d4ebff;}#sk-container-id-4 div.sk-serial::before {content: \"\";position: absolute;border-left: 1px solid gray;box-sizing: border-box;top: 0;bottom: 0;left: 50%;z-index: 0;}#sk-container-id-4 div.sk-serial {display: flex;flex-direction: column;align-items: center;background-color: white;padding-right: 0.2em;padding-left: 0.2em;position: relative;}#sk-container-id-4 div.sk-item {position: relative;z-index: 1;}#sk-container-id-4 div.sk-parallel {display: flex;align-items: stretch;justify-content: center;background-color: white;position: relative;}#sk-container-id-4 div.sk-item::before, #sk-container-id-4 div.sk-parallel-item::before {content: \"\";position: absolute;border-left: 1px solid gray;box-sizing: border-box;top: 0;bottom: 0;left: 50%;z-index: -1;}#sk-container-id-4 div.sk-parallel-item {display: flex;flex-direction: column;z-index: 1;position: relative;background-color: white;}#sk-container-id-4 div.sk-parallel-item:first-child::after {align-self: flex-end;width: 50%;}#sk-container-id-4 div.sk-parallel-item:last-child::after {align-self: flex-start;width: 50%;}#sk-container-id-4 div.sk-parallel-item:only-child::after {width: 0;}#sk-container-id-4 div.sk-dashed-wrapped {border: 1px dashed gray;margin: 0 0.4em 0.5em 0.4em;box-sizing: border-box;padding-bottom: 0.4em;background-color: white;}#sk-container-id-4 div.sk-label label {font-family: monospace;font-weight: bold;display: inline-block;line-height: 1.2em;}#sk-container-id-4 div.sk-label-container {text-align: center;}#sk-container-id-4 div.sk-container {/* jupyter's `normalize.less` sets `[hidden] { display: none; }` but bootstrap.min.css set `[hidden] { display: none !important; }` so we also need the `!important` here to be able to override the default hidden behavior on the sphinx rendered scikit-learn.org. See: https://github.com/scikit-learn/scikit-learn/issues/21755 */display: inline-block !important;position: relative;}#sk-container-id-4 div.sk-text-repr-fallback {display: none;}</style><div id=\"sk-container-id-4\" class=\"sk-top-container\"><div class=\"sk-text-repr-fallback\"><pre>LogisticRegression()</pre><b>In a Jupyter environment, please rerun this cell to show the HTML representation or trust the notebook. <br />On GitHub, the HTML representation is unable to render, please try loading this page with nbviewer.org.</b></div><div class=\"sk-container\" hidden><div class=\"sk-item\"><div class=\"sk-estimator sk-toggleable\"><input class=\"sk-toggleable__control sk-hidden--visually\" id=\"sk-estimator-id-4\" type=\"checkbox\" checked><label for=\"sk-estimator-id-4\" class=\"sk-toggleable__label sk-toggleable__label-arrow\">LogisticRegression</label><div class=\"sk-toggleable__content\"><pre>LogisticRegression()</pre></div></div></div></div></div>"
            ]
          },
          "metadata": {},
          "execution_count": 130
        }
      ],
      "source": [
        "model = LogisticRegression()\n",
        "model.fit(X_train, y_train)"
      ]
    },
    {
      "cell_type": "code",
      "execution_count": 131,
      "id": "7a56989b",
      "metadata": {
        "id": "7a56989b",
        "outputId": "b329d4db-3e4a-4d51-fe98-430044f5563a",
        "colab": {
          "base_uri": "https://localhost:8080/"
        }
      },
      "outputs": [
        {
          "output_type": "stream",
          "name": "stdout",
          "text": [
            "Train Accuracy:0.935\n",
            "Test Accuracy:0.8766666666666667\n"
          ]
        }
      ],
      "source": [
        "train_pred = model.predict(X_train)\n",
        "test_pred = model.predict(X_test)\n",
        "print(f\"Train Accuracy:{accuracy_score(y_train, train_pred)}\")\n",
        "print(f\"Test Accuracy:{accuracy_score(y_test, test_pred)}\")"
      ]
    },
    {
      "cell_type": "markdown",
      "source": [
        "### Save both the vectorizer and the model"
      ],
      "metadata": {
        "id": "iENGZqgDGRx3"
      },
      "id": "iENGZqgDGRx3"
    },
    {
      "cell_type": "code",
      "execution_count": 132,
      "id": "a73fcb8e",
      "metadata": {
        "id": "a73fcb8e",
        "colab": {
          "base_uri": "https://localhost:8080/",
          "height": 193
        },
        "outputId": "dccb183b-93a3-465a-f321-0be63a74043c"
      },
      "outputs": [
        {
          "output_type": "error",
          "ename": "FileNotFoundError",
          "evalue": "[Errno 2] No such file or directory: 'Output/tf-idf.pkl'",
          "traceback": [
            "\u001b[0;31m---------------------------------------------------------------------------\u001b[0m",
            "\u001b[0;31mFileNotFoundError\u001b[0m                         Traceback (most recent call last)",
            "\u001b[0;32m<ipython-input-132-d331095fe6b6>\u001b[0m in \u001b[0;36m<cell line: 1>\u001b[0;34m()\u001b[0m\n\u001b[0;32m----> 1\u001b[0;31m \u001b[0;32mwith\u001b[0m \u001b[0mopen\u001b[0m\u001b[0;34m(\u001b[0m\u001b[0;34m\"Output/tf-idf.pkl\"\u001b[0m\u001b[0;34m,\u001b[0m \u001b[0;34m\"wb\"\u001b[0m\u001b[0;34m)\u001b[0m \u001b[0;32mas\u001b[0m \u001b[0mf\u001b[0m\u001b[0;34m:\u001b[0m\u001b[0;34m\u001b[0m\u001b[0;34m\u001b[0m\u001b[0m\n\u001b[0m\u001b[1;32m      2\u001b[0m     \u001b[0mpickle\u001b[0m\u001b[0;34m.\u001b[0m\u001b[0mdump\u001b[0m\u001b[0;34m(\u001b[0m\u001b[0mvect\u001b[0m\u001b[0;34m,\u001b[0m \u001b[0mf\u001b[0m\u001b[0;34m)\u001b[0m\u001b[0;34m\u001b[0m\u001b[0;34m\u001b[0m\u001b[0m\n\u001b[1;32m      3\u001b[0m \u001b[0;32mwith\u001b[0m \u001b[0mopen\u001b[0m\u001b[0;34m(\u001b[0m\u001b[0;34m\"Output/tf-idf_lr.pkl\"\u001b[0m\u001b[0;34m,\u001b[0m \u001b[0;34m\"wb\"\u001b[0m\u001b[0;34m)\u001b[0m \u001b[0;32mas\u001b[0m \u001b[0mf\u001b[0m\u001b[0;34m:\u001b[0m\u001b[0;34m\u001b[0m\u001b[0;34m\u001b[0m\u001b[0m\n\u001b[1;32m      4\u001b[0m     \u001b[0mpickle\u001b[0m\u001b[0;34m.\u001b[0m\u001b[0mdump\u001b[0m\u001b[0;34m(\u001b[0m\u001b[0mmodel\u001b[0m\u001b[0;34m,\u001b[0m \u001b[0mf\u001b[0m\u001b[0;34m)\u001b[0m\u001b[0;34m\u001b[0m\u001b[0;34m\u001b[0m\u001b[0m\n",
            "\u001b[0;31mFileNotFoundError\u001b[0m: [Errno 2] No such file or directory: 'Output/tf-idf.pkl'"
          ]
        }
      ],
      "source": [
        "with open(\"Output/tf-idf.pkl\", \"wb\") as f:\n",
        "    pickle.dump(vect, f)\n",
        "with open(\"Output/tf-idf_lr.pkl\", \"wb\") as f:\n",
        "    pickle.dump(model, f)"
      ]
    },
    {
      "cell_type": "markdown",
      "id": "df34e89d",
      "metadata": {
        "id": "df34e89d"
      },
      "source": [
        "# Predictions for new reviews"
      ]
    },
    {
      "cell_type": "code",
      "execution_count": 133,
      "id": "863509a4",
      "metadata": {
        "id": "863509a4"
      },
      "outputs": [],
      "source": [
        "# Sample test reviews\n",
        "test_review_1 = '''this is a truly amazing app , best for those who havw\n",
        "content but don't know how to express it in a good and shareable manner.\n",
        "Thanks Team Canva for such a great app.'''\n",
        "test_review_2 = '''Its the worst app ever I save my design lts not save'''"
      ]
    },
    {
      "cell_type": "markdown",
      "id": "a223e782",
      "metadata": {
        "id": "a223e782"
      },
      "source": [
        "### Load the best model (n-gram) and its vectorizer"
      ]
    },
    {
      "cell_type": "code",
      "execution_count": 134,
      "id": "7d4625ae",
      "metadata": {
        "id": "7d4625ae",
        "colab": {
          "base_uri": "https://localhost:8080/",
          "height": 159
        },
        "outputId": "a3e7f124-9255-4740-9f3e-a282ae0a4652"
      },
      "outputs": [
        {
          "output_type": "error",
          "ename": "FileNotFoundError",
          "evalue": "[Errno 2] No such file or directory: 'Output/n_gram.pkl'",
          "traceback": [
            "\u001b[0;31m---------------------------------------------------------------------------\u001b[0m",
            "\u001b[0;31mFileNotFoundError\u001b[0m                         Traceback (most recent call last)",
            "\u001b[0;32m<ipython-input-134-4eb3b3ce15ef>\u001b[0m in \u001b[0;36m<cell line: 1>\u001b[0;34m()\u001b[0m\n\u001b[0;32m----> 1\u001b[0;31m \u001b[0mvect\u001b[0m \u001b[0;34m=\u001b[0m \u001b[0mpickle\u001b[0m\u001b[0;34m.\u001b[0m\u001b[0mload\u001b[0m\u001b[0;34m(\u001b[0m\u001b[0mopen\u001b[0m\u001b[0;34m(\u001b[0m\u001b[0;34m\"Output/n_gram.pkl\"\u001b[0m\u001b[0;34m,\u001b[0m \u001b[0;34m\"rb\"\u001b[0m\u001b[0;34m)\u001b[0m\u001b[0;34m)\u001b[0m\u001b[0;34m\u001b[0m\u001b[0;34m\u001b[0m\u001b[0m\n\u001b[0m\u001b[1;32m      2\u001b[0m \u001b[0mmodel\u001b[0m \u001b[0;34m=\u001b[0m \u001b[0mpickle\u001b[0m\u001b[0;34m.\u001b[0m\u001b[0mload\u001b[0m\u001b[0;34m(\u001b[0m\u001b[0mopen\u001b[0m\u001b[0;34m(\u001b[0m\u001b[0;34m\"Output/n_gram_lr.pkl\"\u001b[0m\u001b[0;34m,\u001b[0m \u001b[0;34m\"rb\"\u001b[0m\u001b[0;34m)\u001b[0m\u001b[0;34m)\u001b[0m\u001b[0;34m\u001b[0m\u001b[0;34m\u001b[0m\u001b[0m\n",
            "\u001b[0;31mFileNotFoundError\u001b[0m: [Errno 2] No such file or directory: 'Output/n_gram.pkl'"
          ]
        }
      ],
      "source": [
        "vect = pickle.load(open(\"Output/n_gram.pkl\", \"rb\"))\n",
        "model = pickle.load(open(\"Output/n_gram_lr.pkl\", \"rb\"))"
      ]
    },
    {
      "cell_type": "markdown",
      "id": "feea92ad",
      "metadata": {
        "id": "feea92ad"
      },
      "source": [
        "### Convert the reivews to a batch of one record"
      ]
    },
    {
      "cell_type": "code",
      "execution_count": 135,
      "id": "49dd7a36",
      "metadata": {
        "id": "49dd7a36"
      },
      "outputs": [],
      "source": [
        "test_review_1 = [test_review_1]\n",
        "test_review_2 = [test_review_2]"
      ]
    },
    {
      "cell_type": "markdown",
      "id": "c0a5d190",
      "metadata": {
        "id": "c0a5d190"
      },
      "source": [
        "### Convert the text to lower case"
      ]
    },
    {
      "cell_type": "code",
      "execution_count": 136,
      "id": "ee67462f",
      "metadata": {
        "id": "ee67462f"
      },
      "outputs": [],
      "source": [
        "test_review_1 = [r.lower() for r in test_review_1]\n",
        "test_review_2 = [r.lower() for r in test_review_2]"
      ]
    },
    {
      "cell_type": "markdown",
      "id": "aa34e36b",
      "metadata": {
        "id": "aa34e36b"
      },
      "source": [
        "### Tokenize the text"
      ]
    },
    {
      "cell_type": "code",
      "execution_count": 137,
      "id": "51045f0b",
      "metadata": {
        "id": "51045f0b"
      },
      "outputs": [],
      "source": [
        "tokens_1 = [word_tokenize(r) for r in test_review_1]\n",
        "tokens_2 = [word_tokenize(r) for r in test_review_2]"
      ]
    },
    {
      "cell_type": "markdown",
      "id": "77ed8cc4",
      "metadata": {
        "id": "77ed8cc4"
      },
      "source": [
        "### Remove stopwords"
      ]
    },
    {
      "cell_type": "code",
      "execution_count": 138,
      "id": "6c11529d",
      "metadata": {
        "id": "6c11529d"
      },
      "outputs": [],
      "source": [
        "tokens_1 = [[word for word in t if word not in sw] for t in tokens_1]\n",
        "tokens_2 = [[word for word in t if word not in sw] for t in tokens_2]"
      ]
    },
    {
      "cell_type": "markdown",
      "id": "20a9c33b",
      "metadata": {
        "id": "20a9c33b"
      },
      "source": [
        "### Remove punctuations"
      ]
    },
    {
      "cell_type": "code",
      "execution_count": 139,
      "id": "b7d47ba1",
      "metadata": {
        "id": "b7d47ba1"
      },
      "outputs": [],
      "source": [
        "tokens_1 = [[\"\".join(tokenizer.tokenize(word)) for word in t\n",
        "             if len(tokenizer.tokenize(word))>0] for t in tokens_1]\n",
        "tokens_2 = [[\"\".join(tokenizer.tokenize(word)) for word in t\n",
        "             if len(tokenizer.tokenize(word))>0] for t in tokens_2]"
      ]
    },
    {
      "cell_type": "markdown",
      "id": "b7490df2",
      "metadata": {
        "id": "b7490df2"
      },
      "source": [
        "### Stemming"
      ]
    },
    {
      "cell_type": "code",
      "execution_count": 140,
      "id": "7210f34b",
      "metadata": {
        "id": "7210f34b"
      },
      "outputs": [],
      "source": [
        "tokens_1 = [[porter.stem(word) for word in t] for t in tokens_1]\n",
        "tokens_2 = [[porter.stem(word) for word in t] for t in tokens_2]"
      ]
    },
    {
      "cell_type": "code",
      "execution_count": 141,
      "id": "b17a5547",
      "metadata": {
        "id": "b17a5547",
        "outputId": "f807064b-8080-4860-d349-c3e91644ba50",
        "colab": {
          "base_uri": "https://localhost:8080/"
        }
      },
      "outputs": [
        {
          "output_type": "execute_result",
          "data": {
            "text/plain": [
              "[['truli',\n",
              "  'amaz',\n",
              "  'app',\n",
              "  'best',\n",
              "  'havw',\n",
              "  'content',\n",
              "  'nt',\n",
              "  'know',\n",
              "  'express',\n",
              "  'good',\n",
              "  'shareabl',\n",
              "  'manner',\n",
              "  'thank',\n",
              "  'team',\n",
              "  'canva',\n",
              "  'great',\n",
              "  'app']]"
            ]
          },
          "metadata": {},
          "execution_count": 141
        }
      ],
      "source": [
        "tokens_1"
      ]
    },
    {
      "cell_type": "code",
      "execution_count": 142,
      "id": "fcad87cc",
      "metadata": {
        "id": "fcad87cc",
        "outputId": "d2cb5bbd-3350-4d85-eeeb-40ee86f44271",
        "colab": {
          "base_uri": "https://localhost:8080/"
        }
      },
      "outputs": [
        {
          "output_type": "execute_result",
          "data": {
            "text/plain": [
              "[\"this is a truly amazing app , best for those who havw\\ncontent but don't know how to express it in a good and shareable manner.\\nthanks team canva for such a great app.\"]"
            ]
          },
          "metadata": {},
          "execution_count": 142
        }
      ],
      "source": [
        "test_review_1"
      ]
    },
    {
      "cell_type": "code",
      "execution_count": 143,
      "id": "9726e122",
      "metadata": {
        "id": "9726e122",
        "outputId": "47c06b82-892b-4768-d32c-c2bdb4d78548",
        "colab": {
          "base_uri": "https://localhost:8080/"
        }
      },
      "outputs": [
        {
          "output_type": "execute_result",
          "data": {
            "text/plain": [
              "[['worst', 'app', 'ever', 'save', 'design', 'lt', 'save']]"
            ]
          },
          "metadata": {},
          "execution_count": 143
        }
      ],
      "source": [
        "tokens_2"
      ]
    },
    {
      "cell_type": "code",
      "execution_count": 144,
      "id": "fee6f1ab",
      "metadata": {
        "id": "fee6f1ab",
        "outputId": "50814379-e15d-40b1-bfd3-cc95fccb592a",
        "colab": {
          "base_uri": "https://localhost:8080/"
        }
      },
      "outputs": [
        {
          "output_type": "execute_result",
          "data": {
            "text/plain": [
              "['its the worst app ever i save my design lts not save']"
            ]
          },
          "metadata": {},
          "execution_count": 144
        }
      ],
      "source": [
        "test_review_2"
      ]
    },
    {
      "cell_type": "markdown",
      "id": "510f3c6e",
      "metadata": {
        "id": "510f3c6e"
      },
      "source": [
        "### Join the tokens to form a sentence"
      ]
    },
    {
      "cell_type": "code",
      "execution_count": 145,
      "id": "488c18e8",
      "metadata": {
        "id": "488c18e8"
      },
      "outputs": [],
      "source": [
        "clean_review_1 = [\" \".join(review) for review in tokens_1]\n",
        "clean_review_2 = [\" \".join(review) for review in tokens_2]"
      ]
    },
    {
      "cell_type": "markdown",
      "id": "86ee5e8a",
      "metadata": {
        "id": "86ee5e8a"
      },
      "source": [
        "### Transform the text using vectorizer and make predictions"
      ]
    },
    {
      "cell_type": "markdown",
      "id": "91ab53e4",
      "metadata": {
        "id": "91ab53e4"
      },
      "source": [
        "### Note: Prediction probability for postive class is high for the first test review"
      ]
    },
    {
      "cell_type": "code",
      "execution_count": 146,
      "id": "4cb6d023",
      "metadata": {
        "id": "4cb6d023"
      },
      "outputs": [],
      "source": [
        "X_test = vect.transform(clean_review_1)"
      ]
    },
    {
      "cell_type": "code",
      "execution_count": 147,
      "id": "67e4e382",
      "metadata": {
        "id": "67e4e382",
        "outputId": "bd59fad2-d752-4569-aa70-bd2c10ff5f55",
        "colab": {
          "base_uri": "https://localhost:8080/"
        }
      },
      "outputs": [
        {
          "output_type": "execute_result",
          "data": {
            "text/plain": [
              "(1, 413)"
            ]
          },
          "metadata": {},
          "execution_count": 147
        }
      ],
      "source": [
        "X_test.shape"
      ]
    },
    {
      "cell_type": "code",
      "execution_count": 148,
      "id": "6d1bc980",
      "metadata": {
        "id": "6d1bc980",
        "outputId": "cda5e367-b5e8-4f63-836e-28164091d4c8",
        "colab": {
          "base_uri": "https://localhost:8080/"
        }
      },
      "outputs": [
        {
          "output_type": "execute_result",
          "data": {
            "text/plain": [
              "array([[0.0795794, 0.9204206]])"
            ]
          },
          "metadata": {},
          "execution_count": 148
        }
      ],
      "source": [
        "model.predict_proba(X_test)"
      ]
    },
    {
      "cell_type": "code",
      "execution_count": 149,
      "id": "7a5e29b9",
      "metadata": {
        "id": "7a5e29b9",
        "outputId": "291801b4-b817-4f67-f33d-b28638cc2dcd",
        "colab": {
          "base_uri": "https://localhost:8080/"
        }
      },
      "outputs": [
        {
          "output_type": "execute_result",
          "data": {
            "text/plain": [
              "array([1])"
            ]
          },
          "metadata": {},
          "execution_count": 149
        }
      ],
      "source": [
        "model.predict(X_test)"
      ]
    },
    {
      "cell_type": "markdown",
      "id": "f8ba62d1",
      "metadata": {
        "id": "f8ba62d1"
      },
      "source": [
        "### Note: Prediction probability for negative class is high for the second test review"
      ]
    },
    {
      "cell_type": "code",
      "execution_count": 150,
      "id": "899b8a47",
      "metadata": {
        "id": "899b8a47"
      },
      "outputs": [],
      "source": [
        "X_test = vect.transform(clean_review_2)"
      ]
    },
    {
      "cell_type": "code",
      "execution_count": 151,
      "id": "796cd905",
      "metadata": {
        "id": "796cd905",
        "outputId": "5b3d02dc-05e7-4fc2-9a58-be381c8cdd6d",
        "colab": {
          "base_uri": "https://localhost:8080/"
        }
      },
      "outputs": [
        {
          "output_type": "execute_result",
          "data": {
            "text/plain": [
              "(1, 413)"
            ]
          },
          "metadata": {},
          "execution_count": 151
        }
      ],
      "source": [
        "X_test.shape"
      ]
    },
    {
      "cell_type": "code",
      "execution_count": 152,
      "id": "ca80f86d",
      "metadata": {
        "id": "ca80f86d",
        "outputId": "47ca35ac-f3ce-4431-bbd9-bd82f7556ed9",
        "colab": {
          "base_uri": "https://localhost:8080/"
        }
      },
      "outputs": [
        {
          "output_type": "execute_result",
          "data": {
            "text/plain": [
              "array([[0.69165233, 0.30834767]])"
            ]
          },
          "metadata": {},
          "execution_count": 152
        }
      ],
      "source": [
        "model.predict_proba(X_test)"
      ]
    },
    {
      "cell_type": "code",
      "execution_count": 153,
      "id": "ad8e7fe1",
      "metadata": {
        "id": "ad8e7fe1",
        "outputId": "f158742c-b772-4077-f22a-794fb8f86eb3",
        "colab": {
          "base_uri": "https://localhost:8080/"
        }
      },
      "outputs": [
        {
          "output_type": "execute_result",
          "data": {
            "text/plain": [
              "array([0])"
            ]
          },
          "metadata": {},
          "execution_count": 153
        }
      ],
      "source": [
        "model.predict(X_test)"
      ]
    }
  ],
  "metadata": {
    "kernelspec": {
      "display_name": "Python 3",
      "language": "python",
      "name": "python3"
    },
    "language_info": {
      "codemirror_mode": {
        "name": "ipython",
        "version": 3
      },
      "file_extension": ".py",
      "mimetype": "text/x-python",
      "name": "python",
      "nbconvert_exporter": "python",
      "pygments_lexer": "ipython3",
      "version": "3.8.8"
    },
    "colab": {
      "provenance": []
    }
  },
  "nbformat": 4,
  "nbformat_minor": 5
}